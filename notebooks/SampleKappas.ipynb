{
 "cells": [
  {
   "cell_type": "code",
   "execution_count": 1,
   "id": "fe3d043a",
   "metadata": {},
   "outputs": [
    {
     "name": "stderr",
     "output_type": "stream",
     "text": [
      "\u001b[32m\u001b[1m  Activating\u001b[22m\u001b[39m project at `~/Work/PhD_Thesis/SNImproved2bbSpectra`\n"
     ]
    }
   ],
   "source": [
    "using Pkg;\n",
    "Pkg.activate(\".\")\n",
    "Pkg.instantiate()"
   ]
  },
  {
   "cell_type": "code",
   "execution_count": 2,
   "id": "8c8109e0",
   "metadata": {},
   "outputs": [],
   "source": [
    "# Pkg.add(\"Revise\")\n",
    "# Pkg.add(\"StatsPlots\")\n",
    "# Pkg.add(\"UnROOT\")\n",
    "# Pkg.add(\"StatsBase\")\n",
    "# Pkg.add(\"LinearAlgebra\")\n",
    "# Pkg.add(\"FHist\")\n",
    "# Pkg.add(\"DataFramesMeta\")\n",
    "# Pkg.add(\"DataFrames\")\n",
    "# Pkg.add(\"Distributions\")\n",
    "# Pkg.add(\"Polynomials\");"
   ]
  },
  {
   "cell_type": "code",
   "execution_count": 3,
   "id": "925b5caf",
   "metadata": {},
   "outputs": [],
   "source": [
    "using Revise\n",
    "using StatsPlots, UnROOT, StatsBase, LinearAlgebra\n",
    "using FHist, DataFramesMeta, Distributions\n",
    "\n",
    "ENV[\"COLUMNS\"] = 2000\n",
    "ENV[\"LINES\"] = 20\n",
    "\n",
    "gr()\n",
    "default(fmt = :jpg)\n",
    "theme(\n",
    "    :dao;\n",
    "    size           = (800, 800),\n",
    "    legend         = :topleft,\n",
    "    guidefontsize  = 16,\n",
    "    tickfontsize   = 12,\n",
    "    titlefontsize  = 16,\n",
    "    legendfontsize = 12,\n",
    "    left_margin    = 4Plots.mm,\n",
    "    right_margin   = 8Plots.mm,\n",
    "    top_margin     = 4Plots.mm,\n",
    "    bottom_margin  = 6Plots.mm,\n",
    "    dpi            = 5,\n",
    "    :colorbar_titlefontsize => 16,\n",
    "    widen = :false\n",
    ");"
   ]
  },
  {
   "cell_type": "code",
   "execution_count": 4,
   "id": "72a81a83",
   "metadata": {},
   "outputs": [],
   "source": [
    "include(\"/home/shoram/Work/PhD_Thesis/SNAngularCorrelation/AngularCorrelations/MiscFuncs.jl\")\n",
    "using .MiscFuncs"
   ]
  },
  {
   "cell_type": "markdown",
   "id": "248bb7d6",
   "metadata": {},
   "source": [
    "Sampling Rejection"
   ]
  },
  {
   "cell_type": "code",
   "execution_count": 5,
   "id": "6752dfbb",
   "metadata": {},
   "outputs": [
    {
     "data": {
      "text/plain": [
       "solve_quadratic (generic function with 1 method)"
      ]
     },
     "execution_count": 5,
     "metadata": {},
     "output_type": "execute_result"
    }
   ],
   "source": [
    "\n",
    "function solve_quadratic(a, b, c)\n",
    "    d  = sqrt(b^2 - 4*a*c)\n",
    "    return (-b - d) / (2*a), (-b + d) / (2*a)\n",
    "end"
   ]
  },
  {
   "cell_type": "code",
   "execution_count": 6,
   "id": "1e2d96b9",
   "metadata": {},
   "outputs": [
    {
     "data": {
      "text/plain": [
       "sample_theta_dif (generic function with 1 method)"
      ]
     },
     "execution_count": 6,
     "metadata": {},
     "output_type": "execute_result"
    }
   ],
   "source": [
    "function sample_theta_dif(_k::Real)\n",
    "    \n",
    "    if (_k == 0.0)\n",
    "        return 0.5\n",
    "    end\n",
    "    \n",
    "    a = _k/4 \n",
    "    b = 1/2\n",
    "    c = 1/2 - _k/4 - rand(Uniform())\n",
    "    θ = solve_quadratic(a,b,c)\n",
    "    if( -1.0 <= θ[1] <= 1.0 )\n",
    "        return θ[1]\n",
    "    elseif ( -1.0 <= θ[2] <= 1.0 )\n",
    "        return θ[2]\n",
    "    else\n",
    "        @show \"soulution is outside of range u ∈ (-1.0, 1.0)\"\n",
    "    end\n",
    "    return -100.0\n",
    "end"
   ]
  },
  {
   "cell_type": "code",
   "execution_count": 39,
   "id": "7fd496da",
   "metadata": {},
   "outputs": [],
   "source": [
    "xs1 = []\n",
    "for _ in 1:1e8\n",
    "    push!(xs1, sample_theta_dif(-0.88))\n",
    "       \n",
    "end"
   ]
  },
  {
   "cell_type": "code",
   "execution_count": 66,
   "id": "11eb08dc",
   "metadata": {},
   "outputs": [],
   "source": [
    "theme(\n",
    "    :dao;\n",
    "    size           = (800, 800),\n",
    "    legend         = :topleft,\n",
    "    guidefontsize  = 24,\n",
    "    tickfontsize   = 24,\n",
    "    titlefontsize  = 24,\n",
    "    legendfontsize = 32,\n",
    "    left_margin    = 4Plots.mm,\n",
    "    right_margin   = 8Plots.mm,\n",
    "    top_margin     = 4Plots.mm,\n",
    "    bottom_margin  = 6Plots.mm,\n",
    "    dpi            = 200,\n",
    "    :fontfamily => \"Helvetica Bold\",\n",
    "    :colorbar_titlefontsize => 20,\n",
    "    widen = :false,\n",
    "    :markerstrokewidth => 1,\n",
    "    :markerstrokecolor => :black,\n",
    ");"
   ]
  },
  {
   "cell_type": "code",
   "execution_count": 40,
   "id": "3a47ebf9",
   "metadata": {},
   "outputs": [
    {
     "data": {
      "text/plain": [
       "Histogram{Float32, 1, Tuple{Vector{Int64}}}\n",
       "edges:\n",
       "  [0, 1, 2, 3, 4, 5, 6, 7, 8, 9  …  171, 172, 173, 174, 175, 176, 177, 178, 179, 180]\n",
       "weights: Float32[885.0, 2803.0, 4635.0, 6437.0, 8293.0, 10220.0, 12405.0, 14561.0, 17034.0, 18995.0  …  269017.0, 240809.0, 212475.0, 185016.0, 156940.0, 128322.0, 100105.0, 71190.0, 43004.0, 14535.0]\n",
       "closed: left\n",
       "isdensity: false"
      ]
     },
     "execution_count": 40,
     "metadata": {},
     "output_type": "execute_result"
    }
   ],
   "source": [
    "sh1 = StatsBase.fit(Histogram{Float32},acosd.(xs1), collect(0:1:180) )\n"
   ]
  },
  {
   "cell_type": "code",
   "execution_count": 41,
   "id": "536d582e",
   "metadata": {},
   "outputs": [
    {
     "data": {
      "text/plain": [
       "180-element Vector{Float32}:\n",
       " 0.0008114204\n",
       " 0.0025699565\n",
       " 0.0042496426\n",
       " 0.005901823\n",
       " 0.0076035135\n",
       " 0.009370301\n",
       " 0.011373638\n",
       " 0.013350387\n",
       " ⋮\n",
       " 0.16963363\n",
       " 0.14389189\n",
       " 0.117653206\n",
       " 0.09178219\n",
       " 0.065271206\n",
       " 0.039428614\n",
       " 0.013326549"
      ]
     },
     "execution_count": 41,
     "metadata": {},
     "output_type": "execute_result"
    }
   ],
   "source": [
    "sh1.weights = sh1.weights ./ maximum(sh1.weights)\n"
   ]
  },
  {
   "cell_type": "code",
   "execution_count": 71,
   "id": "244d344a",
   "metadata": {},
   "outputs": [
    {
     "data": {
      "image/svg+xml": [
       "<?xml version=\"1.0\" encoding=\"utf-8\"?>\n",
       "<svg xmlns=\"http://www.w3.org/2000/svg\" xmlns:xlink=\"http://www.w3.org/1999/xlink\" width=\"1600\" height=\"800\" viewBox=\"0 0 6400 3200\">\n",
       "<defs>\n",
       "  <clipPath id=\"clip970\">\n",
       "    <rect x=\"0\" y=\"0\" width=\"6400\" height=\"3200\"/>\n",
       "  </clipPath>\n",
       "</defs>\n",
       "<path clip-path=\"url(#clip970)\" d=\"M0 3200 L6400 3200 L6400 0 L0 0  Z\" fill=\"#ffffff\" fill-rule=\"evenodd\" fill-opacity=\"1\"/>\n",
       "<defs>\n",
       "  <clipPath id=\"clip971\">\n",
       "    <rect x=\"1280\" y=\"0\" width=\"4481\" height=\"3200\"/>\n",
       "  </clipPath>\n",
       "</defs>\n",
       "<path clip-path=\"url(#clip970)\" d=\"M1087 2576.26 L6163.78 2576.26 L6163.78 141.732 L1087 141.732  Z\" fill=\"#ffffff\" fill-rule=\"evenodd\" fill-opacity=\"1\"/>\n",
       "<defs>\n",
       "  <clipPath id=\"clip972\">\n",
       "    <rect x=\"1086\" y=\"141\" width=\"5078\" height=\"2436\"/>\n",
       "  </clipPath>\n",
       "</defs>\n",
       "<polyline clip-path=\"url(#clip972)\" style=\"stroke:#000000; stroke-linecap:round; stroke-linejoin:round; stroke-width:4.2; stroke-opacity:0.4; fill:none\" points=\"1087,2576.26 1087,141.732 \"/>\n",
       "<polyline clip-path=\"url(#clip972)\" style=\"stroke:#000000; stroke-linecap:round; stroke-linejoin:round; stroke-width:4.2; stroke-opacity:0.4; fill:none\" points=\"1933.13,2576.26 1933.13,141.732 \"/>\n",
       "<polyline clip-path=\"url(#clip972)\" style=\"stroke:#000000; stroke-linecap:round; stroke-linejoin:round; stroke-width:4.2; stroke-opacity:0.4; fill:none\" points=\"2779.26,2576.26 2779.26,141.732 \"/>\n",
       "<polyline clip-path=\"url(#clip972)\" style=\"stroke:#000000; stroke-linecap:round; stroke-linejoin:round; stroke-width:4.2; stroke-opacity:0.4; fill:none\" points=\"3625.39,2576.26 3625.39,141.732 \"/>\n",
       "<polyline clip-path=\"url(#clip972)\" style=\"stroke:#000000; stroke-linecap:round; stroke-linejoin:round; stroke-width:4.2; stroke-opacity:0.4; fill:none\" points=\"4471.52,2576.26 4471.52,141.732 \"/>\n",
       "<polyline clip-path=\"url(#clip972)\" style=\"stroke:#000000; stroke-linecap:round; stroke-linejoin:round; stroke-width:4.2; stroke-opacity:0.4; fill:none\" points=\"5317.65,2576.26 5317.65,141.732 \"/>\n",
       "<polyline clip-path=\"url(#clip972)\" style=\"stroke:#000000; stroke-linecap:round; stroke-linejoin:round; stroke-width:4.2; stroke-opacity:0.4; fill:none\" points=\"6163.78,2576.26 6163.78,141.732 \"/>\n",
       "<polyline clip-path=\"url(#clip972)\" style=\"stroke:#000000; stroke-linecap:round; stroke-linejoin:round; stroke-width:3; stroke-opacity:0.06; fill:none\" points=\"1256.22,2576.26 1256.22,141.732 \"/>\n",
       "<polyline clip-path=\"url(#clip972)\" style=\"stroke:#000000; stroke-linecap:round; stroke-linejoin:round; stroke-width:3; stroke-opacity:0.06; fill:none\" points=\"1425.45,2576.26 1425.45,141.732 \"/>\n",
       "<polyline clip-path=\"url(#clip972)\" style=\"stroke:#000000; stroke-linecap:round; stroke-linejoin:round; stroke-width:3; stroke-opacity:0.06; fill:none\" points=\"1594.68,2576.26 1594.68,141.732 \"/>\n",
       "<polyline clip-path=\"url(#clip972)\" style=\"stroke:#000000; stroke-linecap:round; stroke-linejoin:round; stroke-width:3; stroke-opacity:0.06; fill:none\" points=\"1763.9,2576.26 1763.9,141.732 \"/>\n",
       "<polyline clip-path=\"url(#clip972)\" style=\"stroke:#000000; stroke-linecap:round; stroke-linejoin:round; stroke-width:3; stroke-opacity:0.06; fill:none\" points=\"2102.35,2576.26 2102.35,141.732 \"/>\n",
       "<polyline clip-path=\"url(#clip972)\" style=\"stroke:#000000; stroke-linecap:round; stroke-linejoin:round; stroke-width:3; stroke-opacity:0.06; fill:none\" points=\"2271.58,2576.26 2271.58,141.732 \"/>\n",
       "<polyline clip-path=\"url(#clip972)\" style=\"stroke:#000000; stroke-linecap:round; stroke-linejoin:round; stroke-width:3; stroke-opacity:0.06; fill:none\" points=\"2440.81,2576.26 2440.81,141.732 \"/>\n",
       "<polyline clip-path=\"url(#clip972)\" style=\"stroke:#000000; stroke-linecap:round; stroke-linejoin:round; stroke-width:3; stroke-opacity:0.06; fill:none\" points=\"2610.03,2576.26 2610.03,141.732 \"/>\n",
       "<polyline clip-path=\"url(#clip972)\" style=\"stroke:#000000; stroke-linecap:round; stroke-linejoin:round; stroke-width:3; stroke-opacity:0.06; fill:none\" points=\"2948.48,2576.26 2948.48,141.732 \"/>\n",
       "<polyline clip-path=\"url(#clip972)\" style=\"stroke:#000000; stroke-linecap:round; stroke-linejoin:round; stroke-width:3; stroke-opacity:0.06; fill:none\" points=\"3117.71,2576.26 3117.71,141.732 \"/>\n",
       "<polyline clip-path=\"url(#clip972)\" style=\"stroke:#000000; stroke-linecap:round; stroke-linejoin:round; stroke-width:3; stroke-opacity:0.06; fill:none\" points=\"3286.94,2576.26 3286.94,141.732 \"/>\n",
       "<polyline clip-path=\"url(#clip972)\" style=\"stroke:#000000; stroke-linecap:round; stroke-linejoin:round; stroke-width:3; stroke-opacity:0.06; fill:none\" points=\"3456.16,2576.26 3456.16,141.732 \"/>\n",
       "<polyline clip-path=\"url(#clip972)\" style=\"stroke:#000000; stroke-linecap:round; stroke-linejoin:round; stroke-width:3; stroke-opacity:0.06; fill:none\" points=\"3794.61,2576.26 3794.61,141.732 \"/>\n",
       "<polyline clip-path=\"url(#clip972)\" style=\"stroke:#000000; stroke-linecap:round; stroke-linejoin:round; stroke-width:3; stroke-opacity:0.06; fill:none\" points=\"3963.84,2576.26 3963.84,141.732 \"/>\n",
       "<polyline clip-path=\"url(#clip972)\" style=\"stroke:#000000; stroke-linecap:round; stroke-linejoin:round; stroke-width:3; stroke-opacity:0.06; fill:none\" points=\"4133.07,2576.26 4133.07,141.732 \"/>\n",
       "<polyline clip-path=\"url(#clip972)\" style=\"stroke:#000000; stroke-linecap:round; stroke-linejoin:round; stroke-width:3; stroke-opacity:0.06; fill:none\" points=\"4302.29,2576.26 4302.29,141.732 \"/>\n",
       "<polyline clip-path=\"url(#clip972)\" style=\"stroke:#000000; stroke-linecap:round; stroke-linejoin:round; stroke-width:3; stroke-opacity:0.06; fill:none\" points=\"4640.75,2576.26 4640.75,141.732 \"/>\n",
       "<polyline clip-path=\"url(#clip972)\" style=\"stroke:#000000; stroke-linecap:round; stroke-linejoin:round; stroke-width:3; stroke-opacity:0.06; fill:none\" points=\"4809.97,2576.26 4809.97,141.732 \"/>\n",
       "<polyline clip-path=\"url(#clip972)\" style=\"stroke:#000000; stroke-linecap:round; stroke-linejoin:round; stroke-width:3; stroke-opacity:0.06; fill:none\" points=\"4979.2,2576.26 4979.2,141.732 \"/>\n",
       "<polyline clip-path=\"url(#clip972)\" style=\"stroke:#000000; stroke-linecap:round; stroke-linejoin:round; stroke-width:3; stroke-opacity:0.06; fill:none\" points=\"5148.42,2576.26 5148.42,141.732 \"/>\n",
       "<polyline clip-path=\"url(#clip972)\" style=\"stroke:#000000; stroke-linecap:round; stroke-linejoin:round; stroke-width:3; stroke-opacity:0.06; fill:none\" points=\"5486.88,2576.26 5486.88,141.732 \"/>\n",
       "<polyline clip-path=\"url(#clip972)\" style=\"stroke:#000000; stroke-linecap:round; stroke-linejoin:round; stroke-width:3; stroke-opacity:0.06; fill:none\" points=\"5656.1,2576.26 5656.1,141.732 \"/>\n",
       "<polyline clip-path=\"url(#clip972)\" style=\"stroke:#000000; stroke-linecap:round; stroke-linejoin:round; stroke-width:3; stroke-opacity:0.06; fill:none\" points=\"5825.33,2576.26 5825.33,141.732 \"/>\n",
       "<polyline clip-path=\"url(#clip972)\" style=\"stroke:#000000; stroke-linecap:round; stroke-linejoin:round; stroke-width:3; stroke-opacity:0.06; fill:none\" points=\"5994.55,2576.26 5994.55,141.732 \"/>\n",
       "<polyline clip-path=\"url(#clip970)\" style=\"stroke:#000000; stroke-linecap:round; stroke-linejoin:round; stroke-width:6; stroke-opacity:1; fill:none\" points=\"1087,2576.26 6163.78,2576.26 \"/>\n",
       "<polyline clip-path=\"url(#clip970)\" style=\"stroke:#000000; stroke-linecap:round; stroke-linejoin:round; stroke-width:6; stroke-opacity:1; fill:none\" points=\"1087,141.732 6163.78,141.732 \"/>\n",
       "<polyline clip-path=\"url(#clip970)\" style=\"stroke:#000000; stroke-linecap:round; stroke-linejoin:round; stroke-width:6; stroke-opacity:1; fill:none\" points=\"1087,2576.26 1087,2557.36 \"/>\n",
       "<polyline clip-path=\"url(#clip970)\" style=\"stroke:#000000; stroke-linecap:round; stroke-linejoin:round; stroke-width:6; stroke-opacity:1; fill:none\" points=\"1933.13,2576.26 1933.13,2557.36 \"/>\n",
       "<polyline clip-path=\"url(#clip970)\" style=\"stroke:#000000; stroke-linecap:round; stroke-linejoin:round; stroke-width:6; stroke-opacity:1; fill:none\" points=\"2779.26,2576.26 2779.26,2557.36 \"/>\n",
       "<polyline clip-path=\"url(#clip970)\" style=\"stroke:#000000; stroke-linecap:round; stroke-linejoin:round; stroke-width:6; stroke-opacity:1; fill:none\" points=\"3625.39,2576.26 3625.39,2557.36 \"/>\n",
       "<polyline clip-path=\"url(#clip970)\" style=\"stroke:#000000; stroke-linecap:round; stroke-linejoin:round; stroke-width:6; stroke-opacity:1; fill:none\" points=\"4471.52,2576.26 4471.52,2557.36 \"/>\n",
       "<polyline clip-path=\"url(#clip970)\" style=\"stroke:#000000; stroke-linecap:round; stroke-linejoin:round; stroke-width:6; stroke-opacity:1; fill:none\" points=\"5317.65,2576.26 5317.65,2557.36 \"/>\n",
       "<polyline clip-path=\"url(#clip970)\" style=\"stroke:#000000; stroke-linecap:round; stroke-linejoin:round; stroke-width:6; stroke-opacity:1; fill:none\" points=\"6163.78,2576.26 6163.78,2557.36 \"/>\n",
       "<polyline clip-path=\"url(#clip970)\" style=\"stroke:#000000; stroke-linecap:round; stroke-linejoin:round; stroke-width:6; stroke-opacity:1; fill:none\" points=\"1256.22,2576.26 1256.22,2566.81 \"/>\n",
       "<polyline clip-path=\"url(#clip970)\" style=\"stroke:#000000; stroke-linecap:round; stroke-linejoin:round; stroke-width:6; stroke-opacity:1; fill:none\" points=\"1425.45,2576.26 1425.45,2566.81 \"/>\n",
       "<polyline clip-path=\"url(#clip970)\" style=\"stroke:#000000; stroke-linecap:round; stroke-linejoin:round; stroke-width:6; stroke-opacity:1; fill:none\" points=\"1594.68,2576.26 1594.68,2566.81 \"/>\n",
       "<polyline clip-path=\"url(#clip970)\" style=\"stroke:#000000; stroke-linecap:round; stroke-linejoin:round; stroke-width:6; stroke-opacity:1; fill:none\" points=\"1763.9,2576.26 1763.9,2566.81 \"/>\n",
       "<polyline clip-path=\"url(#clip970)\" style=\"stroke:#000000; stroke-linecap:round; stroke-linejoin:round; stroke-width:6; stroke-opacity:1; fill:none\" points=\"2102.35,2576.26 2102.35,2566.81 \"/>\n",
       "<polyline clip-path=\"url(#clip970)\" style=\"stroke:#000000; stroke-linecap:round; stroke-linejoin:round; stroke-width:6; stroke-opacity:1; fill:none\" points=\"2271.58,2576.26 2271.58,2566.81 \"/>\n",
       "<polyline clip-path=\"url(#clip970)\" style=\"stroke:#000000; stroke-linecap:round; stroke-linejoin:round; stroke-width:6; stroke-opacity:1; fill:none\" points=\"2440.81,2576.26 2440.81,2566.81 \"/>\n",
       "<polyline clip-path=\"url(#clip970)\" style=\"stroke:#000000; stroke-linecap:round; stroke-linejoin:round; stroke-width:6; stroke-opacity:1; fill:none\" points=\"2610.03,2576.26 2610.03,2566.81 \"/>\n",
       "<polyline clip-path=\"url(#clip970)\" style=\"stroke:#000000; stroke-linecap:round; stroke-linejoin:round; stroke-width:6; stroke-opacity:1; fill:none\" points=\"2948.48,2576.26 2948.48,2566.81 \"/>\n",
       "<polyline clip-path=\"url(#clip970)\" style=\"stroke:#000000; stroke-linecap:round; stroke-linejoin:round; stroke-width:6; stroke-opacity:1; fill:none\" points=\"3117.71,2576.26 3117.71,2566.81 \"/>\n",
       "<polyline clip-path=\"url(#clip970)\" style=\"stroke:#000000; stroke-linecap:round; stroke-linejoin:round; stroke-width:6; stroke-opacity:1; fill:none\" points=\"3286.94,2576.26 3286.94,2566.81 \"/>\n",
       "<polyline clip-path=\"url(#clip970)\" style=\"stroke:#000000; stroke-linecap:round; stroke-linejoin:round; stroke-width:6; stroke-opacity:1; fill:none\" points=\"3456.16,2576.26 3456.16,2566.81 \"/>\n",
       "<polyline clip-path=\"url(#clip970)\" style=\"stroke:#000000; stroke-linecap:round; stroke-linejoin:round; stroke-width:6; stroke-opacity:1; fill:none\" points=\"3794.61,2576.26 3794.61,2566.81 \"/>\n",
       "<polyline clip-path=\"url(#clip970)\" style=\"stroke:#000000; stroke-linecap:round; stroke-linejoin:round; stroke-width:6; stroke-opacity:1; fill:none\" points=\"3963.84,2576.26 3963.84,2566.81 \"/>\n",
       "<polyline clip-path=\"url(#clip970)\" style=\"stroke:#000000; stroke-linecap:round; stroke-linejoin:round; stroke-width:6; stroke-opacity:1; fill:none\" points=\"4133.07,2576.26 4133.07,2566.81 \"/>\n",
       "<polyline clip-path=\"url(#clip970)\" style=\"stroke:#000000; stroke-linecap:round; stroke-linejoin:round; stroke-width:6; stroke-opacity:1; fill:none\" points=\"4302.29,2576.26 4302.29,2566.81 \"/>\n",
       "<polyline clip-path=\"url(#clip970)\" style=\"stroke:#000000; stroke-linecap:round; stroke-linejoin:round; stroke-width:6; stroke-opacity:1; fill:none\" points=\"4640.75,2576.26 4640.75,2566.81 \"/>\n",
       "<polyline clip-path=\"url(#clip970)\" style=\"stroke:#000000; stroke-linecap:round; stroke-linejoin:round; stroke-width:6; stroke-opacity:1; fill:none\" points=\"4809.97,2576.26 4809.97,2566.81 \"/>\n",
       "<polyline clip-path=\"url(#clip970)\" style=\"stroke:#000000; stroke-linecap:round; stroke-linejoin:round; stroke-width:6; stroke-opacity:1; fill:none\" points=\"4979.2,2576.26 4979.2,2566.81 \"/>\n",
       "<polyline clip-path=\"url(#clip970)\" style=\"stroke:#000000; stroke-linecap:round; stroke-linejoin:round; stroke-width:6; stroke-opacity:1; fill:none\" points=\"5148.42,2576.26 5148.42,2566.81 \"/>\n",
       "<polyline clip-path=\"url(#clip970)\" style=\"stroke:#000000; stroke-linecap:round; stroke-linejoin:round; stroke-width:6; stroke-opacity:1; fill:none\" points=\"5486.88,2576.26 5486.88,2566.81 \"/>\n",
       "<polyline clip-path=\"url(#clip970)\" style=\"stroke:#000000; stroke-linecap:round; stroke-linejoin:round; stroke-width:6; stroke-opacity:1; fill:none\" points=\"5656.1,2576.26 5656.1,2566.81 \"/>\n",
       "<polyline clip-path=\"url(#clip970)\" style=\"stroke:#000000; stroke-linecap:round; stroke-linejoin:round; stroke-width:6; stroke-opacity:1; fill:none\" points=\"5825.33,2576.26 5825.33,2566.81 \"/>\n",
       "<polyline clip-path=\"url(#clip970)\" style=\"stroke:#000000; stroke-linecap:round; stroke-linejoin:round; stroke-width:6; stroke-opacity:1; fill:none\" points=\"5994.55,2576.26 5994.55,2566.81 \"/>\n",
       "<g clip-path=\"url(#clip970)\">\n",
       "<text style=\"fill:#000000; fill-opacity:1; font-family:Arial,Helvetica Neue,Helvetica,sans-serif; font-size:214px; font-weight:bold; text-anchor:middle;\" transform=\"rotate(0, 1087, 2818.63)\" x=\"1087\" y=\"2818.63\">0</text>\n",
       "</g>\n",
       "<g clip-path=\"url(#clip970)\">\n",
       "<text style=\"fill:#000000; fill-opacity:1; font-family:Arial,Helvetica Neue,Helvetica,sans-serif; font-size:214px; font-weight:bold; text-anchor:middle;\" transform=\"rotate(0, 1933.13, 2818.63)\" x=\"1933.13\" y=\"2818.63\">30</text>\n",
       "</g>\n",
       "<g clip-path=\"url(#clip970)\">\n",
       "<text style=\"fill:#000000; fill-opacity:1; font-family:Arial,Helvetica Neue,Helvetica,sans-serif; font-size:214px; font-weight:bold; text-anchor:middle;\" transform=\"rotate(0, 2779.26, 2818.63)\" x=\"2779.26\" y=\"2818.63\">60</text>\n",
       "</g>\n",
       "<g clip-path=\"url(#clip970)\">\n",
       "<text style=\"fill:#000000; fill-opacity:1; font-family:Arial,Helvetica Neue,Helvetica,sans-serif; font-size:214px; font-weight:bold; text-anchor:middle;\" transform=\"rotate(0, 3625.39, 2818.63)\" x=\"3625.39\" y=\"2818.63\">90</text>\n",
       "</g>\n",
       "<g clip-path=\"url(#clip970)\">\n",
       "<text style=\"fill:#000000; fill-opacity:1; font-family:Arial,Helvetica Neue,Helvetica,sans-serif; font-size:214px; font-weight:bold; text-anchor:middle;\" transform=\"rotate(0, 4471.52, 2818.63)\" x=\"4471.52\" y=\"2818.63\">120</text>\n",
       "</g>\n",
       "<g clip-path=\"url(#clip970)\">\n",
       "<text style=\"fill:#000000; fill-opacity:1; font-family:Arial,Helvetica Neue,Helvetica,sans-serif; font-size:214px; font-weight:bold; text-anchor:middle;\" transform=\"rotate(0, 5317.65, 2818.63)\" x=\"5317.65\" y=\"2818.63\">150</text>\n",
       "</g>\n",
       "<g clip-path=\"url(#clip970)\">\n",
       "<text style=\"fill:#000000; fill-opacity:1; font-family:Arial,Helvetica Neue,Helvetica,sans-serif; font-size:214px; font-weight:bold; text-anchor:middle;\" transform=\"rotate(0, 6163.78, 2818.63)\" x=\"6163.78\" y=\"2818.63\">180</text>\n",
       "</g>\n",
       "<g clip-path=\"url(#clip970)\">\n",
       "<text style=\"fill:#000000; fill-opacity:1; font-family:Arial,Helvetica Neue,Helvetica,sans-serif; font-size:214px; font-weight:bold; text-anchor:middle;\" transform=\"rotate(0, 3625.39, 3093.75)\" x=\"3625.39\" y=\"3093.75\">ϑ [°]</text>\n",
       "</g>\n",
       "<polyline clip-path=\"url(#clip972)\" style=\"stroke:#000000; stroke-linecap:round; stroke-linejoin:round; stroke-width:4.2; stroke-opacity:0.4; fill:none\" points=\"1087,2576.26 6163.78,2576.26 \"/>\n",
       "<polyline clip-path=\"url(#clip972)\" style=\"stroke:#000000; stroke-linecap:round; stroke-linejoin:round; stroke-width:4.2; stroke-opacity:0.4; fill:none\" points=\"1087,2022.96 6163.78,2022.96 \"/>\n",
       "<polyline clip-path=\"url(#clip972)\" style=\"stroke:#000000; stroke-linecap:round; stroke-linejoin:round; stroke-width:4.2; stroke-opacity:0.4; fill:none\" points=\"1087,1469.65 6163.78,1469.65 \"/>\n",
       "<polyline clip-path=\"url(#clip972)\" style=\"stroke:#000000; stroke-linecap:round; stroke-linejoin:round; stroke-width:4.2; stroke-opacity:0.4; fill:none\" points=\"1087,916.354 6163.78,916.354 \"/>\n",
       "<polyline clip-path=\"url(#clip972)\" style=\"stroke:#000000; stroke-linecap:round; stroke-linejoin:round; stroke-width:4.2; stroke-opacity:0.4; fill:none\" points=\"1087,363.053 6163.78,363.053 \"/>\n",
       "<polyline clip-path=\"url(#clip972)\" style=\"stroke:#000000; stroke-linecap:round; stroke-linejoin:round; stroke-width:3; stroke-opacity:0.06; fill:none\" points=\"1087,2465.6 6163.78,2465.6 \"/>\n",
       "<polyline clip-path=\"url(#clip972)\" style=\"stroke:#000000; stroke-linecap:round; stroke-linejoin:round; stroke-width:3; stroke-opacity:0.06; fill:none\" points=\"1087,2354.94 6163.78,2354.94 \"/>\n",
       "<polyline clip-path=\"url(#clip972)\" style=\"stroke:#000000; stroke-linecap:round; stroke-linejoin:round; stroke-width:3; stroke-opacity:0.06; fill:none\" points=\"1087,2244.28 6163.78,2244.28 \"/>\n",
       "<polyline clip-path=\"url(#clip972)\" style=\"stroke:#000000; stroke-linecap:round; stroke-linejoin:round; stroke-width:3; stroke-opacity:0.06; fill:none\" points=\"1087,2133.62 6163.78,2133.62 \"/>\n",
       "<polyline clip-path=\"url(#clip972)\" style=\"stroke:#000000; stroke-linecap:round; stroke-linejoin:round; stroke-width:3; stroke-opacity:0.06; fill:none\" points=\"1087,1912.3 6163.78,1912.3 \"/>\n",
       "<polyline clip-path=\"url(#clip972)\" style=\"stroke:#000000; stroke-linecap:round; stroke-linejoin:round; stroke-width:3; stroke-opacity:0.06; fill:none\" points=\"1087,1801.64 6163.78,1801.64 \"/>\n",
       "<polyline clip-path=\"url(#clip972)\" style=\"stroke:#000000; stroke-linecap:round; stroke-linejoin:round; stroke-width:3; stroke-opacity:0.06; fill:none\" points=\"1087,1690.97 6163.78,1690.97 \"/>\n",
       "<polyline clip-path=\"url(#clip972)\" style=\"stroke:#000000; stroke-linecap:round; stroke-linejoin:round; stroke-width:3; stroke-opacity:0.06; fill:none\" points=\"1087,1580.31 6163.78,1580.31 \"/>\n",
       "<polyline clip-path=\"url(#clip972)\" style=\"stroke:#000000; stroke-linecap:round; stroke-linejoin:round; stroke-width:3; stroke-opacity:0.06; fill:none\" points=\"1087,1358.99 6163.78,1358.99 \"/>\n",
       "<polyline clip-path=\"url(#clip972)\" style=\"stroke:#000000; stroke-linecap:round; stroke-linejoin:round; stroke-width:3; stroke-opacity:0.06; fill:none\" points=\"1087,1248.33 6163.78,1248.33 \"/>\n",
       "<polyline clip-path=\"url(#clip972)\" style=\"stroke:#000000; stroke-linecap:round; stroke-linejoin:round; stroke-width:3; stroke-opacity:0.06; fill:none\" points=\"1087,1137.67 6163.78,1137.67 \"/>\n",
       "<polyline clip-path=\"url(#clip972)\" style=\"stroke:#000000; stroke-linecap:round; stroke-linejoin:round; stroke-width:3; stroke-opacity:0.06; fill:none\" points=\"1087,1027.01 6163.78,1027.01 \"/>\n",
       "<polyline clip-path=\"url(#clip972)\" style=\"stroke:#000000; stroke-linecap:round; stroke-linejoin:round; stroke-width:3; stroke-opacity:0.06; fill:none\" points=\"1087,805.693 6163.78,805.693 \"/>\n",
       "<polyline clip-path=\"url(#clip972)\" style=\"stroke:#000000; stroke-linecap:round; stroke-linejoin:round; stroke-width:3; stroke-opacity:0.06; fill:none\" points=\"1087,695.033 6163.78,695.033 \"/>\n",
       "<polyline clip-path=\"url(#clip972)\" style=\"stroke:#000000; stroke-linecap:round; stroke-linejoin:round; stroke-width:3; stroke-opacity:0.06; fill:none\" points=\"1087,584.373 6163.78,584.373 \"/>\n",
       "<polyline clip-path=\"url(#clip972)\" style=\"stroke:#000000; stroke-linecap:round; stroke-linejoin:round; stroke-width:3; stroke-opacity:0.06; fill:none\" points=\"1087,473.713 6163.78,473.713 \"/>\n",
       "<polyline clip-path=\"url(#clip972)\" style=\"stroke:#000000; stroke-linecap:round; stroke-linejoin:round; stroke-width:3; stroke-opacity:0.06; fill:none\" points=\"1087,252.392 6163.78,252.392 \"/>\n",
       "<polyline clip-path=\"url(#clip972)\" style=\"stroke:#000000; stroke-linecap:round; stroke-linejoin:round; stroke-width:3; stroke-opacity:0.06; fill:none\" points=\"1087,141.732 6163.78,141.732 \"/>\n",
       "<polyline clip-path=\"url(#clip970)\" style=\"stroke:#000000; stroke-linecap:round; stroke-linejoin:round; stroke-width:6; stroke-opacity:1; fill:none\" points=\"1087,2576.26 1087,141.732 \"/>\n",
       "<polyline clip-path=\"url(#clip970)\" style=\"stroke:#000000; stroke-linecap:round; stroke-linejoin:round; stroke-width:6; stroke-opacity:1; fill:none\" points=\"6163.78,2576.26 6163.78,141.732 \"/>\n",
       "<polyline clip-path=\"url(#clip970)\" style=\"stroke:#000000; stroke-linecap:round; stroke-linejoin:round; stroke-width:6; stroke-opacity:1; fill:none\" points=\"1087,2576.26 1105.9,2576.26 \"/>\n",
       "<polyline clip-path=\"url(#clip970)\" style=\"stroke:#000000; stroke-linecap:round; stroke-linejoin:round; stroke-width:6; stroke-opacity:1; fill:none\" points=\"1087,2022.96 1105.9,2022.96 \"/>\n",
       "<polyline clip-path=\"url(#clip970)\" style=\"stroke:#000000; stroke-linecap:round; stroke-linejoin:round; stroke-width:6; stroke-opacity:1; fill:none\" points=\"1087,1469.65 1105.9,1469.65 \"/>\n",
       "<polyline clip-path=\"url(#clip970)\" style=\"stroke:#000000; stroke-linecap:round; stroke-linejoin:round; stroke-width:6; stroke-opacity:1; fill:none\" points=\"1087,916.354 1105.9,916.354 \"/>\n",
       "<polyline clip-path=\"url(#clip970)\" style=\"stroke:#000000; stroke-linecap:round; stroke-linejoin:round; stroke-width:6; stroke-opacity:1; fill:none\" points=\"1087,363.053 1105.9,363.053 \"/>\n",
       "<polyline clip-path=\"url(#clip970)\" style=\"stroke:#000000; stroke-linecap:round; stroke-linejoin:round; stroke-width:6; stroke-opacity:1; fill:none\" points=\"1087,2465.6 1096.45,2465.6 \"/>\n",
       "<polyline clip-path=\"url(#clip970)\" style=\"stroke:#000000; stroke-linecap:round; stroke-linejoin:round; stroke-width:6; stroke-opacity:1; fill:none\" points=\"1087,2354.94 1096.45,2354.94 \"/>\n",
       "<polyline clip-path=\"url(#clip970)\" style=\"stroke:#000000; stroke-linecap:round; stroke-linejoin:round; stroke-width:6; stroke-opacity:1; fill:none\" points=\"1087,2244.28 1096.45,2244.28 \"/>\n",
       "<polyline clip-path=\"url(#clip970)\" style=\"stroke:#000000; stroke-linecap:round; stroke-linejoin:round; stroke-width:6; stroke-opacity:1; fill:none\" points=\"1087,2133.62 1096.45,2133.62 \"/>\n",
       "<polyline clip-path=\"url(#clip970)\" style=\"stroke:#000000; stroke-linecap:round; stroke-linejoin:round; stroke-width:6; stroke-opacity:1; fill:none\" points=\"1087,1912.3 1096.45,1912.3 \"/>\n",
       "<polyline clip-path=\"url(#clip970)\" style=\"stroke:#000000; stroke-linecap:round; stroke-linejoin:round; stroke-width:6; stroke-opacity:1; fill:none\" points=\"1087,1801.64 1096.45,1801.64 \"/>\n",
       "<polyline clip-path=\"url(#clip970)\" style=\"stroke:#000000; stroke-linecap:round; stroke-linejoin:round; stroke-width:6; stroke-opacity:1; fill:none\" points=\"1087,1690.97 1096.45,1690.97 \"/>\n",
       "<polyline clip-path=\"url(#clip970)\" style=\"stroke:#000000; stroke-linecap:round; stroke-linejoin:round; stroke-width:6; stroke-opacity:1; fill:none\" points=\"1087,1580.31 1096.45,1580.31 \"/>\n",
       "<polyline clip-path=\"url(#clip970)\" style=\"stroke:#000000; stroke-linecap:round; stroke-linejoin:round; stroke-width:6; stroke-opacity:1; fill:none\" points=\"1087,1358.99 1096.45,1358.99 \"/>\n",
       "<polyline clip-path=\"url(#clip970)\" style=\"stroke:#000000; stroke-linecap:round; stroke-linejoin:round; stroke-width:6; stroke-opacity:1; fill:none\" points=\"1087,1248.33 1096.45,1248.33 \"/>\n",
       "<polyline clip-path=\"url(#clip970)\" style=\"stroke:#000000; stroke-linecap:round; stroke-linejoin:round; stroke-width:6; stroke-opacity:1; fill:none\" points=\"1087,1137.67 1096.45,1137.67 \"/>\n",
       "<polyline clip-path=\"url(#clip970)\" style=\"stroke:#000000; stroke-linecap:round; stroke-linejoin:round; stroke-width:6; stroke-opacity:1; fill:none\" points=\"1087,1027.01 1096.45,1027.01 \"/>\n",
       "<polyline clip-path=\"url(#clip970)\" style=\"stroke:#000000; stroke-linecap:round; stroke-linejoin:round; stroke-width:6; stroke-opacity:1; fill:none\" points=\"1087,805.693 1096.45,805.693 \"/>\n",
       "<polyline clip-path=\"url(#clip970)\" style=\"stroke:#000000; stroke-linecap:round; stroke-linejoin:round; stroke-width:6; stroke-opacity:1; fill:none\" points=\"1087,695.033 1096.45,695.033 \"/>\n",
       "<polyline clip-path=\"url(#clip970)\" style=\"stroke:#000000; stroke-linecap:round; stroke-linejoin:round; stroke-width:6; stroke-opacity:1; fill:none\" points=\"1087,584.373 1096.45,584.373 \"/>\n",
       "<polyline clip-path=\"url(#clip970)\" style=\"stroke:#000000; stroke-linecap:round; stroke-linejoin:round; stroke-width:6; stroke-opacity:1; fill:none\" points=\"1087,473.713 1096.45,473.713 \"/>\n",
       "<polyline clip-path=\"url(#clip970)\" style=\"stroke:#000000; stroke-linecap:round; stroke-linejoin:round; stroke-width:6; stroke-opacity:1; fill:none\" points=\"1087,252.392 1096.45,252.392 \"/>\n",
       "<polyline clip-path=\"url(#clip970)\" style=\"stroke:#000000; stroke-linecap:round; stroke-linejoin:round; stroke-width:6; stroke-opacity:1; fill:none\" points=\"1087,141.732 1096.45,141.732 \"/>\n",
       "<g clip-path=\"url(#clip970)\">\n",
       "<text style=\"fill:#000000; fill-opacity:1; font-family:Arial,Helvetica Neue,Helvetica,sans-serif; font-size:214px; font-weight:bold; text-anchor:middle;\" transform=\"rotate(0, 780.245, 2654.26)\" x=\"780.245\" y=\"2654.26\">0.00</text>\n",
       "</g>\n",
       "<g clip-path=\"url(#clip970)\">\n",
       "<text style=\"fill:#000000; fill-opacity:1; font-family:Arial,Helvetica Neue,Helvetica,sans-serif; font-size:214px; font-weight:bold; text-anchor:middle;\" transform=\"rotate(0, 780.245, 2100.96)\" x=\"780.245\" y=\"2100.96\">0.25</text>\n",
       "</g>\n",
       "<g clip-path=\"url(#clip970)\">\n",
       "<text style=\"fill:#000000; fill-opacity:1; font-family:Arial,Helvetica Neue,Helvetica,sans-serif; font-size:214px; font-weight:bold; text-anchor:middle;\" transform=\"rotate(0, 780.245, 1547.65)\" x=\"780.245\" y=\"1547.65\">0.50</text>\n",
       "</g>\n",
       "<g clip-path=\"url(#clip970)\">\n",
       "<text style=\"fill:#000000; fill-opacity:1; font-family:Arial,Helvetica Neue,Helvetica,sans-serif; font-size:214px; font-weight:bold; text-anchor:middle;\" transform=\"rotate(0, 780.245, 994.354)\" x=\"780.245\" y=\"994.354\">0.75</text>\n",
       "</g>\n",
       "<g clip-path=\"url(#clip970)\">\n",
       "<text style=\"fill:#000000; fill-opacity:1; font-family:Arial,Helvetica Neue,Helvetica,sans-serif; font-size:214px; font-weight:bold; text-anchor:middle;\" transform=\"rotate(0, 780.245, 441.053)\" x=\"780.245\" y=\"441.053\">1.00</text>\n",
       "</g>\n",
       "<g clip-path=\"url(#clip970)\">\n",
       "<text style=\"fill:#000000; fill-opacity:1; font-family:Arial,Helvetica Neue,Helvetica,sans-serif; font-size:214px; font-weight:bold; text-anchor:middle;\" transform=\"rotate(-90, 434.343, 1358.99)\" x=\"434.343\" y=\"1358.99\">dN/dϑ [a.u.]</text>\n",
       "</g>\n",
       "<polyline clip-path=\"url(#clip972)\" style=\"stroke:#d77255; stroke-linecap:round; stroke-linejoin:round; stroke-width:36; stroke-opacity:1; fill:none\" points=\"1101.1,2574.46 1129.3,2570.57 1157.51,2566.85 1185.71,2563.19 1213.92,2559.43 1242.12,2555.52 1270.33,2551.08 1298.53,2546.71 1326.74,2541.69 1354.94,2537.71 1383.14,2532.99 1411.35,2527.47 1439.55,2522.4 1467.76,2516.94 1495.96,2510.54 1524.17,2504.2 1552.37,2497.29 1580.57,2491.09 1608.78,2483.35 1636.98,2476.02 1665.19,2467.45 1693.39,2459.33 1721.6,2449.71 1749.8,2440 1778,2429.86 1806.21,2419.17 1834.41,2408.5 1862.62,2397.13 1890.82,2384.34 1919.03,2372.6 1947.23,2358.82 1975.43,2345.52 2003.64,2331.22 2031.84,2317.16 2060.05,2300.63 2088.25,2284.11 2116.46,2270.32 2144.66,2250.13 2172.87,2232.76 2201.07,2214.56 2229.27,2195.88 2257.48,2177.39 2285.68,2155.67 2313.89,2136.12 2342.09,2113.77 2370.3,2090.97 2398.5,2070.51 2426.7,2046.97 2454.91,2020.9 2483.11,1998.02 2511.32,1972.82 2539.52,1949.19 2567.73,1924.87 2595.93,1897.4 2624.13,1872.26 2652.34,1843.25 2680.54,1815.49 2708.75,1788.92 2736.95,1760.39 2765.16,1733.1 2793.36,1702.79 2821.57,1672.23 2849.77,1644.97 2877.97,1616.11 2906.18,1582.07 2934.38,1554.68 2962.59,1523.14 2990.79,1488.41 3019,1461.59 3047.2,1428.47 3075.4,1396.38 3103.61,1365.6 3131.81,1334.97 3160.02,1303.77 3188.22,1274.61 3216.43,1238.6 3244.63,1209.64 3272.83,1176.72 3301.04,1145.94 3329.24,1110.26 3357.45,1079.29 3385.65,1055.85 3413.86,1020.44 3442.06,991.42 3470.26,961.558 3498.47,931.595 3526.67,905.262 3554.88,876.579 3583.08,848.154 3611.29,821.982 3639.49,792.1 3667.7,765.152 3695.9,742.451 3724.1,713.296 3752.31,688.467 3780.51,661.535 3808.72,642.692 3836.92,619.044 3865.13,595.146 3893.33,579.923 3921.53,556.392 3949.74,537.87 3977.94,518.231 4006.15,498.457 4034.35,486.012 4062.56,465.004 4090.76,452.439 4118.96,440.641 4147.17,426.185 4175.37,417.886 4203.58,410.461 4231.78,392.927 4259.99,391.131 4288.19,383.395 4316.4,375.711 4344.6,372.357 4372.8,369.114 4401.01,369.045 4429.21,369.384 4457.42,363.053 4485.62,369.842 4513.83,373.872 4542.03,373.883 4570.23,379.518 4598.44,387.2 4626.64,395.418 4654.85,409.479 4683.05,418.196 4711.26,431.974 4739.46,446.625 4767.66,463.983 4795.87,476.193 4824.07,495.722 4852.28,511.521 4880.48,535.591 4908.69,555.357 4936.89,574.935 4965.1,604.645 4993.3,627.907 5021.5,660.332 5049.71,685.102 5077.91,716.265 5106.12,743.103 5134.32,777.506 5162.53,812.398 5190.73,846.46 5218.93,882.456 5247.14,916.889 5275.34,955.519 5303.55,998.252 5331.75,1039.99 5359.96,1076.55 5388.16,1119.55 5416.36,1163.33 5444.57,1205.72 5472.77,1254.7 5500.98,1299.86 5529.18,1347.81 5557.39,1396.72 5585.59,1441.9 5613.79,1492.64 5642,1545.2 5670.2,1596.45 5698.41,1648.42 5726.61,1702.65 5754.82,1755.53 5783.02,1810.52 5811.23,1864.89 5839.43,1919.92 5867.63,1974.52 5895.84,2030.37 5924.04,2087.61 5952.25,2145.1 5980.45,2200.82 6008.66,2257.79 6036.86,2315.87 6065.06,2373.12 6093.27,2431.8 6121.47,2488.99 6149.68,2546.76 \"/>\n",
       "<path clip-path=\"url(#clip970)\" d=\"M1256.22 826.48 L2614.42 826.48 L2614.42 222.883 L1256.22 222.883  Z\" fill=\"#ffffff\" fill-rule=\"evenodd\" fill-opacity=\"1\"/>\n",
       "<polyline clip-path=\"url(#clip970)\" style=\"stroke:#000000; stroke-linecap:round; stroke-linejoin:round; stroke-width:6; stroke-opacity:1; fill:none\" points=\"1256.22,826.48 2614.42,826.48 2614.42,222.883 1256.22,222.883 1256.22,826.48 \"/>\n",
       "<polyline clip-path=\"url(#clip970)\" style=\"stroke:#d77255; stroke-linecap:round; stroke-linejoin:round; stroke-width:120; stroke-opacity:1; fill:none\" points=\"1312.63,524.681 1651.09,524.681 \"/>\n",
       "<g clip-path=\"url(#clip970)\">\n",
       "<text style=\"fill:#000000; fill-opacity:1; font-family:Arial,Helvetica Neue,Helvetica,sans-serif; font-size:284px; font-weight:bold; text-anchor:start;\" transform=\"rotate(0, 1707.49, 628.181)\" x=\"1707.49\" y=\"628.181\"> 2νββ </text>\n",
       "</g>\n",
       "</svg>\n"
      ]
     },
     "execution_count": 71,
     "metadata": {},
     "output_type": "execute_result"
    }
   ],
   "source": [
    "plot(\n",
    "    midpoints(sh1.edges[1]),\n",
    "    [sh1.weights],\n",
    "    series_type= :stepmid,\n",
    "    label =\" 2νββ \",\n",
    "    lw = 6,\n",
    "    xlims = (0,180),\n",
    "    legend= :topleft,\n",
    "#     widen=:false,\n",
    "    ylims = (0,1.1),\n",
    "    ylabel = \"dN/dϑ [a.u.]\",\n",
    "    xlabel = \"ϑ [°]\",\n",
    "    thickness_scaling = 1.5,\n",
    "    size = (1600, 800)\n",
    ")"
   ]
  },
  {
   "cell_type": "code",
   "execution_count": 73,
   "id": "71d948dc",
   "metadata": {},
   "outputs": [
    {
     "data": {
      "text/plain": [
       "\"/home/shoram/Work/PhD_Thesis/SNImproved2bbSpectra/SMAngDist.svg\""
      ]
     },
     "execution_count": 73,
     "metadata": {},
     "output_type": "execute_result"
    }
   ],
   "source": [
    "savefig(\"SMAngDist.svg\")"
   ]
  },
  {
   "cell_type": "code",
   "execution_count": 12,
   "id": "6859dda4",
   "metadata": {},
   "outputs": [
    {
     "data": {
      "image/svg+xml": [
       "<?xml version=\"1.0\" encoding=\"utf-8\"?>\n",
       "<svg xmlns=\"http://www.w3.org/2000/svg\" xmlns:xlink=\"http://www.w3.org/1999/xlink\" width=\"600\" height=\"400\" viewBox=\"0 0 2400 1600\">\n",
       "<defs>\n",
       "  <clipPath id=\"clip600\">\n",
       "    <rect x=\"0\" y=\"0\" width=\"2400\" height=\"1600\"/>\n",
       "  </clipPath>\n",
       "</defs>\n",
       "<path clip-path=\"url(#clip600)\" d=\"M0 1600 L2400 1600 L2400 0 L0 0  Z\" fill=\"#ffffff\" fill-rule=\"evenodd\" fill-opacity=\"1\"/>\n",
       "<defs>\n",
       "  <clipPath id=\"clip601\">\n",
       "    <rect x=\"480\" y=\"0\" width=\"1681\" height=\"1600\"/>\n",
       "  </clipPath>\n",
       "</defs>\n",
       "<path clip-path=\"url(#clip600)\" d=\"M346.985 1418.86 L2352.76 1418.86 L2352.76 47.2441 L346.985 47.2441  Z\" fill=\"#ffffff\" fill-rule=\"evenodd\" fill-opacity=\"1\"/>\n",
       "<defs>\n",
       "  <clipPath id=\"clip602\">\n",
       "    <rect x=\"346\" y=\"47\" width=\"2007\" height=\"1373\"/>\n",
       "  </clipPath>\n",
       "</defs>\n",
       "<polyline clip-path=\"url(#clip602)\" style=\"stroke:#000000; stroke-linecap:round; stroke-linejoin:round; stroke-width:2.8; stroke-opacity:0.4; fill:none\" points=\"346.985,1418.86 346.985,47.2441 \"/>\n",
       "<polyline clip-path=\"url(#clip602)\" style=\"stroke:#000000; stroke-linecap:round; stroke-linejoin:round; stroke-width:2.8; stroke-opacity:0.4; fill:none\" points=\"848.428,1418.86 848.428,47.2441 \"/>\n",
       "<polyline clip-path=\"url(#clip602)\" style=\"stroke:#000000; stroke-linecap:round; stroke-linejoin:round; stroke-width:2.8; stroke-opacity:0.4; fill:none\" points=\"1349.87,1418.86 1349.87,47.2441 \"/>\n",
       "<polyline clip-path=\"url(#clip602)\" style=\"stroke:#000000; stroke-linecap:round; stroke-linejoin:round; stroke-width:2.8; stroke-opacity:0.4; fill:none\" points=\"1851.31,1418.86 1851.31,47.2441 \"/>\n",
       "<polyline clip-path=\"url(#clip602)\" style=\"stroke:#000000; stroke-linecap:round; stroke-linejoin:round; stroke-width:2.8; stroke-opacity:0.4; fill:none\" points=\"2352.76,1418.86 2352.76,47.2441 \"/>\n",
       "<polyline clip-path=\"url(#clip602)\" style=\"stroke:#000000; stroke-linecap:round; stroke-linejoin:round; stroke-width:2; stroke-opacity:0.06; fill:none\" points=\"447.274,1418.86 447.274,47.2441 \"/>\n",
       "<polyline clip-path=\"url(#clip602)\" style=\"stroke:#000000; stroke-linecap:round; stroke-linejoin:round; stroke-width:2; stroke-opacity:0.06; fill:none\" points=\"547.562,1418.86 547.562,47.2441 \"/>\n",
       "<polyline clip-path=\"url(#clip602)\" style=\"stroke:#000000; stroke-linecap:round; stroke-linejoin:round; stroke-width:2; stroke-opacity:0.06; fill:none\" points=\"647.851,1418.86 647.851,47.2441 \"/>\n",
       "<polyline clip-path=\"url(#clip602)\" style=\"stroke:#000000; stroke-linecap:round; stroke-linejoin:round; stroke-width:2; stroke-opacity:0.06; fill:none\" points=\"748.139,1418.86 748.139,47.2441 \"/>\n",
       "<polyline clip-path=\"url(#clip602)\" style=\"stroke:#000000; stroke-linecap:round; stroke-linejoin:round; stroke-width:2; stroke-opacity:0.06; fill:none\" points=\"948.717,1418.86 948.717,47.2441 \"/>\n",
       "<polyline clip-path=\"url(#clip602)\" style=\"stroke:#000000; stroke-linecap:round; stroke-linejoin:round; stroke-width:2; stroke-opacity:0.06; fill:none\" points=\"1049.01,1418.86 1049.01,47.2441 \"/>\n",
       "<polyline clip-path=\"url(#clip602)\" style=\"stroke:#000000; stroke-linecap:round; stroke-linejoin:round; stroke-width:2; stroke-opacity:0.06; fill:none\" points=\"1149.29,1418.86 1149.29,47.2441 \"/>\n",
       "<polyline clip-path=\"url(#clip602)\" style=\"stroke:#000000; stroke-linecap:round; stroke-linejoin:round; stroke-width:2; stroke-opacity:0.06; fill:none\" points=\"1249.58,1418.86 1249.58,47.2441 \"/>\n",
       "<polyline clip-path=\"url(#clip602)\" style=\"stroke:#000000; stroke-linecap:round; stroke-linejoin:round; stroke-width:2; stroke-opacity:0.06; fill:none\" points=\"1450.16,1418.86 1450.16,47.2441 \"/>\n",
       "<polyline clip-path=\"url(#clip602)\" style=\"stroke:#000000; stroke-linecap:round; stroke-linejoin:round; stroke-width:2; stroke-opacity:0.06; fill:none\" points=\"1550.45,1418.86 1550.45,47.2441 \"/>\n",
       "<polyline clip-path=\"url(#clip602)\" style=\"stroke:#000000; stroke-linecap:round; stroke-linejoin:round; stroke-width:2; stroke-opacity:0.06; fill:none\" points=\"1650.74,1418.86 1650.74,47.2441 \"/>\n",
       "<polyline clip-path=\"url(#clip602)\" style=\"stroke:#000000; stroke-linecap:round; stroke-linejoin:round; stroke-width:2; stroke-opacity:0.06; fill:none\" points=\"1751.02,1418.86 1751.02,47.2441 \"/>\n",
       "<polyline clip-path=\"url(#clip602)\" style=\"stroke:#000000; stroke-linecap:round; stroke-linejoin:round; stroke-width:2; stroke-opacity:0.06; fill:none\" points=\"1951.6,1418.86 1951.6,47.2441 \"/>\n",
       "<polyline clip-path=\"url(#clip602)\" style=\"stroke:#000000; stroke-linecap:round; stroke-linejoin:round; stroke-width:2; stroke-opacity:0.06; fill:none\" points=\"2051.89,1418.86 2051.89,47.2441 \"/>\n",
       "<polyline clip-path=\"url(#clip602)\" style=\"stroke:#000000; stroke-linecap:round; stroke-linejoin:round; stroke-width:2; stroke-opacity:0.06; fill:none\" points=\"2152.18,1418.86 2152.18,47.2441 \"/>\n",
       "<polyline clip-path=\"url(#clip602)\" style=\"stroke:#000000; stroke-linecap:round; stroke-linejoin:round; stroke-width:2; stroke-opacity:0.06; fill:none\" points=\"2252.47,1418.86 2252.47,47.2441 \"/>\n",
       "<polyline clip-path=\"url(#clip600)\" style=\"stroke:#000000; stroke-linecap:round; stroke-linejoin:round; stroke-width:4; stroke-opacity:1; fill:none\" points=\"346.985,1418.86 2352.76,1418.86 \"/>\n",
       "<polyline clip-path=\"url(#clip600)\" style=\"stroke:#000000; stroke-linecap:round; stroke-linejoin:round; stroke-width:4; stroke-opacity:1; fill:none\" points=\"346.985,47.2441 2352.76,47.2441 \"/>\n",
       "<polyline clip-path=\"url(#clip600)\" style=\"stroke:#000000; stroke-linecap:round; stroke-linejoin:round; stroke-width:4; stroke-opacity:1; fill:none\" points=\"346.985,1418.86 346.985,1399.96 \"/>\n",
       "<polyline clip-path=\"url(#clip600)\" style=\"stroke:#000000; stroke-linecap:round; stroke-linejoin:round; stroke-width:4; stroke-opacity:1; fill:none\" points=\"848.428,1418.86 848.428,1399.96 \"/>\n",
       "<polyline clip-path=\"url(#clip600)\" style=\"stroke:#000000; stroke-linecap:round; stroke-linejoin:round; stroke-width:4; stroke-opacity:1; fill:none\" points=\"1349.87,1418.86 1349.87,1399.96 \"/>\n",
       "<polyline clip-path=\"url(#clip600)\" style=\"stroke:#000000; stroke-linecap:round; stroke-linejoin:round; stroke-width:4; stroke-opacity:1; fill:none\" points=\"1851.31,1418.86 1851.31,1399.96 \"/>\n",
       "<polyline clip-path=\"url(#clip600)\" style=\"stroke:#000000; stroke-linecap:round; stroke-linejoin:round; stroke-width:4; stroke-opacity:1; fill:none\" points=\"2352.76,1418.86 2352.76,1399.96 \"/>\n",
       "<polyline clip-path=\"url(#clip600)\" style=\"stroke:#000000; stroke-linecap:round; stroke-linejoin:round; stroke-width:4; stroke-opacity:1; fill:none\" points=\"447.274,1418.86 447.274,1409.41 \"/>\n",
       "<polyline clip-path=\"url(#clip600)\" style=\"stroke:#000000; stroke-linecap:round; stroke-linejoin:round; stroke-width:4; stroke-opacity:1; fill:none\" points=\"547.562,1418.86 547.562,1409.41 \"/>\n",
       "<polyline clip-path=\"url(#clip600)\" style=\"stroke:#000000; stroke-linecap:round; stroke-linejoin:round; stroke-width:4; stroke-opacity:1; fill:none\" points=\"647.851,1418.86 647.851,1409.41 \"/>\n",
       "<polyline clip-path=\"url(#clip600)\" style=\"stroke:#000000; stroke-linecap:round; stroke-linejoin:round; stroke-width:4; stroke-opacity:1; fill:none\" points=\"748.139,1418.86 748.139,1409.41 \"/>\n",
       "<polyline clip-path=\"url(#clip600)\" style=\"stroke:#000000; stroke-linecap:round; stroke-linejoin:round; stroke-width:4; stroke-opacity:1; fill:none\" points=\"948.717,1418.86 948.717,1409.41 \"/>\n",
       "<polyline clip-path=\"url(#clip600)\" style=\"stroke:#000000; stroke-linecap:round; stroke-linejoin:round; stroke-width:4; stroke-opacity:1; fill:none\" points=\"1049.01,1418.86 1049.01,1409.41 \"/>\n",
       "<polyline clip-path=\"url(#clip600)\" style=\"stroke:#000000; stroke-linecap:round; stroke-linejoin:round; stroke-width:4; stroke-opacity:1; fill:none\" points=\"1149.29,1418.86 1149.29,1409.41 \"/>\n",
       "<polyline clip-path=\"url(#clip600)\" style=\"stroke:#000000; stroke-linecap:round; stroke-linejoin:round; stroke-width:4; stroke-opacity:1; fill:none\" points=\"1249.58,1418.86 1249.58,1409.41 \"/>\n",
       "<polyline clip-path=\"url(#clip600)\" style=\"stroke:#000000; stroke-linecap:round; stroke-linejoin:round; stroke-width:4; stroke-opacity:1; fill:none\" points=\"1450.16,1418.86 1450.16,1409.41 \"/>\n",
       "<polyline clip-path=\"url(#clip600)\" style=\"stroke:#000000; stroke-linecap:round; stroke-linejoin:round; stroke-width:4; stroke-opacity:1; fill:none\" points=\"1550.45,1418.86 1550.45,1409.41 \"/>\n",
       "<polyline clip-path=\"url(#clip600)\" style=\"stroke:#000000; stroke-linecap:round; stroke-linejoin:round; stroke-width:4; stroke-opacity:1; fill:none\" points=\"1650.74,1418.86 1650.74,1409.41 \"/>\n",
       "<polyline clip-path=\"url(#clip600)\" style=\"stroke:#000000; stroke-linecap:round; stroke-linejoin:round; stroke-width:4; stroke-opacity:1; fill:none\" points=\"1751.02,1418.86 1751.02,1409.41 \"/>\n",
       "<polyline clip-path=\"url(#clip600)\" style=\"stroke:#000000; stroke-linecap:round; stroke-linejoin:round; stroke-width:4; stroke-opacity:1; fill:none\" points=\"1951.6,1418.86 1951.6,1409.41 \"/>\n",
       "<polyline clip-path=\"url(#clip600)\" style=\"stroke:#000000; stroke-linecap:round; stroke-linejoin:round; stroke-width:4; stroke-opacity:1; fill:none\" points=\"2051.89,1418.86 2051.89,1409.41 \"/>\n",
       "<polyline clip-path=\"url(#clip600)\" style=\"stroke:#000000; stroke-linecap:round; stroke-linejoin:round; stroke-width:4; stroke-opacity:1; fill:none\" points=\"2152.18,1418.86 2152.18,1409.41 \"/>\n",
       "<polyline clip-path=\"url(#clip600)\" style=\"stroke:#000000; stroke-linecap:round; stroke-linejoin:round; stroke-width:4; stroke-opacity:1; fill:none\" points=\"2252.47,1418.86 2252.47,1409.41 \"/>\n",
       "<path clip-path=\"url(#clip600)\" d=\"M330.817 1467.9 Q331.113 1468.19 331.113 1468.61 Q331.113 1469.03 330.817 1469.33 Q330.521 1469.62 330.101 1469.62 L298.431 1469.62 Q298.011 1469.62 297.715 1469.33 Q297.418 1469.03 297.418 1468.61 Q297.418 1468.19 297.715 1467.9 Q298.011 1467.6 298.431 1467.6 L330.101 1467.6 Q330.521 1467.6 330.817 1467.9 Z\" fill=\"#000000\" fill-rule=\"evenodd\" fill-opacity=\"1\" /><path clip-path=\"url(#clip600)\" d=\"M338.426 1452.38 L338.426 1450.8 Q344.503 1450.8 347.64 1447.56 Q348.505 1447.56 348.653 1447.76 Q348.801 1447.96 348.801 1448.87 L348.801 1477.26 Q348.801 1478.76 349.542 1479.23 Q350.283 1479.7 353.519 1479.7 L355.125 1479.7 L355.125 1481.26 Q353.346 1481.11 346.924 1481.11 Q340.501 1481.11 338.747 1481.26 L338.747 1479.7 L340.353 1479.7 Q343.539 1479.7 344.305 1479.26 Q345.071 1478.79 345.071 1477.26 L345.071 1451.05 Q342.428 1452.38 338.426 1452.38 Z\" fill=\"#000000\" fill-rule=\"evenodd\" fill-opacity=\"1\" /><path clip-path=\"url(#clip600)\" d=\"M364.29 1480.44 Q363.524 1479.63 363.524 1478.57 Q363.524 1477.5 364.29 1476.74 Q365.056 1475.95 366.217 1475.95 Q367.329 1475.95 368.07 1476.69 Q368.835 1477.41 368.835 1478.59 Q368.835 1479.75 368.02 1480.52 Q367.23 1481.26 366.217 1481.26 Q365.056 1481.26 364.29 1480.44 Z\" fill=\"#000000\" fill-rule=\"evenodd\" fill-opacity=\"1\" /><path clip-path=\"url(#clip600)\" d=\"M375.258 1465.08 Q375.258 1457.64 377.136 1453.59 Q379.754 1447.56 385.93 1447.56 Q387.239 1447.56 388.598 1447.94 Q389.982 1448.28 391.711 1449.64 Q393.465 1451 394.527 1453.22 Q396.553 1457.52 396.553 1465.08 Q396.553 1472.47 394.675 1476.49 Q391.933 1482.37 385.881 1482.37 Q383.608 1482.37 381.286 1481.21 Q378.989 1480.05 377.531 1477.26 Q375.258 1473.08 375.258 1465.08 M379.458 1464.46 Q379.458 1472.09 380.001 1475.13 Q380.619 1478.42 382.299 1479.85 Q384.003 1481.26 385.881 1481.26 Q387.906 1481.26 389.586 1479.75 Q391.291 1478.22 391.81 1474.94 Q392.378 1471.7 392.353 1464.46 Q392.353 1457.42 391.859 1454.6 Q391.192 1451.32 389.413 1450.01 Q387.659 1448.68 385.881 1448.68 Q385.214 1448.68 384.497 1448.87 Q383.806 1449.07 382.793 1449.64 Q381.78 1450.21 380.99 1451.62 Q380.224 1453.02 379.853 1455.15 Q379.458 1457.89 379.458 1464.46 Z\" fill=\"#000000\" fill-rule=\"evenodd\" fill-opacity=\"1\" /><path clip-path=\"url(#clip600)\" d=\"M832.531 1467.9 Q832.828 1468.19 832.828 1468.61 Q832.828 1469.03 832.531 1469.33 Q832.235 1469.62 831.815 1469.62 L800.145 1469.62 Q799.725 1469.62 799.429 1469.33 Q799.132 1469.03 799.132 1468.61 Q799.132 1468.19 799.429 1467.9 Q799.725 1467.6 800.145 1467.6 L831.815 1467.6 Q832.235 1467.6 832.531 1467.9 Z\" fill=\"#000000\" fill-rule=\"evenodd\" fill-opacity=\"1\" /><path clip-path=\"url(#clip600)\" d=\"M837.62 1465.08 Q837.62 1457.64 839.498 1453.59 Q842.116 1447.56 848.292 1447.56 Q849.601 1447.56 850.96 1447.94 Q852.343 1448.28 854.073 1449.64 Q855.827 1451 856.889 1453.22 Q858.915 1457.52 858.915 1465.08 Q858.915 1472.47 857.037 1476.49 Q854.295 1482.37 848.243 1482.37 Q845.97 1482.37 843.648 1481.21 Q841.35 1480.05 839.893 1477.26 Q837.62 1473.08 837.62 1465.08 M841.82 1464.46 Q841.82 1472.09 842.363 1475.13 Q842.981 1478.42 844.661 1479.85 Q846.365 1481.26 848.243 1481.26 Q850.268 1481.26 851.948 1479.75 Q853.653 1478.22 854.172 1474.94 Q854.74 1471.7 854.715 1464.46 Q854.715 1457.42 854.221 1454.6 Q853.554 1451.32 851.775 1450.01 Q850.021 1448.68 848.243 1448.68 Q847.576 1448.68 846.859 1448.87 Q846.168 1449.07 845.155 1449.64 Q844.142 1450.21 843.351 1451.62 Q842.586 1453.02 842.215 1455.15 Q841.82 1457.89 841.82 1464.46 Z\" fill=\"#000000\" fill-rule=\"evenodd\" fill-opacity=\"1\" /><path clip-path=\"url(#clip600)\" d=\"M866.004 1480.44 Q865.239 1479.63 865.239 1478.57 Q865.239 1477.5 866.004 1476.74 Q866.77 1475.95 867.931 1475.95 Q869.043 1475.95 869.784 1476.69 Q870.55 1477.41 870.55 1478.59 Q870.55 1479.75 869.735 1480.52 Q868.944 1481.26 867.931 1481.26 Q866.77 1481.26 866.004 1480.44 Z\" fill=\"#000000\" fill-rule=\"evenodd\" fill-opacity=\"1\" /><path clip-path=\"url(#clip600)\" d=\"M877.516 1473.11 Q877.516 1471.6 878.331 1471.03 Q879.147 1470.44 880.011 1470.44 Q881.172 1470.44 881.839 1471.18 Q882.531 1471.9 882.531 1472.91 Q882.531 1473.92 881.839 1474.66 Q881.172 1475.38 880.011 1475.38 Q879.443 1475.38 879.147 1475.28 Q879.814 1477.6 881.839 1479.28 Q883.89 1480.96 886.582 1480.96 Q889.967 1480.96 891.992 1477.68 Q893.203 1475.55 893.203 1470.74 Q893.203 1466.49 892.289 1464.36 Q890.881 1461.13 887.99 1461.13 Q883.89 1461.13 881.469 1464.66 Q881.172 1465.1 880.826 1465.13 Q880.332 1465.13 880.209 1464.86 Q880.11 1464.56 880.11 1463.79 L880.11 1448.82 Q880.11 1447.61 880.604 1447.61 Q880.802 1447.61 881.222 1447.76 Q884.408 1449.17 887.941 1449.19 Q891.572 1449.19 894.833 1447.71 Q895.08 1447.56 895.229 1447.56 Q895.723 1447.56 895.747 1448.13 Q895.747 1448.33 895.327 1448.92 Q894.932 1449.49 894.067 1450.26 Q893.203 1451 892.091 1451.71 Q890.98 1452.43 889.349 1452.93 Q887.743 1453.39 885.965 1453.39 Q883.84 1453.39 881.666 1452.73 L881.666 1462.58 Q884.285 1460.01 888.089 1460.01 Q892.141 1460.01 894.932 1463.28 Q897.724 1466.54 897.724 1471.08 Q897.724 1475.85 894.413 1479.11 Q891.128 1482.37 886.681 1482.37 Q882.63 1482.37 880.061 1479.48 Q877.516 1476.59 877.516 1473.11 Z\" fill=\"#000000\" fill-rule=\"evenodd\" fill-opacity=\"1\" /><path clip-path=\"url(#clip600)\" d=\"M1319.55 1465.08 Q1319.55 1457.64 1321.42 1453.59 Q1324.04 1447.56 1330.22 1447.56 Q1331.53 1447.56 1332.89 1447.94 Q1334.27 1448.28 1336 1449.64 Q1337.75 1451 1338.82 1453.22 Q1340.84 1457.52 1340.84 1465.08 Q1340.84 1472.47 1338.96 1476.49 Q1336.22 1482.37 1330.17 1482.37 Q1327.9 1482.37 1325.57 1481.21 Q1323.28 1480.05 1321.82 1477.26 Q1319.55 1473.08 1319.55 1465.08 M1323.75 1464.46 Q1323.75 1472.09 1324.29 1475.13 Q1324.91 1478.42 1326.59 1479.85 Q1328.29 1481.26 1330.17 1481.26 Q1332.2 1481.26 1333.88 1479.75 Q1335.58 1478.22 1336.1 1474.94 Q1336.67 1471.7 1336.64 1464.46 Q1336.64 1457.42 1336.15 1454.6 Q1335.48 1451.32 1333.7 1450.01 Q1331.95 1448.68 1330.17 1448.68 Q1329.5 1448.68 1328.79 1448.87 Q1328.09 1449.07 1327.08 1449.64 Q1326.07 1450.21 1325.28 1451.62 Q1324.51 1453.02 1324.14 1455.15 Q1323.75 1457.89 1323.75 1464.46 Z\" fill=\"#000000\" fill-rule=\"evenodd\" fill-opacity=\"1\" /><path clip-path=\"url(#clip600)\" d=\"M1347.93 1480.44 Q1347.17 1479.63 1347.17 1478.57 Q1347.17 1477.5 1347.93 1476.74 Q1348.7 1475.95 1349.86 1475.95 Q1350.97 1475.95 1351.71 1476.69 Q1352.48 1477.41 1352.48 1478.59 Q1352.48 1479.75 1351.66 1480.52 Q1350.87 1481.26 1349.86 1481.26 Q1348.7 1481.26 1347.93 1480.44 Z\" fill=\"#000000\" fill-rule=\"evenodd\" fill-opacity=\"1\" /><path clip-path=\"url(#clip600)\" d=\"M1358.9 1465.08 Q1358.9 1457.64 1360.78 1453.59 Q1363.4 1447.56 1369.57 1447.56 Q1370.88 1447.56 1372.24 1447.94 Q1373.62 1448.28 1375.35 1449.64 Q1377.11 1451 1378.17 1453.22 Q1380.19 1457.52 1380.19 1465.08 Q1380.19 1472.47 1378.32 1476.49 Q1375.57 1482.37 1369.52 1482.37 Q1367.25 1482.37 1364.93 1481.21 Q1362.63 1480.05 1361.17 1477.26 Q1358.9 1473.08 1358.9 1465.08 M1363.1 1464.46 Q1363.1 1472.09 1363.64 1475.13 Q1364.26 1478.42 1365.94 1479.85 Q1367.64 1481.26 1369.52 1481.26 Q1371.55 1481.26 1373.23 1479.75 Q1374.93 1478.22 1375.45 1474.94 Q1376.02 1471.7 1375.99 1464.46 Q1375.99 1457.42 1375.5 1454.6 Q1374.83 1451.32 1373.05 1450.01 Q1371.3 1448.68 1369.52 1448.68 Q1368.86 1448.68 1368.14 1448.87 Q1367.45 1449.07 1366.43 1449.64 Q1365.42 1450.21 1364.63 1451.62 Q1363.87 1453.02 1363.49 1455.15 Q1363.1 1457.89 1363.1 1464.46 Z\" fill=\"#000000\" fill-rule=\"evenodd\" fill-opacity=\"1\" /><path clip-path=\"url(#clip600)\" d=\"M1821.26 1465.08 Q1821.26 1457.64 1823.14 1453.59 Q1825.76 1447.56 1831.93 1447.56 Q1833.24 1447.56 1834.6 1447.94 Q1835.98 1448.28 1837.71 1449.64 Q1839.47 1451 1840.53 1453.22 Q1842.56 1457.52 1842.56 1465.08 Q1842.56 1472.47 1840.68 1476.49 Q1837.94 1482.37 1831.88 1482.37 Q1829.61 1482.37 1827.29 1481.21 Q1824.99 1480.05 1823.53 1477.26 Q1821.26 1473.08 1821.26 1465.08 M1825.46 1464.46 Q1825.46 1472.09 1826 1475.13 Q1826.62 1478.42 1828.3 1479.85 Q1830.01 1481.26 1831.88 1481.26 Q1833.91 1481.26 1835.59 1479.75 Q1837.29 1478.22 1837.81 1474.94 Q1838.38 1471.7 1838.36 1464.46 Q1838.36 1457.42 1837.86 1454.6 Q1837.2 1451.32 1835.42 1450.01 Q1833.66 1448.68 1831.88 1448.68 Q1831.22 1448.68 1830.5 1448.87 Q1829.81 1449.07 1828.8 1449.64 Q1827.78 1450.21 1826.99 1451.62 Q1826.23 1453.02 1825.86 1455.15 Q1825.46 1457.89 1825.46 1464.46 Z\" fill=\"#000000\" fill-rule=\"evenodd\" fill-opacity=\"1\" /><path clip-path=\"url(#clip600)\" d=\"M1849.65 1480.44 Q1848.88 1479.63 1848.88 1478.57 Q1848.88 1477.5 1849.65 1476.74 Q1850.41 1475.95 1851.57 1475.95 Q1852.68 1475.95 1853.43 1476.69 Q1854.19 1477.41 1854.19 1478.59 Q1854.19 1479.75 1853.38 1480.52 Q1852.59 1481.26 1851.57 1481.26 Q1850.41 1481.26 1849.65 1480.44 Z\" fill=\"#000000\" fill-rule=\"evenodd\" fill-opacity=\"1\" /><path clip-path=\"url(#clip600)\" d=\"M1861.16 1473.11 Q1861.16 1471.6 1861.97 1471.03 Q1862.79 1470.44 1863.65 1470.44 Q1864.81 1470.44 1865.48 1471.18 Q1866.17 1471.9 1866.17 1472.91 Q1866.17 1473.92 1865.48 1474.66 Q1864.81 1475.38 1863.65 1475.38 Q1863.08 1475.38 1862.79 1475.28 Q1863.45 1477.6 1865.48 1479.28 Q1867.53 1480.96 1870.22 1480.96 Q1873.61 1480.96 1875.63 1477.68 Q1876.84 1475.55 1876.84 1470.74 Q1876.84 1466.49 1875.93 1464.36 Q1874.52 1461.13 1871.63 1461.13 Q1867.53 1461.13 1865.11 1464.66 Q1864.81 1465.1 1864.47 1465.13 Q1863.97 1465.13 1863.85 1464.86 Q1863.75 1464.56 1863.75 1463.79 L1863.75 1448.82 Q1863.75 1447.61 1864.25 1447.61 Q1864.44 1447.61 1864.86 1447.76 Q1868.05 1449.17 1871.58 1449.19 Q1875.21 1449.19 1878.47 1447.71 Q1878.72 1447.56 1878.87 1447.56 Q1879.36 1447.56 1879.39 1448.13 Q1879.39 1448.33 1878.97 1448.92 Q1878.57 1449.49 1877.71 1450.26 Q1876.84 1451 1875.73 1451.71 Q1874.62 1452.43 1872.99 1452.93 Q1871.38 1453.39 1869.61 1453.39 Q1867.48 1453.39 1865.31 1452.73 L1865.31 1462.58 Q1867.93 1460.01 1871.73 1460.01 Q1875.78 1460.01 1878.57 1463.28 Q1881.36 1466.54 1881.36 1471.08 Q1881.36 1475.85 1878.05 1479.11 Q1874.77 1482.37 1870.32 1482.37 Q1866.27 1482.37 1863.7 1479.48 Q1861.16 1476.59 1861.16 1473.11 Z\" fill=\"#000000\" fill-rule=\"evenodd\" fill-opacity=\"1\" /><path clip-path=\"url(#clip600)\" d=\"M2323.69 1452.38 L2323.69 1450.8 Q2329.77 1450.8 2332.91 1447.56 Q2333.77 1447.56 2333.92 1447.76 Q2334.07 1447.96 2334.07 1448.87 L2334.07 1477.26 Q2334.07 1478.76 2334.81 1479.23 Q2335.55 1479.7 2338.79 1479.7 L2340.39 1479.7 L2340.39 1481.26 Q2338.61 1481.11 2332.19 1481.11 Q2325.77 1481.11 2324.01 1481.26 L2324.01 1479.7 L2325.62 1479.7 Q2328.81 1479.7 2329.57 1479.26 Q2330.34 1478.79 2330.34 1477.26 L2330.34 1451.05 Q2327.69 1452.38 2323.69 1452.38 Z\" fill=\"#000000\" fill-rule=\"evenodd\" fill-opacity=\"1\" /><path clip-path=\"url(#clip600)\" d=\"M2349.56 1480.44 Q2348.79 1479.63 2348.79 1478.57 Q2348.79 1477.5 2349.56 1476.74 Q2350.32 1475.95 2351.48 1475.95 Q2352.6 1475.95 2353.34 1476.69 Q2354.1 1477.41 2354.1 1478.59 Q2354.1 1479.75 2353.29 1480.52 Q2352.5 1481.26 2351.48 1481.26 Q2350.32 1481.26 2349.56 1480.44 Z\" fill=\"#000000\" fill-rule=\"evenodd\" fill-opacity=\"1\" /><path clip-path=\"url(#clip600)\" d=\"M2360.53 1465.08 Q2360.53 1457.64 2362.4 1453.59 Q2365.02 1447.56 2371.2 1447.56 Q2372.51 1447.56 2373.86 1447.94 Q2375.25 1448.28 2376.98 1449.64 Q2378.73 1451 2379.79 1453.22 Q2381.82 1457.52 2381.82 1465.08 Q2381.82 1472.47 2379.94 1476.49 Q2377.2 1482.37 2371.15 1482.37 Q2368.87 1482.37 2366.55 1481.21 Q2364.26 1480.05 2362.8 1477.26 Q2360.53 1473.08 2360.53 1465.08 M2364.72 1464.46 Q2364.72 1472.09 2365.27 1475.13 Q2365.89 1478.42 2367.57 1479.85 Q2369.27 1481.26 2371.15 1481.26 Q2373.17 1481.26 2374.85 1479.75 Q2376.56 1478.22 2377.08 1474.94 Q2377.64 1471.7 2377.62 1464.46 Q2377.62 1457.42 2377.13 1454.6 Q2376.46 1451.32 2374.68 1450.01 Q2372.93 1448.68 2371.15 1448.68 Q2370.48 1448.68 2369.76 1448.87 Q2369.07 1449.07 2368.06 1449.64 Q2367.05 1450.21 2366.26 1451.62 Q2365.49 1453.02 2365.12 1455.15 Q2364.72 1457.89 2364.72 1464.46 Z\" fill=\"#000000\" fill-rule=\"evenodd\" fill-opacity=\"1\" /><path clip-path=\"url(#clip600)\" d=\"M1286.56 1546.01 L1286.56 1545.6 Q1286.56 1543.34 1286.75 1541.82 Q1286.93 1540.3 1287.41 1538.67 Q1287.93 1537.04 1289.04 1536.26 Q1290.19 1535.45 1291.94 1535.45 Q1295.2 1535.45 1298.05 1537.93 Q1300.9 1540.38 1300.9 1545.23 L1300.9 1555.94 Q1300.9 1557.53 1300.98 1558.68 Q1301.05 1559.79 1301.38 1561.57 Q1301.72 1563.35 1302.35 1564.54 Q1303.01 1565.72 1304.31 1566.72 Q1305.61 1567.69 1307.42 1567.91 Q1307.72 1567.98 1308.31 1567.98 Q1310.28 1567.98 1311.69 1566.31 Q1313.13 1564.65 1314.39 1560.35 Q1316.06 1554.72 1316.06 1542.97 L1316.06 1542.49 Q1300.2 1537.19 1300.2 1526.18 Q1300.2 1522.14 1302.38 1518.77 Q1304.61 1515.4 1308.65 1515.4 Q1314.5 1515.4 1318.28 1523.52 Q1322.06 1531.63 1322.06 1542.34 Q1322.36 1542.41 1322.8 1542.49 Q1323.28 1542.56 1323.54 1542.64 Q1323.8 1542.71 1324.14 1542.82 Q1324.51 1542.9 1324.73 1542.93 Q1324.95 1542.97 1325.17 1543.08 Q1325.4 1543.19 1325.51 1543.27 Q1325.62 1543.34 1325.77 1543.45 Q1325.95 1543.56 1325.99 1543.67 Q1326.03 1543.78 1326.03 1543.93 Q1326.03 1544.67 1325.03 1544.71 Q1324.88 1544.71 1322.06 1544.16 Q1321.99 1551.53 1320.02 1557.24 Q1318.06 1562.9 1315.54 1565.94 Q1312.5 1569.72 1308.09 1569.76 Q1304.61 1569.76 1302.09 1568.72 Q1299.61 1567.69 1298.31 1566.28 Q1297.01 1564.87 1296.23 1562.72 Q1295.49 1560.57 1295.34 1558.9 Q1295.2 1557.24 1295.2 1555.01 L1295.2 1545.45 Q1295.2 1537.19 1291.71 1537.19 Q1289.9 1537.19 1289.19 1539.34 Q1288.53 1541.45 1288.45 1544.23 Q1288.38 1546.97 1288.3 1547.27 Q1288.16 1547.71 1287.45 1547.75 Q1286.78 1547.75 1286.64 1547.12 Q1286.56 1546.75 1286.56 1546.01 M1302.2 1526.26 Q1302.2 1531.63 1306.16 1535.26 Q1310.17 1538.86 1316.06 1540.67 Q1316.06 1530.52 1314.13 1523.85 Q1312.2 1517.14 1308.5 1517.14 Q1305.9 1517.14 1304.05 1519.7 Q1302.2 1522.22 1302.2 1526.26 Z\" fill=\"#000000\" fill-rule=\"evenodd\" fill-opacity=\"1\" /><path clip-path=\"url(#clip600)\" d=\"M1361.71 1587.88 L1361.71 1511.99 L1373.16 1511.99 L1373.16 1513.73 L1366.79 1513.73 L1366.79 1586.14 L1373.16 1586.14 L1373.16 1587.88 L1361.71 1587.88 Z\" fill=\"#000000\" fill-rule=\"evenodd\" fill-opacity=\"1\" /><path clip-path=\"url(#clip600)\" d=\"M1379.09 1525.52 Q1379.09 1522.03 1381.53 1519.55 Q1384.02 1517.07 1387.5 1517.07 Q1391.06 1517.07 1393.47 1519.59 Q1395.91 1522.07 1395.91 1525.41 Q1395.91 1528.89 1393.39 1531.37 Q1390.91 1533.85 1387.5 1533.85 Q1383.94 1533.85 1381.5 1531.37 Q1379.09 1528.85 1379.09 1525.52 M1383.72 1521.66 Q1382.13 1523.22 1382.13 1525.52 Q1382.13 1527.78 1383.72 1529.3 Q1385.31 1530.82 1387.5 1530.82 Q1389.69 1530.82 1391.24 1529.3 Q1392.8 1527.78 1392.8 1525.52 Q1392.8 1523.22 1391.21 1521.66 Q1389.61 1520.11 1387.5 1520.11 Q1385.31 1520.11 1383.72 1521.66 Z\" fill=\"#000000\" fill-rule=\"evenodd\" fill-opacity=\"1\" /><path clip-path=\"url(#clip600)\" d=\"M1401.73 1586.14 L1408.1 1586.14 L1408.1 1513.73 L1401.73 1513.73 L1401.73 1511.99 L1413.18 1511.99 L1413.18 1587.88 L1401.73 1587.88 L1401.73 1586.14 Z\" fill=\"#000000\" fill-rule=\"evenodd\" fill-opacity=\"1\" /><polyline clip-path=\"url(#clip602)\" style=\"stroke:#000000; stroke-linecap:round; stroke-linejoin:round; stroke-width:2.8; stroke-opacity:0.4; fill:none\" points=\"346.985,1418.86 2352.76,1418.86 \"/>\n",
       "<polyline clip-path=\"url(#clip602)\" style=\"stroke:#000000; stroke-linecap:round; stroke-linejoin:round; stroke-width:2.8; stroke-opacity:0.4; fill:none\" points=\"346.985,1071.98 2352.76,1071.98 \"/>\n",
       "<polyline clip-path=\"url(#clip602)\" style=\"stroke:#000000; stroke-linecap:round; stroke-linejoin:round; stroke-width:2.8; stroke-opacity:0.4; fill:none\" points=\"346.985,725.109 2352.76,725.109 \"/>\n",
       "<polyline clip-path=\"url(#clip602)\" style=\"stroke:#000000; stroke-linecap:round; stroke-linejoin:round; stroke-width:2.8; stroke-opacity:0.4; fill:none\" points=\"346.985,378.233 2352.76,378.233 \"/>\n",
       "<polyline clip-path=\"url(#clip602)\" style=\"stroke:#000000; stroke-linecap:round; stroke-linejoin:round; stroke-width:2; stroke-opacity:0.06; fill:none\" points=\"346.985,1349.48 2352.76,1349.48 \"/>\n",
       "<polyline clip-path=\"url(#clip602)\" style=\"stroke:#000000; stroke-linecap:round; stroke-linejoin:round; stroke-width:2; stroke-opacity:0.06; fill:none\" points=\"346.985,1280.11 2352.76,1280.11 \"/>\n",
       "<polyline clip-path=\"url(#clip602)\" style=\"stroke:#000000; stroke-linecap:round; stroke-linejoin:round; stroke-width:2; stroke-opacity:0.06; fill:none\" points=\"346.985,1210.73 2352.76,1210.73 \"/>\n",
       "<polyline clip-path=\"url(#clip602)\" style=\"stroke:#000000; stroke-linecap:round; stroke-linejoin:round; stroke-width:2; stroke-opacity:0.06; fill:none\" points=\"346.985,1141.36 2352.76,1141.36 \"/>\n",
       "<polyline clip-path=\"url(#clip602)\" style=\"stroke:#000000; stroke-linecap:round; stroke-linejoin:round; stroke-width:2; stroke-opacity:0.06; fill:none\" points=\"346.985,1002.61 2352.76,1002.61 \"/>\n",
       "<polyline clip-path=\"url(#clip602)\" style=\"stroke:#000000; stroke-linecap:round; stroke-linejoin:round; stroke-width:2; stroke-opacity:0.06; fill:none\" points=\"346.985,933.234 2352.76,933.234 \"/>\n",
       "<polyline clip-path=\"url(#clip602)\" style=\"stroke:#000000; stroke-linecap:round; stroke-linejoin:round; stroke-width:2; stroke-opacity:0.06; fill:none\" points=\"346.985,863.859 2352.76,863.859 \"/>\n",
       "<polyline clip-path=\"url(#clip602)\" style=\"stroke:#000000; stroke-linecap:round; stroke-linejoin:round; stroke-width:2; stroke-opacity:0.06; fill:none\" points=\"346.985,794.484 2352.76,794.484 \"/>\n",
       "<polyline clip-path=\"url(#clip602)\" style=\"stroke:#000000; stroke-linecap:round; stroke-linejoin:round; stroke-width:2; stroke-opacity:0.06; fill:none\" points=\"346.985,655.733 2352.76,655.733 \"/>\n",
       "<polyline clip-path=\"url(#clip602)\" style=\"stroke:#000000; stroke-linecap:round; stroke-linejoin:round; stroke-width:2; stroke-opacity:0.06; fill:none\" points=\"346.985,586.358 2352.76,586.358 \"/>\n",
       "<polyline clip-path=\"url(#clip602)\" style=\"stroke:#000000; stroke-linecap:round; stroke-linejoin:round; stroke-width:2; stroke-opacity:0.06; fill:none\" points=\"346.985,516.983 2352.76,516.983 \"/>\n",
       "<polyline clip-path=\"url(#clip602)\" style=\"stroke:#000000; stroke-linecap:round; stroke-linejoin:round; stroke-width:2; stroke-opacity:0.06; fill:none\" points=\"346.985,447.608 2352.76,447.608 \"/>\n",
       "<polyline clip-path=\"url(#clip602)\" style=\"stroke:#000000; stroke-linecap:round; stroke-linejoin:round; stroke-width:2; stroke-opacity:0.06; fill:none\" points=\"346.985,308.858 2352.76,308.858 \"/>\n",
       "<polyline clip-path=\"url(#clip602)\" style=\"stroke:#000000; stroke-linecap:round; stroke-linejoin:round; stroke-width:2; stroke-opacity:0.06; fill:none\" points=\"346.985,239.483 2352.76,239.483 \"/>\n",
       "<polyline clip-path=\"url(#clip602)\" style=\"stroke:#000000; stroke-linecap:round; stroke-linejoin:round; stroke-width:2; stroke-opacity:0.06; fill:none\" points=\"346.985,170.107 2352.76,170.107 \"/>\n",
       "<polyline clip-path=\"url(#clip602)\" style=\"stroke:#000000; stroke-linecap:round; stroke-linejoin:round; stroke-width:2; stroke-opacity:0.06; fill:none\" points=\"346.985,100.732 2352.76,100.732 \"/>\n",
       "<polyline clip-path=\"url(#clip600)\" style=\"stroke:#000000; stroke-linecap:round; stroke-linejoin:round; stroke-width:4; stroke-opacity:1; fill:none\" points=\"346.985,1418.86 346.985,47.2441 \"/>\n",
       "<polyline clip-path=\"url(#clip600)\" style=\"stroke:#000000; stroke-linecap:round; stroke-linejoin:round; stroke-width:4; stroke-opacity:1; fill:none\" points=\"2352.76,1418.86 2352.76,47.2441 \"/>\n",
       "<polyline clip-path=\"url(#clip600)\" style=\"stroke:#000000; stroke-linecap:round; stroke-linejoin:round; stroke-width:4; stroke-opacity:1; fill:none\" points=\"346.985,1418.86 365.883,1418.86 \"/>\n",
       "<polyline clip-path=\"url(#clip600)\" style=\"stroke:#000000; stroke-linecap:round; stroke-linejoin:round; stroke-width:4; stroke-opacity:1; fill:none\" points=\"346.985,1071.98 365.883,1071.98 \"/>\n",
       "<polyline clip-path=\"url(#clip600)\" style=\"stroke:#000000; stroke-linecap:round; stroke-linejoin:round; stroke-width:4; stroke-opacity:1; fill:none\" points=\"346.985,725.109 365.883,725.109 \"/>\n",
       "<polyline clip-path=\"url(#clip600)\" style=\"stroke:#000000; stroke-linecap:round; stroke-linejoin:round; stroke-width:4; stroke-opacity:1; fill:none\" points=\"346.985,378.233 365.883,378.233 \"/>\n",
       "<polyline clip-path=\"url(#clip600)\" style=\"stroke:#000000; stroke-linecap:round; stroke-linejoin:round; stroke-width:4; stroke-opacity:1; fill:none\" points=\"346.985,1349.48 356.434,1349.48 \"/>\n",
       "<polyline clip-path=\"url(#clip600)\" style=\"stroke:#000000; stroke-linecap:round; stroke-linejoin:round; stroke-width:4; stroke-opacity:1; fill:none\" points=\"346.985,1280.11 356.434,1280.11 \"/>\n",
       "<polyline clip-path=\"url(#clip600)\" style=\"stroke:#000000; stroke-linecap:round; stroke-linejoin:round; stroke-width:4; stroke-opacity:1; fill:none\" points=\"346.985,1210.73 356.434,1210.73 \"/>\n",
       "<polyline clip-path=\"url(#clip600)\" style=\"stroke:#000000; stroke-linecap:round; stroke-linejoin:round; stroke-width:4; stroke-opacity:1; fill:none\" points=\"346.985,1141.36 356.434,1141.36 \"/>\n",
       "<polyline clip-path=\"url(#clip600)\" style=\"stroke:#000000; stroke-linecap:round; stroke-linejoin:round; stroke-width:4; stroke-opacity:1; fill:none\" points=\"346.985,1002.61 356.434,1002.61 \"/>\n",
       "<polyline clip-path=\"url(#clip600)\" style=\"stroke:#000000; stroke-linecap:round; stroke-linejoin:round; stroke-width:4; stroke-opacity:1; fill:none\" points=\"346.985,933.234 356.434,933.234 \"/>\n",
       "<polyline clip-path=\"url(#clip600)\" style=\"stroke:#000000; stroke-linecap:round; stroke-linejoin:round; stroke-width:4; stroke-opacity:1; fill:none\" points=\"346.985,863.859 356.434,863.859 \"/>\n",
       "<polyline clip-path=\"url(#clip600)\" style=\"stroke:#000000; stroke-linecap:round; stroke-linejoin:round; stroke-width:4; stroke-opacity:1; fill:none\" points=\"346.985,794.484 356.434,794.484 \"/>\n",
       "<polyline clip-path=\"url(#clip600)\" style=\"stroke:#000000; stroke-linecap:round; stroke-linejoin:round; stroke-width:4; stroke-opacity:1; fill:none\" points=\"346.985,655.733 356.434,655.733 \"/>\n",
       "<polyline clip-path=\"url(#clip600)\" style=\"stroke:#000000; stroke-linecap:round; stroke-linejoin:round; stroke-width:4; stroke-opacity:1; fill:none\" points=\"346.985,586.358 356.434,586.358 \"/>\n",
       "<polyline clip-path=\"url(#clip600)\" style=\"stroke:#000000; stroke-linecap:round; stroke-linejoin:round; stroke-width:4; stroke-opacity:1; fill:none\" points=\"346.985,516.983 356.434,516.983 \"/>\n",
       "<polyline clip-path=\"url(#clip600)\" style=\"stroke:#000000; stroke-linecap:round; stroke-linejoin:round; stroke-width:4; stroke-opacity:1; fill:none\" points=\"346.985,447.608 356.434,447.608 \"/>\n",
       "<polyline clip-path=\"url(#clip600)\" style=\"stroke:#000000; stroke-linecap:round; stroke-linejoin:round; stroke-width:4; stroke-opacity:1; fill:none\" points=\"346.985,308.858 356.434,308.858 \"/>\n",
       "<polyline clip-path=\"url(#clip600)\" style=\"stroke:#000000; stroke-linecap:round; stroke-linejoin:round; stroke-width:4; stroke-opacity:1; fill:none\" points=\"346.985,239.483 356.434,239.483 \"/>\n",
       "<polyline clip-path=\"url(#clip600)\" style=\"stroke:#000000; stroke-linecap:round; stroke-linejoin:round; stroke-width:4; stroke-opacity:1; fill:none\" points=\"346.985,170.107 356.434,170.107 \"/>\n",
       "<polyline clip-path=\"url(#clip600)\" style=\"stroke:#000000; stroke-linecap:round; stroke-linejoin:round; stroke-width:4; stroke-opacity:1; fill:none\" points=\"346.985,100.732 356.434,100.732 \"/>\n",
       "<path clip-path=\"url(#clip600)\" d=\"M289.691 1419.96 Q289.691 1412.52 291.569 1408.47 Q294.187 1402.44 300.363 1402.44 Q301.672 1402.44 303.031 1402.82 Q304.414 1403.16 306.144 1404.52 Q307.897 1405.88 308.96 1408.1 Q310.985 1412.4 310.985 1419.96 Q310.985 1427.35 309.108 1431.37 Q306.366 1437.25 300.314 1437.25 Q298.041 1437.25 295.719 1436.09 Q293.421 1434.93 291.964 1432.14 Q289.691 1427.96 289.691 1419.96 M293.891 1419.34 Q293.891 1426.97 294.434 1430.01 Q295.052 1433.3 296.732 1434.73 Q298.436 1436.14 300.314 1436.14 Q302.339 1436.14 304.019 1434.63 Q305.724 1433.1 306.242 1429.82 Q306.81 1426.58 306.786 1419.34 Q306.786 1412.3 306.292 1409.48 Q305.625 1406.2 303.846 1404.89 Q302.092 1403.56 300.314 1403.56 Q299.647 1403.56 298.93 1403.75 Q298.238 1403.95 297.226 1404.52 Q296.213 1405.09 295.422 1406.5 Q294.656 1407.9 294.286 1410.03 Q293.891 1412.77 293.891 1419.34 Z\" fill=\"#000000\" fill-rule=\"evenodd\" fill-opacity=\"1\" /><path clip-path=\"url(#clip600)\" d=\"M118.58 1087.56 Q118.58 1086.05 119.395 1085.48 Q120.211 1084.89 121.075 1084.89 Q122.236 1084.89 122.903 1085.63 Q123.595 1086.35 123.595 1087.36 Q123.595 1088.37 122.903 1089.12 Q122.236 1089.83 121.075 1089.83 Q120.507 1089.83 120.211 1089.73 Q120.878 1092.06 122.903 1093.74 Q124.954 1095.42 127.646 1095.42 Q131.031 1095.42 133.056 1092.13 Q134.267 1090.01 134.267 1085.19 Q134.267 1080.94 133.353 1078.81 Q131.945 1075.58 129.054 1075.58 Q124.954 1075.58 122.533 1079.11 Q122.236 1079.56 121.89 1079.58 Q121.396 1079.58 121.273 1079.31 Q121.174 1079.01 121.174 1078.25 L121.174 1063.28 Q121.174 1062.07 121.668 1062.07 Q121.866 1062.07 122.286 1062.21 Q125.472 1063.62 129.005 1063.65 Q132.636 1063.65 135.897 1062.16 Q136.144 1062.02 136.292 1062.02 Q136.787 1062.02 136.811 1062.58 Q136.811 1062.78 136.391 1063.38 Q135.996 1063.94 135.131 1064.71 Q134.267 1065.45 133.155 1066.17 Q132.043 1066.88 130.413 1067.38 Q128.807 1067.85 127.029 1067.85 Q124.904 1067.85 122.73 1067.18 L122.73 1077.04 Q125.349 1074.47 129.153 1074.47 Q133.205 1074.47 135.996 1077.73 Q138.788 1080.99 138.788 1085.53 Q138.788 1090.3 135.477 1093.56 Q132.192 1096.82 127.745 1096.82 Q123.694 1096.82 121.125 1093.93 Q118.58 1091.04 118.58 1087.56 Z\" fill=\"#000000\" fill-rule=\"evenodd\" fill-opacity=\"1\" /><path clip-path=\"url(#clip600)\" d=\"M146.421 1094.9 Q145.655 1094.08 145.655 1093.02 Q145.655 1091.96 146.421 1091.19 Q147.187 1090.4 148.348 1090.4 Q149.459 1090.4 150.2 1091.14 Q150.966 1091.86 150.966 1093.04 Q150.966 1094.2 150.151 1094.97 Q149.361 1095.71 148.348 1095.71 Q147.187 1095.71 146.421 1094.9 Z\" fill=\"#000000\" fill-rule=\"evenodd\" fill-opacity=\"1\" /><path clip-path=\"url(#clip600)\" d=\"M157.389 1079.53 Q157.389 1072.1 159.267 1068.04 Q161.885 1062.02 168.061 1062.02 Q169.37 1062.02 170.729 1062.39 Q172.112 1062.73 173.842 1064.09 Q175.596 1065.45 176.658 1067.67 Q178.683 1071.97 178.683 1079.53 Q178.683 1086.92 176.806 1090.94 Q174.064 1096.82 168.012 1096.82 Q165.739 1096.82 163.417 1095.66 Q161.119 1094.5 159.662 1091.71 Q157.389 1087.53 157.389 1079.53 M161.589 1078.91 Q161.589 1086.55 162.132 1089.59 Q162.75 1092.87 164.43 1094.3 Q166.134 1095.71 168.012 1095.71 Q170.037 1095.71 171.717 1094.2 Q173.422 1092.67 173.94 1089.39 Q174.509 1086.15 174.484 1078.91 Q174.484 1071.87 173.99 1069.06 Q173.323 1065.77 171.544 1064.46 Q169.79 1063.13 168.012 1063.13 Q167.345 1063.13 166.628 1063.33 Q165.936 1063.52 164.924 1064.09 Q163.911 1064.66 163.12 1066.07 Q162.355 1067.48 161.984 1069.6 Q161.589 1072.34 161.589 1078.91 Z\" fill=\"#000000\" fill-rule=\"evenodd\" fill-opacity=\"1\" /><path clip-path=\"url(#clip600)\" d=\"M182.685 1079.53 Q182.685 1072.1 184.563 1068.04 Q187.181 1062.02 193.357 1062.02 Q194.667 1062.02 196.025 1062.39 Q197.409 1062.73 199.138 1064.09 Q200.892 1065.45 201.954 1067.67 Q203.98 1071.97 203.98 1079.53 Q203.98 1086.92 202.102 1090.94 Q199.36 1096.82 193.308 1096.82 Q191.035 1096.82 188.713 1095.66 Q186.416 1094.5 184.958 1091.71 Q182.685 1087.53 182.685 1079.53 M186.885 1078.91 Q186.885 1086.55 187.428 1089.59 Q188.046 1092.87 189.726 1094.3 Q191.43 1095.71 193.308 1095.71 Q195.333 1095.71 197.013 1094.2 Q198.718 1092.67 199.237 1089.39 Q199.805 1086.15 199.78 1078.91 Q199.78 1071.87 199.286 1069.06 Q198.619 1065.77 196.84 1064.46 Q195.086 1063.13 193.308 1063.13 Q192.641 1063.13 191.924 1063.33 Q191.233 1063.52 190.22 1064.09 Q189.207 1064.66 188.417 1066.07 Q187.651 1067.48 187.28 1069.6 Q186.885 1072.34 186.885 1078.91 Z\" fill=\"#000000\" fill-rule=\"evenodd\" fill-opacity=\"1\" /><path clip-path=\"url(#clip600)\" d=\"M237.576 1094.95 Q237.329 1095.24 236.885 1095.24 Q236.465 1095.24 236.168 1094.95 L225.694 1084.47 L215.22 1094.95 Q214.923 1095.24 214.479 1095.24 Q214.059 1095.24 213.787 1094.95 Q213.49 1094.67 213.49 1094.25 Q213.49 1093.83 213.787 1093.54 L224.261 1083.06 L213.787 1072.59 Q213.49 1072.29 213.49 1071.87 Q213.49 1071.43 213.787 1071.18 Q214.059 1070.88 214.479 1070.88 Q214.923 1070.88 215.22 1071.18 L225.694 1081.66 L236.168 1071.18 Q236.465 1070.88 236.885 1070.88 Q237.329 1070.88 237.576 1071.18 Q237.873 1071.43 237.873 1071.87 Q237.873 1072.29 237.576 1072.59 L227.102 1083.06 L237.576 1093.54 Q237.873 1093.83 237.873 1094.28 Q237.873 1094.7 237.576 1094.95 Z\" fill=\"#000000\" fill-rule=\"evenodd\" fill-opacity=\"1\" /><path clip-path=\"url(#clip600)\" d=\"M249.854 1066.83 L249.854 1065.25 Q255.931 1065.25 259.068 1062.02 Q259.933 1062.02 260.081 1062.21 Q260.229 1062.41 260.229 1063.33 L260.229 1091.71 Q260.229 1093.22 260.97 1093.69 Q261.711 1094.16 264.948 1094.16 L266.553 1094.16 L266.553 1095.71 Q264.775 1095.56 258.352 1095.56 Q251.929 1095.56 250.175 1095.71 L250.175 1094.16 L251.781 1094.16 Q254.967 1094.16 255.733 1093.71 Q256.499 1093.24 256.499 1091.71 L256.499 1065.5 Q253.856 1066.83 249.854 1066.83 Z\" fill=\"#000000\" fill-rule=\"evenodd\" fill-opacity=\"1\" /><path clip-path=\"url(#clip600)\" d=\"M272.63 1079.53 Q272.63 1072.1 274.508 1068.04 Q277.126 1062.02 283.302 1062.02 Q284.611 1062.02 285.97 1062.39 Q287.354 1062.73 289.083 1064.09 Q290.837 1065.45 291.899 1067.67 Q293.925 1071.97 293.925 1079.53 Q293.925 1086.92 292.047 1090.94 Q289.305 1096.82 283.253 1096.82 Q280.98 1096.82 278.658 1095.66 Q276.361 1094.5 274.903 1091.71 Q272.63 1087.53 272.63 1079.53 M276.83 1078.91 Q276.83 1086.55 277.373 1089.59 Q277.991 1092.87 279.671 1094.3 Q281.375 1095.71 283.253 1095.71 Q285.278 1095.71 286.958 1094.2 Q288.663 1092.67 289.182 1089.39 Q289.75 1086.15 289.725 1078.91 Q289.725 1071.87 289.231 1069.06 Q288.564 1065.77 286.785 1064.46 Q285.031 1063.13 283.253 1063.13 Q282.586 1063.13 281.869 1063.33 Q281.178 1063.52 280.165 1064.09 Q279.152 1064.66 278.361 1066.07 Q277.596 1067.48 277.225 1069.6 Q276.83 1072.34 276.83 1078.91 Z\" fill=\"#000000\" fill-rule=\"evenodd\" fill-opacity=\"1\" /><path clip-path=\"url(#clip600)\" d=\"M293.925 1062.76 Q293.925 1061.54 294.627 1060.96 Q295.33 1060.37 296.233 1060.37 Q297.176 1060.37 297.839 1061 Q298.521 1061.6 298.521 1062.66 Q298.521 1063.81 297.718 1064.45 Q296.935 1065.09 295.811 1064.93 Q296.795 1066.58 298.601 1067.32 Q300.428 1068.06 302.114 1068.06 Q303.88 1068.06 305.305 1066.54 Q306.75 1065.01 306.75 1061.28 Q306.75 1058.11 305.506 1056.28 Q304.281 1054.45 301.853 1054.45 L300.046 1054.45 Q299.424 1054.45 299.244 1054.39 Q299.063 1054.33 299.063 1053.99 Q299.063 1053.59 299.685 1053.51 Q300.307 1053.51 301.291 1053.39 Q303.679 1053.31 304.944 1051.24 Q306.088 1049.31 306.088 1046.56 Q306.088 1044.06 304.884 1043.01 Q303.699 1041.95 302.154 1041.95 Q300.709 1041.95 299.123 1042.55 Q297.537 1043.15 296.674 1044.5 Q299.223 1044.5 299.223 1046.56 Q299.223 1047.47 298.641 1048.07 Q298.079 1048.65 297.136 1048.65 Q296.233 1048.65 295.631 1048.09 Q295.029 1047.51 295.029 1046.52 Q295.029 1044.18 297.116 1042.55 Q299.223 1040.92 302.314 1040.92 Q305.365 1040.92 307.613 1042.53 Q309.881 1044.14 309.881 1046.6 Q309.881 1049.03 308.276 1051.02 Q306.67 1053.01 304.121 1053.83 Q307.252 1054.45 309.119 1056.58 Q310.985 1058.69 310.985 1061.28 Q310.985 1064.49 308.456 1066.86 Q305.927 1069.2 302.234 1069.2 Q298.822 1069.2 296.373 1067.36 Q293.925 1065.51 293.925 1062.76 Z\" fill=\"#000000\" fill-rule=\"evenodd\" fill-opacity=\"1\" /><path clip-path=\"url(#clip600)\" d=\"M119.392 719.958 L119.392 718.377 Q125.469 718.377 128.607 715.141 Q129.471 715.141 129.619 715.338 Q129.768 715.536 129.768 716.45 L129.768 744.834 Q129.768 746.341 130.509 746.81 Q131.25 747.28 134.486 747.28 L136.092 747.28 L136.092 748.836 Q134.313 748.688 127.89 748.688 Q121.467 748.688 119.713 748.836 L119.713 747.28 L121.319 747.28 Q124.506 747.28 125.272 746.835 Q126.037 746.366 126.037 744.834 L126.037 718.624 Q123.394 719.958 119.392 719.958 Z\" fill=\"#000000\" fill-rule=\"evenodd\" fill-opacity=\"1\" /><path clip-path=\"url(#clip600)\" d=\"M145.257 748.021 Q144.491 747.206 144.491 746.143 Q144.491 745.081 145.257 744.315 Q146.023 743.525 147.184 743.525 Q148.295 743.525 149.036 744.266 Q149.802 744.982 149.802 746.168 Q149.802 747.329 148.987 748.095 Q148.196 748.836 147.184 748.836 Q146.023 748.836 145.257 748.021 Z\" fill=\"#000000\" fill-rule=\"evenodd\" fill-opacity=\"1\" /><path clip-path=\"url(#clip600)\" d=\"M156.225 732.655 Q156.225 725.22 158.102 721.168 Q160.721 715.141 166.897 715.141 Q168.206 715.141 169.565 715.511 Q170.948 715.857 172.677 717.216 Q174.431 718.575 175.494 720.798 Q177.519 725.096 177.519 732.655 Q177.519 740.042 175.642 744.068 Q172.9 749.948 166.847 749.948 Q164.575 749.948 162.253 748.787 Q159.955 747.626 158.498 744.834 Q156.225 740.659 156.225 732.655 M160.425 732.038 Q160.425 739.671 160.968 742.71 Q161.586 745.995 163.265 747.428 Q164.97 748.836 166.847 748.836 Q168.873 748.836 170.553 747.329 Q172.257 745.798 172.776 742.512 Q173.344 739.276 173.32 732.038 Q173.32 724.997 172.826 722.181 Q172.159 718.896 170.38 717.586 Q168.626 716.252 166.847 716.252 Q166.18 716.252 165.464 716.45 Q164.772 716.648 163.76 717.216 Q162.747 717.784 161.956 719.192 Q161.19 720.6 160.82 722.725 Q160.425 725.467 160.425 732.038 Z\" fill=\"#000000\" fill-rule=\"evenodd\" fill-opacity=\"1\" /><path clip-path=\"url(#clip600)\" d=\"M181.521 732.655 Q181.521 725.22 183.399 721.168 Q186.017 715.141 192.193 715.141 Q193.502 715.141 194.861 715.511 Q196.244 715.857 197.974 717.216 Q199.728 718.575 200.79 720.798 Q202.816 725.096 202.816 732.655 Q202.816 740.042 200.938 744.068 Q198.196 749.948 192.144 749.948 Q189.871 749.948 187.549 748.787 Q185.251 747.626 183.794 744.834 Q181.521 740.659 181.521 732.655 M185.721 732.038 Q185.721 739.671 186.264 742.71 Q186.882 745.995 188.562 747.428 Q190.266 748.836 192.144 748.836 Q194.169 748.836 195.849 747.329 Q197.554 745.798 198.072 742.512 Q198.641 739.276 198.616 732.038 Q198.616 724.997 198.122 722.181 Q197.455 718.896 195.676 717.586 Q193.922 716.252 192.144 716.252 Q191.477 716.252 190.76 716.45 Q190.069 716.648 189.056 717.216 Q188.043 717.784 187.252 719.192 Q186.487 720.6 186.116 722.725 Q185.721 725.467 185.721 732.038 Z\" fill=\"#000000\" fill-rule=\"evenodd\" fill-opacity=\"1\" /><path clip-path=\"url(#clip600)\" d=\"M236.412 748.07 Q236.165 748.367 235.72 748.367 Q235.3 748.367 235.004 748.07 L224.53 737.596 L214.056 748.07 Q213.759 748.367 213.314 748.367 Q212.894 748.367 212.623 748.07 Q212.326 747.799 212.326 747.379 Q212.326 746.959 212.623 746.662 L223.097 736.188 L212.623 725.714 Q212.326 725.417 212.326 724.997 Q212.326 724.553 212.623 724.306 Q212.894 724.009 213.314 724.009 Q213.759 724.009 214.056 724.306 L224.53 734.78 L235.004 724.306 Q235.3 724.009 235.72 724.009 Q236.165 724.009 236.412 724.306 Q236.709 724.553 236.709 724.997 Q236.709 725.417 236.412 725.714 L225.938 736.188 L236.412 746.662 Q236.709 746.959 236.709 747.403 Q236.709 747.823 236.412 748.07 Z\" fill=\"#000000\" fill-rule=\"evenodd\" fill-opacity=\"1\" /><path clip-path=\"url(#clip600)\" d=\"M248.69 719.958 L248.69 718.377 Q254.767 718.377 257.904 715.141 Q258.769 715.141 258.917 715.338 Q259.065 715.536 259.065 716.45 L259.065 744.834 Q259.065 746.341 259.806 746.81 Q260.547 747.28 263.783 747.28 L265.389 747.28 L265.389 748.836 Q263.61 748.688 257.188 748.688 Q250.765 748.688 249.011 748.836 L249.011 747.28 L250.617 747.28 Q253.803 747.28 254.569 746.835 Q255.335 746.366 255.335 744.834 L255.335 718.624 Q252.692 719.958 248.69 719.958 Z\" fill=\"#000000\" fill-rule=\"evenodd\" fill-opacity=\"1\" /><path clip-path=\"url(#clip600)\" d=\"M271.466 732.655 Q271.466 725.22 273.344 721.168 Q275.962 715.141 282.138 715.141 Q283.447 715.141 284.806 715.511 Q286.189 715.857 287.919 717.216 Q289.673 718.575 290.735 720.798 Q292.76 725.096 292.76 732.655 Q292.76 740.042 290.883 744.068 Q288.141 749.948 282.089 749.948 Q279.816 749.948 277.494 748.787 Q275.196 747.626 273.739 744.834 Q271.466 740.659 271.466 732.655 M275.666 732.038 Q275.666 739.671 276.209 742.71 Q276.827 745.995 278.507 747.428 Q280.211 748.836 282.089 748.836 Q284.114 748.836 285.794 747.329 Q287.499 745.798 288.017 742.512 Q288.586 739.276 288.561 732.038 Q288.561 724.997 288.067 722.181 Q287.4 718.896 285.621 717.586 Q283.867 716.252 282.089 716.252 Q281.422 716.252 280.705 716.45 Q280.014 716.648 279.001 717.216 Q277.988 717.784 277.197 719.192 Q276.432 720.6 276.061 722.725 Q275.666 725.467 275.666 732.038 Z\" fill=\"#000000\" fill-rule=\"evenodd\" fill-opacity=\"1\" /><path clip-path=\"url(#clip600)\" d=\"M292.76 714.642 L292.76 713.377 L305.385 694.088 Q305.707 693.587 306.208 693.607 Q306.67 693.607 306.77 693.787 Q306.871 693.968 306.871 694.67 L306.871 713.377 L310.985 713.377 L310.985 714.642 L306.871 714.642 L306.871 718.214 Q306.871 719.398 307.352 719.78 Q307.854 720.161 309.982 720.161 L310.845 720.161 L310.845 721.426 Q309.159 721.305 305.265 721.305 Q301.391 721.305 299.705 721.426 L299.705 720.161 L300.568 720.161 Q302.696 720.161 303.198 719.8 Q303.699 719.419 303.699 718.214 L303.699 714.642 L292.76 714.642 M293.925 713.377 L303.94 713.377 L303.94 698.042 L293.925 713.377 Z\" fill=\"#000000\" fill-rule=\"evenodd\" fill-opacity=\"1\" /><path clip-path=\"url(#clip600)\" d=\"M119.392 373.082 L119.392 371.501 Q125.469 371.501 128.607 368.265 Q129.471 368.265 129.619 368.463 Q129.768 368.66 129.768 369.574 L129.768 397.959 Q129.768 399.465 130.509 399.935 Q131.25 400.404 134.486 400.404 L136.092 400.404 L136.092 401.96 Q134.313 401.812 127.89 401.812 Q121.467 401.812 119.713 401.96 L119.713 400.404 L121.319 400.404 Q124.506 400.404 125.272 399.959 Q126.037 399.49 126.037 397.959 L126.037 371.748 Q123.394 373.082 119.392 373.082 Z\" fill=\"#000000\" fill-rule=\"evenodd\" fill-opacity=\"1\" /><path clip-path=\"url(#clip600)\" d=\"M145.257 401.145 Q144.491 400.33 144.491 399.268 Q144.491 398.206 145.257 397.44 Q146.023 396.649 147.184 396.649 Q148.295 396.649 149.036 397.39 Q149.802 398.107 149.802 399.292 Q149.802 400.454 148.987 401.219 Q148.196 401.96 147.184 401.96 Q146.023 401.96 145.257 401.145 Z\" fill=\"#000000\" fill-rule=\"evenodd\" fill-opacity=\"1\" /><path clip-path=\"url(#clip600)\" d=\"M156.768 393.808 Q156.768 392.301 157.584 391.733 Q158.399 391.14 159.264 391.14 Q160.425 391.14 161.092 391.881 Q161.783 392.598 161.783 393.611 Q161.783 394.624 161.092 395.365 Q160.425 396.081 159.264 396.081 Q158.695 396.081 158.399 395.982 Q159.066 398.304 161.092 399.984 Q163.142 401.664 165.835 401.664 Q169.219 401.664 171.245 398.378 Q172.455 396.254 172.455 391.437 Q172.455 387.188 171.541 385.063 Q170.133 381.827 167.243 381.827 Q163.142 381.827 160.721 385.36 Q160.425 385.804 160.079 385.829 Q159.585 385.829 159.461 385.557 Q159.362 385.261 159.362 384.495 L159.362 369.525 Q159.362 368.314 159.856 368.314 Q160.054 368.314 160.474 368.463 Q163.661 369.871 167.193 369.895 Q170.825 369.895 174.086 368.413 Q174.333 368.265 174.481 368.265 Q174.975 368.265 175 368.833 Q175 369.031 174.58 369.624 Q174.184 370.192 173.32 370.958 Q172.455 371.699 171.343 372.415 Q170.232 373.132 168.601 373.626 Q166.996 374.095 165.217 374.095 Q163.093 374.095 160.919 373.428 L160.919 383.285 Q163.537 380.716 167.342 380.716 Q171.393 380.716 174.184 383.976 Q176.976 387.237 176.976 391.783 Q176.976 396.55 173.666 399.811 Q170.38 403.072 165.933 403.072 Q161.882 403.072 159.313 400.182 Q156.768 397.292 156.768 393.808 Z\" fill=\"#000000\" fill-rule=\"evenodd\" fill-opacity=\"1\" /><path clip-path=\"url(#clip600)\" d=\"M181.521 385.78 Q181.521 378.344 183.399 374.293 Q186.017 368.265 192.193 368.265 Q193.502 368.265 194.861 368.636 Q196.244 368.981 197.974 370.34 Q199.728 371.699 200.79 373.922 Q202.816 378.221 202.816 385.78 Q202.816 393.166 200.938 397.193 Q198.196 403.072 192.144 403.072 Q189.871 403.072 187.549 401.911 Q185.251 400.75 183.794 397.959 Q181.521 393.784 181.521 385.78 M185.721 385.162 Q185.721 392.796 186.264 395.834 Q186.882 399.12 188.562 400.552 Q190.266 401.96 192.144 401.96 Q194.169 401.96 195.849 400.454 Q197.554 398.922 198.072 395.636 Q198.641 392.4 198.616 385.162 Q198.616 378.122 198.122 375.306 Q197.455 372.02 195.676 370.711 Q193.922 369.377 192.144 369.377 Q191.477 369.377 190.76 369.574 Q190.069 369.772 189.056 370.34 Q188.043 370.908 187.252 372.316 Q186.487 373.725 186.116 375.849 Q185.721 378.591 185.721 385.162 Z\" fill=\"#000000\" fill-rule=\"evenodd\" fill-opacity=\"1\" /><path clip-path=\"url(#clip600)\" d=\"M236.412 401.195 Q236.165 401.491 235.72 401.491 Q235.3 401.491 235.004 401.195 L224.53 390.72 L214.056 401.195 Q213.759 401.491 213.314 401.491 Q212.894 401.491 212.623 401.195 Q212.326 400.923 212.326 400.503 Q212.326 400.083 212.623 399.787 L223.097 389.312 L212.623 378.838 Q212.326 378.542 212.326 378.122 Q212.326 377.677 212.623 377.43 Q212.894 377.134 213.314 377.134 Q213.759 377.134 214.056 377.43 L224.53 387.904 L235.004 377.43 Q235.3 377.134 235.72 377.134 Q236.165 377.134 236.412 377.43 Q236.709 377.677 236.709 378.122 Q236.709 378.542 236.412 378.838 L225.938 389.312 L236.412 399.787 Q236.709 400.083 236.709 400.528 Q236.709 400.948 236.412 401.195 Z\" fill=\"#000000\" fill-rule=\"evenodd\" fill-opacity=\"1\" /><path clip-path=\"url(#clip600)\" d=\"M248.69 373.082 L248.69 371.501 Q254.767 371.501 257.904 368.265 Q258.769 368.265 258.917 368.463 Q259.065 368.66 259.065 369.574 L259.065 397.959 Q259.065 399.465 259.806 399.935 Q260.547 400.404 263.783 400.404 L265.389 400.404 L265.389 401.96 Q263.61 401.812 257.188 401.812 Q250.765 401.812 249.011 401.96 L249.011 400.404 L250.617 400.404 Q253.803 400.404 254.569 399.959 Q255.335 399.49 255.335 397.959 L255.335 371.748 Q252.692 373.082 248.69 373.082 Z\" fill=\"#000000\" fill-rule=\"evenodd\" fill-opacity=\"1\" /><path clip-path=\"url(#clip600)\" d=\"M271.466 385.78 Q271.466 378.344 273.344 374.293 Q275.962 368.265 282.138 368.265 Q283.447 368.265 284.806 368.636 Q286.189 368.981 287.919 370.34 Q289.673 371.699 290.735 373.922 Q292.76 378.221 292.76 385.78 Q292.76 393.166 290.883 397.193 Q288.141 403.072 282.089 403.072 Q279.816 403.072 277.494 401.911 Q275.196 400.75 273.739 397.959 Q271.466 393.784 271.466 385.78 M275.666 385.162 Q275.666 392.796 276.209 395.834 Q276.827 399.12 278.507 400.552 Q280.211 401.96 282.089 401.96 Q284.114 401.96 285.794 400.454 Q287.499 398.922 288.017 395.636 Q288.586 392.4 288.561 385.162 Q288.561 378.122 288.067 375.306 Q287.4 372.02 285.621 370.711 Q283.867 369.377 282.089 369.377 Q281.422 369.377 280.705 369.574 Q280.014 369.772 279.001 370.34 Q277.988 370.908 277.197 372.316 Q276.432 373.725 276.061 375.849 Q275.666 378.591 275.666 385.162 Z\" fill=\"#000000\" fill-rule=\"evenodd\" fill-opacity=\"1\" /><path clip-path=\"url(#clip600)\" d=\"M292.76 367.766 L292.76 366.501 L305.385 347.213 Q305.707 346.711 306.208 346.731 Q306.67 346.731 306.77 346.912 Q306.871 347.092 306.871 347.795 L306.871 366.501 L310.985 366.501 L310.985 367.766 L306.871 367.766 L306.871 371.339 Q306.871 372.523 307.352 372.904 Q307.854 373.286 309.982 373.286 L310.845 373.286 L310.845 374.55 Q309.159 374.43 305.265 374.43 Q301.391 374.43 299.705 374.55 L299.705 373.286 L300.568 373.286 Q302.696 373.286 303.198 372.924 Q303.699 372.543 303.699 371.339 L303.699 367.766 L292.76 367.766 M293.925 366.501 L303.94 366.501 L303.94 351.167 L293.925 366.501 Z\" fill=\"#000000\" fill-rule=\"evenodd\" fill-opacity=\"1\" /><path clip-path=\"url(#clip600)\" d=\"M67.0282 1186.98 L64.6937 1186.98 Q64.6937 1182.94 64.212 1182.01 Q63.6932 1181.08 61.2476 1181.08 L40.9044 1181.08 Q38.0882 1181.08 37.3841 1182.08 Q36.6801 1183.05 36.6801 1186.98 L34.3086 1186.98 L33.4933 1176.3 L41.4602 1176.3 Q33.4933 1172.75 33.4933 1165.08 Q33.4933 1159.37 36.3095 1157.11 Q38.1993 1155.44 40.3115 1155.11 Q42.4236 1154.74 47.9078 1154.74 L62.3963 1154.74 Q63.9896 1154.66 64.3602 1153.44 Q64.6937 1152.22 64.6937 1148.81 L67.0282 1148.81 Q66.8058 1156.55 66.8058 1157.33 Q66.8058 1157.93 67.0282 1165.89 L64.6937 1165.89 Q64.6937 1161.85 64.212 1160.93 Q63.6932 1159.96 61.2476 1159.96 L43.5723 1159.96 Q39.7186 1159.96 37.4582 1161.15 Q35.1608 1162.33 35.1608 1165.6 Q35.1608 1169.52 38.4587 1172.67 Q41.7566 1175.82 47.3149 1175.82 L61.2476 1175.82 Q63.6932 1175.82 64.212 1174.9 Q64.6937 1173.93 64.6937 1169.93 L67.0282 1169.93 Q66.8058 1177.68 66.8058 1178.42 Q66.8058 1179.01 67.0282 1186.98 Z\" fill=\"#000000\" fill-rule=\"evenodd\" fill-opacity=\"1\" /><path clip-path=\"url(#clip600)\" d=\"M62.9521 1140.21 Q57.9867 1145.22 50.7981 1145.22 Q43.5723 1145.22 38.3105 1140.32 Q33.0116 1135.4 33.0116 1128.36 Q33.0116 1121.46 38.2734 1116.53 Q43.4982 1111.57 50.7981 1111.57 Q57.9497 1111.57 62.915 1116.57 Q67.8804 1121.54 67.8804 1128.43 Q67.8804 1135.17 62.9521 1140.21 M50.1681 1138.92 Q57.5421 1138.92 60.877 1136.99 Q65.9536 1134.02 65.9536 1128.36 Q65.9536 1125.54 64.4343 1123.2 Q62.915 1120.83 60.3583 1119.54 Q57.0233 1117.87 50.1681 1117.87 Q42.8683 1117.87 39.6445 1119.87 Q34.7162 1122.83 34.7162 1128.43 Q34.7162 1130.87 36.0131 1133.28 Q37.273 1135.65 39.7927 1137.1 Q43.1277 1138.92 50.1681 1138.92 Z\" fill=\"#000000\" fill-rule=\"evenodd\" fill-opacity=\"1\" /><path clip-path=\"url(#clip600)\" d=\"M67.0282 1107.27 L64.6937 1107.27 Q64.6937 1103.23 64.212 1102.31 Q63.6932 1101.34 61.2476 1101.34 L40.9044 1101.34 Q38.0882 1101.34 37.3841 1102.34 Q36.6801 1103.31 36.6801 1107.27 L34.3086 1107.27 L33.4933 1096.71 L41.8307 1096.71 Q38.5699 1095.64 36.0501 1093.38 Q33.4933 1091.08 33.4933 1087.37 Q33.4933 1084.93 34.8644 1083.37 Q36.2354 1081.78 38.1252 1081.78 Q39.7927 1081.78 40.645 1082.81 Q41.4602 1083.81 41.4602 1085.04 Q41.4602 1086.41 40.6079 1087.37 Q39.7186 1088.3 38.1993 1088.3 Q37.273 1088.3 36.5689 1087.89 Q35.8278 1087.45 35.5684 1087.11 Q35.309 1086.78 35.2349 1086.56 Q35.1608 1086.71 35.1608 1087.37 Q35.1608 1091.56 39.348 1093.97 Q43.4982 1096.34 49.427 1096.34 L61.0994 1096.34 Q63.2856 1096.34 63.9896 1095.45 Q64.6937 1094.52 64.6937 1090.56 L64.6937 1088.97 L67.0282 1088.97 Q66.8058 1092 66.8058 1098.6 Q66.8058 1099.53 66.8429 1100.97 Q66.8799 1102.42 66.954 1104.31 Q67.0282 1106.2 67.0282 1107.27 Z\" fill=\"#000000\" fill-rule=\"evenodd\" fill-opacity=\"1\" /><path clip-path=\"url(#clip600)\" d=\"M67.0282 1077.29 L64.6937 1077.29 Q64.6937 1073.25 64.212 1072.33 Q63.6932 1071.4 61.2476 1071.4 L40.9044 1071.4 Q38.0882 1071.4 37.3841 1072.4 Q36.6801 1073.37 36.6801 1077.29 L34.3086 1077.29 L33.4933 1066.62 L41.4602 1066.62 Q33.4933 1063.06 33.4933 1055.39 Q33.4933 1046.5 40.9044 1045.28 Q38.0141 1043.98 35.7537 1041.28 Q33.4933 1038.53 33.4933 1034.27 Q33.4933 1028.57 36.3095 1026.31 Q38.1993 1024.64 40.3115 1024.3 Q42.4236 1023.97 47.9078 1023.97 L62.3963 1023.97 Q63.9896 1023.9 64.3602 1022.67 Q64.6937 1021.45 64.6937 1018.04 L67.0282 1018.04 Q66.8058 1025.79 66.8058 1026.53 Q66.8058 1027.12 67.0282 1035.12 L64.6937 1035.12 Q64.6937 1031.09 64.212 1030.16 Q63.6932 1029.2 61.2476 1029.2 L43.5723 1029.2 Q39.7186 1029.2 37.4582 1030.38 Q35.1608 1031.57 35.1608 1034.83 Q35.1608 1038.76 38.4587 1041.91 Q41.7566 1045.06 47.3149 1045.06 L61.2476 1045.06 Q63.6932 1045.06 64.212 1044.13 Q64.6937 1043.17 64.6937 1039.13 L67.0282 1039.13 Q66.8058 1046.87 66.8058 1047.65 Q66.8058 1048.24 67.0282 1056.21 L64.6937 1056.21 Q64.6937 1052.17 64.212 1051.24 Q63.6932 1050.28 61.2476 1050.28 L43.5723 1050.28 Q39.7186 1050.28 37.4582 1051.47 Q35.1608 1052.65 35.1608 1055.91 Q35.1608 1059.84 38.4587 1062.99 Q41.7566 1066.14 47.3149 1066.14 L61.2476 1066.14 Q63.6932 1066.14 64.212 1065.21 Q64.6937 1064.25 64.6937 1060.25 L67.0282 1060.25 Q66.8058 1067.99 66.8058 1068.73 Q66.8058 1069.33 67.0282 1077.29 Z\" fill=\"#000000\" fill-rule=\"evenodd\" fill-opacity=\"1\" /><path clip-path=\"url(#clip600)\" d=\"M59.8024 1013.37 Q53.3548 1013.37 49.9458 1005.78 Q47.7595 1001.22 47.2037 991.807 L44.4246 991.807 Q39.7186 991.807 37.2359 994.29 Q34.7162 996.736 34.7162 999.848 Q34.7162 1005.41 38.1993 1008.07 Q38.2734 1005.81 39.4222 1005 Q40.5338 1004.18 41.6825 1004.18 Q43.2018 1004.18 44.2023 1005.15 Q45.1657 1006.07 45.1657 1007.67 Q45.1657 1009.19 44.2393 1010.19 Q43.2759 1011.19 41.6084 1011.19 Q37.9029 1011.19 35.4573 1007.85 Q33.0116 1004.48 33.0116 999.7 Q33.0116 993.475 37.1989 989.325 Q38.4958 988.028 40.1633 987.398 Q41.8307 986.731 42.9424 986.657 Q44.017 986.583 46.1662 986.583 L61.3217 986.583 Q61.7663 986.583 62.5074 986.434 Q63.2485 986.286 64.212 985.619 Q65.1384 984.915 65.1384 983.766 Q65.1384 981.024 60.2841 981.061 L56.0228 981.061 L56.0228 979.134 L60.2841 979.134 Q64.3231 979.134 65.9165 981.284 Q67.4728 983.396 67.4728 985.36 Q67.4728 987.879 65.6201 989.473 Q63.7673 991.066 61.2476 991.289 Q64.1379 992.437 66.0277 995.068 Q67.8804 997.662 67.8804 1001.22 Q67.8804 1003.96 67.1764 1006.56 Q66.5094 1009.11 64.6196 1011.26 Q62.6927 1013.37 59.8024 1013.37 M59.7283 1007.52 Q62.5445 1007.52 64.3602 1005.52 Q66.1759 1003.52 66.1759 1000.7 Q66.1759 997.514 63.7303 994.661 Q61.2476 991.807 56.3934 991.807 L48.7971 991.807 Q49.0935 1000.22 52.4655 1003.89 Q55.8005 1007.52 59.7283 1007.52 Z\" fill=\"#000000\" fill-rule=\"evenodd\" fill-opacity=\"1\" /><path clip-path=\"url(#clip600)\" d=\"M67.0282 976.096 L64.6937 976.096 Q64.6937 972.057 64.212 971.131 Q63.6932 970.204 61.2476 970.204 L21.784 970.204 Q18.9678 970.204 18.2637 971.205 Q17.5597 972.168 17.5597 976.096 L15.1882 976.096 L14.3729 965.202 L61.2476 965.202 Q63.6932 965.202 64.212 964.238 Q64.6937 963.275 64.6937 959.273 L67.0282 959.273 Q67.0282 960.199 66.954 962.126 Q66.8799 964.053 66.8429 965.461 Q66.8058 966.869 66.8058 967.684 Q66.8058 968.574 67.0282 976.096 Z\" fill=\"#000000\" fill-rule=\"evenodd\" fill-opacity=\"1\" /><path clip-path=\"url(#clip600)\" d=\"M67.0282 955.086 L64.6937 955.086 Q64.6937 951.047 64.212 950.12 Q63.6932 949.194 61.2476 949.194 L40.8302 949.194 Q38.0141 949.194 37.3471 950.157 Q36.6801 951.084 36.6801 954.789 L34.3086 954.789 L33.4933 944.192 L61.3217 944.192 Q63.582 944.192 64.1379 943.376 Q64.6937 942.561 64.6937 938.856 L67.0282 938.856 Q66.8058 946.6 66.8058 946.748 Q66.8058 947.786 67.0282 955.086 M20.2647 951.899 Q18.7454 951.899 17.5226 950.75 Q16.2628 949.565 16.2628 947.897 Q16.2628 946.23 17.4115 945.044 Q18.5231 943.858 20.3018 943.858 Q22.0433 943.858 23.192 945.044 Q24.3037 946.23 24.3037 947.897 Q24.3037 949.639 23.0809 950.787 Q21.8581 951.899 20.2647 951.899 Z\" fill=\"#000000\" fill-rule=\"evenodd\" fill-opacity=\"1\" /><path clip-path=\"url(#clip600)\" d=\"M65.9536 934.483 Q65.4348 934.483 64.5825 933.779 L35.976 912.621 L35.976 921.255 Q35.976 927.257 38.1993 929.221 Q40.3856 931.148 46.5367 931.519 L46.5367 933.409 L34.3086 932.556 L34.3086 908.285 Q34.3086 907.433 34.3456 907.099 Q34.3827 906.766 34.6421 906.544 Q34.8644 906.321 35.309 906.321 Q35.7537 906.321 36.606 906.988 L65.1384 928.11 L65.1384 919.142 Q65.1384 912.843 62.5074 910.731 Q59.8765 908.582 52.8361 908.063 L52.8361 906.173 L67.0282 907.47 L67.0282 932.482 Q67.0282 933.705 66.8799 934.113 Q66.6947 934.483 65.9536 934.483 Z\" fill=\"#000000\" fill-rule=\"evenodd\" fill-opacity=\"1\" /><path clip-path=\"url(#clip600)\" d=\"M50.3163 900.8 Q43.1647 900.8 38.0882 896.205 Q33.0116 891.61 33.0116 885.015 Q33.0116 878.345 37.3471 874.899 Q41.6825 871.415 47.9078 871.415 Q49.0565 871.415 49.2788 871.712 Q49.5011 872.008 49.5011 873.305 L49.5011 894.501 Q57.2456 894.501 60.877 892.203 Q65.9536 889.017 65.9536 883.644 Q65.9536 882.903 65.8053 882.013 Q65.6571 881.124 65.0272 879.308 Q64.3602 877.493 62.6186 875.899 Q60.877 874.306 58.1349 873.379 Q57.0604 873.157 57.0974 872.416 Q57.0974 871.415 57.9867 871.415 Q58.6537 871.415 60.173 872.157 Q61.6552 872.861 63.4338 874.232 Q65.2125 875.603 66.5464 878.271 Q67.8804 880.902 67.8804 884.088 Q67.8804 890.758 62.8409 895.798 Q57.7644 900.8 50.3163 900.8 M47.9078 894.427 L47.9078 876.418 Q46.3144 876.418 44.5357 876.714 Q42.7571 876.974 40.3115 877.789 Q37.8288 878.567 36.2725 880.42 Q34.7162 882.273 34.7162 885.015 Q34.7162 886.238 35.2349 887.571 Q35.7537 888.868 37.0136 890.462 Q38.2734 892.055 41.1267 893.167 Q43.9799 894.278 47.9078 894.427 Z\" fill=\"#000000\" fill-rule=\"evenodd\" fill-opacity=\"1\" /><path clip-path=\"url(#clip600)\" d=\"M50.7239 866.635 Q43.4982 866.635 38.4958 861.596 Q33.4933 856.556 33.4933 849.738 Q33.4933 843.958 38.1993 840.178 L21.784 840.178 Q18.9678 840.178 18.2637 841.179 Q17.5597 842.142 17.5597 846.07 L15.1882 846.07 L14.3729 835.139 L60.4324 835.139 Q63.2485 835.139 63.9896 834.175 Q64.6937 833.175 64.6937 829.247 L67.0282 829.247 L67.8804 840.4 L62.8409 840.4 Q67.8434 844.328 67.8804 850.553 Q67.8804 857.075 62.878 861.855 Q57.8756 866.635 50.7239 866.635 M50.7981 860.336 Q57.8385 860.336 61.3217 858.15 Q66.1759 855.111 66.1759 850.183 Q66.1759 844.551 60.877 841.216 Q59.5801 840.363 58.0608 840.4 L42.4977 840.4 Q40.9785 840.4 39.7186 841.216 Q35.1608 844.328 35.1608 849.405 Q35.1608 854.704 40.015 858.002 Q43.6464 860.336 50.7981 860.336 Z\" fill=\"#000000\" fill-rule=\"evenodd\" fill-opacity=\"1\" /><path clip-path=\"url(#clip600)\" d=\"M50.7239 799.306 Q43.4982 799.306 38.4958 794.267 Q33.4933 789.227 33.4933 782.409 Q33.4933 776.629 38.1993 772.849 L21.784 772.849 Q18.9678 772.849 18.2637 773.85 Q17.5597 774.813 17.5597 778.741 L15.1882 778.741 L14.3729 767.81 L60.4324 767.81 Q63.2485 767.81 63.9896 766.846 Q64.6937 765.846 64.6937 761.918 L67.0282 761.918 L67.8804 773.071 L62.8409 773.071 Q67.8434 776.999 67.8804 783.224 Q67.8804 789.746 62.878 794.526 Q57.8756 799.306 50.7239 799.306 M50.7981 793.007 Q57.8385 793.007 61.3217 790.821 Q66.1759 787.782 66.1759 782.854 Q66.1759 777.222 60.877 773.887 Q59.5801 773.034 58.0608 773.071 L42.4977 773.071 Q40.9785 773.071 39.7186 773.887 Q35.1608 776.999 35.1608 782.076 Q35.1608 787.375 40.015 790.673 Q43.6464 793.007 50.7981 793.007 Z\" fill=\"#000000\" fill-rule=\"evenodd\" fill-opacity=\"1\" /><path clip-path=\"url(#clip600)\" d=\"M50.3163 757.694 Q43.1647 757.694 38.0882 753.099 Q33.0116 748.504 33.0116 741.908 Q33.0116 735.238 37.3471 731.792 Q41.6825 728.309 47.9078 728.309 Q49.0565 728.309 49.2788 728.605 Q49.5011 728.902 49.5011 730.199 L49.5011 751.394 Q57.2456 751.394 60.877 749.097 Q65.9536 745.91 65.9536 740.537 Q65.9536 739.796 65.8053 738.907 Q65.6571 738.017 65.0272 736.202 Q64.3602 734.386 62.6186 732.793 Q60.877 731.199 58.1349 730.273 Q57.0604 730.051 57.0974 729.309 Q57.0974 728.309 57.9867 728.309 Q58.6537 728.309 60.173 729.05 Q61.6552 729.754 63.4338 731.125 Q65.2125 732.496 66.5464 735.164 Q67.8804 737.795 67.8804 740.982 Q67.8804 747.652 62.8409 752.691 Q57.7644 757.694 50.3163 757.694 M47.9078 751.32 L47.9078 733.311 Q46.3144 733.311 44.5357 733.608 Q42.7571 733.867 40.3115 734.682 Q37.8288 735.461 36.2725 737.313 Q34.7162 739.166 34.7162 741.908 Q34.7162 743.131 35.2349 744.465 Q35.7537 745.762 37.0136 747.355 Q38.2734 748.949 41.1267 750.06 Q43.9799 751.172 47.9078 751.32 Z\" fill=\"#000000\" fill-rule=\"evenodd\" fill-opacity=\"1\" /><path clip-path=\"url(#clip600)\" d=\"M62.878 718.712 Q57.8385 723.529 50.6498 723.529 Q43.4241 723.529 38.2364 718.786 Q33.0116 714.043 33.0116 707.076 Q33.0116 702.445 35.2349 698.961 Q37.4212 695.478 41.1637 695.478 Q42.8312 695.478 43.7946 696.479 Q44.721 697.442 44.721 698.961 Q44.721 700.555 43.7576 701.518 Q42.7571 702.445 41.2379 702.445 Q40.5709 702.445 39.9039 702.222 Q39.2369 702 38.5328 701.185 Q37.8288 700.332 37.7176 698.887 Q34.9385 701.592 34.9385 706.854 Q34.9385 706.928 34.9385 707.002 Q34.9385 710.856 38.5699 714.043 Q42.2013 717.229 50.5016 717.229 Q54.837 717.229 58.0238 716.192 Q61.1735 715.117 62.8039 713.376 Q64.4343 711.634 65.2125 709.93 Q65.9536 708.225 65.9536 706.558 Q65.9536 699.11 57.9867 696.59 Q57.2456 696.367 57.2456 695.626 Q57.2456 694.626 57.9867 694.626 Q58.3573 694.626 59.3207 694.922 Q60.2841 695.219 61.8034 696.145 Q63.3227 697.072 64.6566 698.406 Q65.9536 699.702 66.917 702.037 Q67.8804 704.334 67.8804 707.225 Q67.8804 713.895 62.878 718.712 Z\" fill=\"#000000\" fill-rule=\"evenodd\" fill-opacity=\"1\" /><path clip-path=\"url(#clip600)\" d=\"M59.8024 689.253 Q53.3548 689.253 49.9458 681.657 Q47.7595 677.099 47.2037 667.687 L44.4246 667.687 Q39.7186 667.687 37.2359 670.17 Q34.7162 672.615 34.7162 675.728 Q34.7162 681.286 38.1993 683.954 Q38.2734 681.694 39.4222 680.878 Q40.5338 680.063 41.6825 680.063 Q43.2018 680.063 44.2023 681.027 Q45.1657 681.953 45.1657 683.546 Q45.1657 685.066 44.2393 686.066 Q43.2759 687.067 41.6084 687.067 Q37.9029 687.067 35.4573 683.732 Q33.0116 680.36 33.0116 675.58 Q33.0116 669.354 37.1989 665.204 Q38.4958 663.907 40.1633 663.277 Q41.8307 662.61 42.9424 662.536 Q44.017 662.462 46.1662 662.462 L61.3217 662.462 Q61.7663 662.462 62.5074 662.314 Q63.2485 662.166 64.212 661.499 Q65.1384 660.795 65.1384 659.646 Q65.1384 656.904 60.2841 656.941 L56.0228 656.941 L56.0228 655.014 L60.2841 655.014 Q64.3231 655.014 65.9165 657.163 Q67.4728 659.275 67.4728 661.239 Q67.4728 663.759 65.6201 665.352 Q63.7673 666.946 61.2476 667.168 Q64.1379 668.317 66.0277 670.948 Q67.8804 673.542 67.8804 677.099 Q67.8804 679.841 67.1764 682.435 Q66.5094 684.992 64.6196 687.141 Q62.6927 689.253 59.8024 689.253 M59.7283 683.398 Q62.5445 683.398 64.3602 681.397 Q66.1759 679.396 66.1759 676.58 Q66.1759 673.393 63.7303 670.54 Q61.2476 667.687 56.3934 667.687 L48.7971 667.687 Q49.0935 676.098 52.4655 679.767 Q55.8005 683.398 59.7283 683.398 Z\" fill=\"#000000\" fill-rule=\"evenodd\" fill-opacity=\"1\" /><path clip-path=\"url(#clip600)\" d=\"M76.4401 655.162 Q74.8468 655.162 73.9945 654.236 Q73.1793 653.272 73.1793 651.976 Q73.1793 650.605 74.0316 649.715 Q74.9209 648.789 76.366 648.789 Q79.1822 648.789 79.5528 651.753 Q80.9238 650.308 80.9238 648.196 Q80.9238 645.936 79.2563 644.12 Q77.5888 642.267 75.9955 641.489 Q74.4021 640.674 71.5118 639.525 Q69.2515 638.45 67.0282 637.635 L39.311 649.011 Q37.4953 649.752 37.0877 650.901 Q36.6801 652.05 36.6801 655.162 L34.3086 655.162 Q34.5309 651.753 34.5309 647.788 Q34.5309 645.454 34.3086 639.525 L36.6801 639.525 Q36.6801 643.786 38.644 643.786 Q38.8663 643.786 40.015 643.342 L60.4324 634.893 L41.7566 627.223 Q40.682 626.778 39.9409 626.778 Q36.8283 626.778 36.6801 630.335 L34.3086 630.335 Q34.5309 625.333 34.5309 623.74 Q34.5309 620.627 34.3086 618.07 L36.6801 618.07 Q36.6801 623.147 41.5343 625.111 L73.9204 638.488 Q82.5542 642.119 82.5913 648.196 Q82.5913 651.086 80.8126 653.124 Q79.034 655.162 76.4401 655.162 Z\" fill=\"#000000\" fill-rule=\"evenodd\" fill-opacity=\"1\" /><path clip-path=\"url(#clip600)\" d=\"M67.0282 589.278 L64.6937 589.278 Q64.6937 585.239 64.212 584.313 Q63.6932 583.35 61.2476 583.35 L40.9044 583.35 Q38.0882 583.35 37.3841 584.35 Q36.6801 585.314 36.6801 589.278 L34.3086 589.278 L33.4933 578.718 L41.8307 578.718 Q38.5699 577.643 36.0501 575.383 Q33.4933 573.085 33.4933 569.38 Q33.4933 566.934 34.8644 565.378 Q36.2354 563.785 38.1252 563.785 Q39.7927 563.785 40.645 564.822 Q41.4602 565.823 41.4602 567.045 Q41.4602 568.416 40.6079 569.38 Q39.7186 570.306 38.1993 570.306 Q37.273 570.306 36.5689 569.899 Q35.8278 569.454 35.5684 569.12 Q35.309 568.787 35.2349 568.565 Q35.1608 568.713 35.1608 569.38 Q35.1608 573.567 39.348 575.976 Q43.4982 578.347 49.427 578.347 L61.0994 578.347 Q63.2856 578.347 63.9896 577.458 Q64.6937 576.531 64.6937 572.567 L64.6937 570.973 L67.0282 570.973 Q66.8058 574.012 66.8058 580.608 Q66.8058 581.534 66.8429 582.979 Q66.8799 584.424 66.954 586.314 Q67.0282 588.204 67.0282 589.278 Z\" fill=\"#000000\" fill-rule=\"evenodd\" fill-opacity=\"1\" /><path clip-path=\"url(#clip600)\" d=\"M59.8024 558.56 Q53.3548 558.56 49.9458 550.964 Q47.7595 546.406 47.2037 536.994 L44.4246 536.994 Q39.7186 536.994 37.2359 539.476 Q34.7162 541.922 34.7162 545.035 Q34.7162 550.593 38.1993 553.261 Q38.2734 551.001 39.4222 550.185 Q40.5338 549.37 41.6825 549.37 Q43.2018 549.37 44.2023 550.334 Q45.1657 551.26 45.1657 552.853 Q45.1657 554.373 44.2393 555.373 Q43.2759 556.374 41.6084 556.374 Q37.9029 556.374 35.4573 553.039 Q33.0116 549.667 33.0116 544.886 Q33.0116 538.661 37.1989 534.511 Q38.4958 533.214 40.1633 532.584 Q41.8307 531.917 42.9424 531.843 Q44.017 531.769 46.1662 531.769 L61.3217 531.769 Q61.7663 531.769 62.5074 531.621 Q63.2485 531.473 64.212 530.806 Q65.1384 530.102 65.1384 528.953 Q65.1384 526.211 60.2841 526.248 L56.0228 526.248 L56.0228 524.321 L60.2841 524.321 Q64.3231 524.321 65.9165 526.47 Q67.4728 528.582 67.4728 530.546 Q67.4728 533.066 65.6201 534.659 Q63.7673 536.253 61.2476 536.475 Q64.1379 537.624 66.0277 540.255 Q67.8804 542.848 67.8804 546.406 Q67.8804 549.148 67.1764 551.742 Q66.5094 554.298 64.6196 556.448 Q62.6927 558.56 59.8024 558.56 M59.7283 552.705 Q62.5445 552.705 64.3602 550.704 Q66.1759 548.703 66.1759 545.887 Q66.1759 542.7 63.7303 539.847 Q61.2476 536.994 56.3934 536.994 L48.7971 536.994 Q49.0935 545.405 52.4655 549.074 Q55.8005 552.705 59.7283 552.705 Z\" fill=\"#000000\" fill-rule=\"evenodd\" fill-opacity=\"1\" /><path clip-path=\"url(#clip600)\" d=\"M36.6801 522.357 L35.0126 522.357 Q34.8644 518.874 32.4188 516.576 Q29.9361 514.242 26.8975 513.464 Q23.859 512.649 20.3388 512.574 L20.3388 510.685 L34.3086 510.685 L34.3086 499.828 L36.6801 499.828 L36.6801 510.685 L57.7644 510.685 Q65.9536 510.685 65.9536 505.571 Q65.9536 503.385 63.7303 501.94 Q61.4699 500.495 57.468 500.495 L53.2807 500.495 L53.2807 498.605 L57.6162 498.605 Q61.7293 498.605 64.8049 500.495 Q67.8804 502.384 67.8804 506.127 Q67.8804 507.498 67.5099 508.869 Q67.1764 510.203 66.2871 511.982 Q65.3607 513.723 63.1374 514.835 Q60.877 515.909 57.6162 515.909 L36.6801 515.909 L36.6801 522.357 Z\" fill=\"#000000\" fill-rule=\"evenodd\" fill-opacity=\"1\" /><path clip-path=\"url(#clip600)\" d=\"M50.3163 492.268 Q43.1647 492.268 38.0882 487.673 Q33.0116 483.079 33.0116 476.483 Q33.0116 469.813 37.3471 466.367 Q41.6825 462.884 47.9078 462.884 Q49.0565 462.884 49.2788 463.18 Q49.5011 463.477 49.5011 464.773 L49.5011 485.969 Q57.2456 485.969 60.877 483.672 Q65.9536 480.485 65.9536 475.112 Q65.9536 474.371 65.8053 473.481 Q65.6571 472.592 65.0272 470.776 Q64.3602 468.961 62.6186 467.367 Q60.877 465.774 58.1349 464.848 Q57.0604 464.625 57.0974 463.884 Q57.0974 462.884 57.9867 462.884 Q58.6537 462.884 60.173 463.625 Q61.6552 464.329 63.4338 465.7 Q65.2125 467.071 66.5464 469.739 Q67.8804 472.37 67.8804 475.557 Q67.8804 482.226 62.8409 487.266 Q57.7644 492.268 50.3163 492.268 M47.9078 485.895 L47.9078 467.886 Q46.3144 467.886 44.5357 468.183 Q42.7571 468.442 40.3115 469.257 Q37.8288 470.035 36.2725 471.888 Q34.7162 473.741 34.7162 476.483 Q34.7162 477.706 35.2349 479.04 Q35.7537 480.337 37.0136 481.93 Q38.2734 483.523 41.1267 484.635 Q43.9799 485.747 47.9078 485.895 Z\" fill=\"#000000\" fill-rule=\"evenodd\" fill-opacity=\"1\" /><path clip-path=\"url(#clip600)\" d=\"M86.0003 427.57 L10.1116 427.57 L10.1116 416.12 L11.8532 416.12 L11.8532 422.494 L84.2588 422.494 L84.2588 416.12 L86.0003 416.12 L86.0003 427.57 Z\" fill=\"#000000\" fill-rule=\"evenodd\" fill-opacity=\"1\" /><path clip-path=\"url(#clip600)\" d=\"M59.8024 411.192 Q53.3548 411.192 49.9458 403.596 Q47.7595 399.038 47.2037 389.626 L44.4246 389.626 Q39.7186 389.626 37.2359 392.109 Q34.7162 394.554 34.7162 397.667 Q34.7162 403.225 38.1993 405.893 Q38.2734 403.633 39.4222 402.817 Q40.5338 402.002 41.6825 402.002 Q43.2018 402.002 44.2023 402.966 Q45.1657 403.892 45.1657 405.485 Q45.1657 407.005 44.2393 408.005 Q43.2759 409.006 41.6084 409.006 Q37.9029 409.006 35.4573 405.671 Q33.0116 402.299 33.0116 397.519 Q33.0116 391.293 37.1989 387.143 Q38.4958 385.846 40.1633 385.216 Q41.8307 384.549 42.9424 384.475 Q44.017 384.401 46.1662 384.401 L61.3217 384.401 Q61.7663 384.401 62.5074 384.253 Q63.2485 384.105 64.212 383.438 Q65.1384 382.734 65.1384 381.585 Q65.1384 378.843 60.2841 378.88 L56.0228 378.88 L56.0228 376.953 L60.2841 376.953 Q64.3231 376.953 65.9165 379.102 Q67.4728 381.214 67.4728 383.178 Q67.4728 385.698 65.6201 387.291 Q63.7673 388.885 61.2476 389.107 Q64.1379 390.256 66.0277 392.887 Q67.8804 395.481 67.8804 399.038 Q67.8804 401.78 67.1764 404.374 Q66.5094 406.931 64.6196 409.08 Q62.6927 411.192 59.8024 411.192 M59.7283 405.337 Q62.5445 405.337 64.3602 403.336 Q66.1759 401.335 66.1759 398.519 Q66.1759 395.332 63.7303 392.479 Q61.2476 389.626 56.3934 389.626 L48.7971 389.626 Q49.0935 398.037 52.4655 401.706 Q55.8005 405.337 59.7283 405.337 Z\" fill=\"#000000\" fill-rule=\"evenodd\" fill-opacity=\"1\" /><path clip-path=\"url(#clip600)\" d=\"M65.8053 368.838 Q64.5825 369.987 62.9892 369.987 Q61.3958 369.987 60.2471 368.838 Q59.0613 367.689 59.0613 365.948 Q59.0613 364.28 60.173 363.169 Q61.2476 362.02 63.0262 362.02 Q64.7678 362.02 65.9165 363.243 Q67.0282 364.428 67.0282 365.948 Q67.0282 367.689 65.8053 368.838 Z\" fill=\"#000000\" fill-rule=\"evenodd\" fill-opacity=\"1\" /><path clip-path=\"url(#clip600)\" d=\"M36.6801 352.904 L34.3086 352.904 L33.4933 341.751 L58.6908 341.751 Q60.5065 341.751 61.5811 341.603 Q62.6186 341.454 63.8414 340.861 Q65.0642 340.231 65.6201 338.823 Q66.1759 337.378 66.1759 335.081 Q66.1759 330.968 62.8039 328.448 Q59.4319 325.891 54.4294 325.891 L40.9044 325.891 Q38.0882 325.891 37.3841 326.892 Q36.6801 327.892 36.6801 331.82 L34.3086 331.82 L33.4933 320.666 L60.4324 320.666 Q63.2485 320.666 63.9896 319.703 Q64.6937 318.703 64.6937 314.738 L67.0282 314.738 L67.8804 325.669 L61.0252 325.669 Q67.8434 328.856 67.8804 335.451 Q67.8804 338.786 67.0282 341.084 Q66.1759 343.344 65.1384 344.493 Q64.0638 345.642 62.0257 346.271 Q59.9877 346.864 58.7278 346.938 Q57.468 347.013 55.0223 347.013 L43.6464 347.013 Q38.4958 347.013 37.6065 347.754 Q36.6801 348.495 36.6801 352.904 Z\" fill=\"#000000\" fill-rule=\"evenodd\" fill-opacity=\"1\" /><path clip-path=\"url(#clip600)\" d=\"M65.8053 305.659 Q64.5825 306.808 62.9892 306.808 Q61.3958 306.808 60.2471 305.659 Q59.0613 304.51 59.0613 302.769 Q59.0613 301.101 60.173 299.99 Q61.2476 298.841 63.0262 298.841 Q64.7678 298.841 65.9165 300.064 Q67.0282 301.25 67.0282 302.769 Q67.0282 304.51 65.8053 305.659 Z\" fill=\"#000000\" fill-rule=\"evenodd\" fill-opacity=\"1\" /><path clip-path=\"url(#clip600)\" d=\"M84.2588 290.578 L84.2588 284.204 L11.8532 284.204 L11.8532 290.578 L10.1116 290.578 L10.1116 279.128 L86.0003 279.128 L86.0003 290.578 L84.2588 290.578 Z\" fill=\"#000000\" fill-rule=\"evenodd\" fill-opacity=\"1\" /><polyline clip-path=\"url(#clip602)\" style=\"stroke:#d77255; stroke-linecap:round; stroke-linejoin:round; stroke-width:16; stroke-opacity:1; fill:none\" points=\"346.985,1418.86 346.985,121.337 367.043,121.337 367.043,135.212 387.101,135.212 387.101,131.812 407.158,131.812 407.158,141.525 427.216,141.525 427.216,147.561 447.274,147.561 447.274,186.341 467.332,186.341 467.332,210.623 487.389,210.623 487.389,188.839 507.447,188.839 507.447,234.626 527.505,234.626 527.505,237.609 547.562,237.609 547.562,252.941 567.62,252.941 567.62,250.236 587.678,250.236 587.678,256.341 607.736,256.341 607.736,278.055 627.793,278.055 627.793,276.529 647.851,276.529 647.851,313.575 667.909,313.575 667.909,305.597 687.966,305.597 687.966,314.824 708.024,314.824 708.024,339.383 728.082,339.383 728.082,362.346 748.139,362.346 748.139,369.006 768.197,369.006 768.197,368.59 788.255,368.59 788.255,385.032 808.313,385.032 808.313,402.237 828.37,402.237 828.37,405.081 848.428,405.081 848.428,431.582 868.486,431.582 868.486,432.692 888.543,432.692 888.543,459.471 908.601,459.471 908.601,472.167 928.659,472.167 928.659,482.365 948.717,482.365 948.717,487.152 968.774,487.152 968.774,490.274 988.832,490.274 988.832,516.567 1008.89,516.567 1008.89,536.478 1028.95,536.478 1028.95,530.997 1049.01,530.997 1049.01,548.688 1069.06,548.688 1069.06,559.233 1089.12,559.233 1089.12,576.438 1109.18,576.438 1109.18,589.203 1129.24,589.203 1129.24,601.69 1149.29,601.69 1149.29,610.778 1169.35,610.778 1169.35,626.18 1189.41,626.18 1189.41,632.354 1209.47,632.354 1209.47,643.038 1229.52,643.038 1229.52,653.167 1249.58,653.167 1249.58,678.558 1269.64,678.558 1269.64,687.923 1289.7,687.923 1289.7,703.255 1309.76,703.255 1309.76,709.568 1329.81,709.568 1329.81,714.008 1349.87,714.008 1349.87,739.955 1369.93,739.955 1369.93,735.723 1389.99,735.723 1389.99,761.392 1410.04,761.392 1410.04,769.231 1430.1,769.231 1430.1,777.487 1450.16,777.487 1450.16,794.206 1470.22,794.206 1470.22,807.387 1490.27,807.387 1490.27,819.251 1510.33,819.251 1510.33,847.486 1530.39,847.486 1530.39,838.884 1550.45,838.884 1550.45,851.302 1570.51,851.302 1570.51,853.938 1590.56,853.938 1590.56,877.456 1610.62,877.456 1610.62,884.255 1630.68,884.255 1630.68,896.326 1650.74,896.326 1650.74,916.445 1670.79,916.445 1670.79,926.505 1690.85,926.505 1690.85,930.528 1710.91,930.528 1710.91,942.322 1730.97,942.322 1730.97,966.742 1751.02,966.742 1751.02,977.842 1771.08,977.842 1771.08,983.878 1791.14,983.878 1791.14,996.018 1811.2,996.018 1811.2,1013.5 1831.26,1013.5 1831.26,1021.9 1851.31,1021.9 1851.31,1040 1871.37,1040 1871.37,1048.05 1891.43,1048.05 1891.43,1056.37 1911.49,1056.37 1911.49,1066.43 1931.54,1066.43 1931.54,1087.8 1951.6,1087.8 1951.6,1097.03 1971.66,1097.03 1971.66,1118.47 1991.72,1118.47 1991.72,1126.37 2011.77,1126.37 2011.77,1133.45 2031.83,1133.45 2031.83,1148.44 2051.89,1148.44 2051.89,1154.33 2071.95,1154.33 2071.95,1170.36 2092.01,1170.36 2092.01,1185.97 2112.06,1185.97 2112.06,1195.47 2132.12,1195.47 2132.12,1207.4 2152.18,1207.4 2152.18,1218.71 2172.24,1218.71 2172.24,1234.95 2192.29,1234.95 2192.29,1251.18 2212.35,1251.18 2212.35,1253.12 2232.41,1253.12 2232.41,1266.72 2252.47,1266.72 2252.47,1282.05 2272.53,1282.05 2272.53,1293.98 2292.58,1293.98 2292.58,1311.74 2312.64,1311.74 2312.64,1311.4 2332.7,1311.4 2332.7,1332 2352.76,1332 2352.76,1418.86 \"/>\n",
       "<polyline clip-path=\"url(#clip602)\" style=\"stroke:#009afa; stroke-linecap:round; stroke-linejoin:round; stroke-width:16; stroke-opacity:1; fill:none\" points=\"346.985,1418.86 346.985,47.2441 367.043,47.2441 367.043,49.4641 387.101,49.4641 387.101,80.6829 407.158,80.6829 407.158,62.0904 427.216,62.0904 427.216,77.561 447.274,77.561 447.274,111.485 467.332,111.485 467.332,122.932 487.389,122.932 487.389,136.877 507.447,136.877 507.447,157.273 527.505,157.273 527.505,176.698 547.562,176.698 547.562,176.282 567.62,176.282 567.62,195.707 587.678,195.707 587.678,199.245 607.736,199.245 607.736,224.775 627.793,224.775 627.793,229.215 647.851,229.215 647.851,240.662 667.909,240.662 667.909,256.826 687.966,256.826 687.966,287.213 708.024,287.213 708.024,295.399 728.082,295.399 728.082,292.901 748.139,292.901 748.139,301.504 768.197,301.504 768.197,325.161 788.255,325.161 788.255,352.98 808.313,352.98 808.313,341.95 828.37,341.95 828.37,367.202 848.428,367.202 848.428,380.383 868.486,380.383 868.486,393.357 888.543,393.357 888.543,410.631 908.601,410.631 908.601,428.738 928.659,428.738 928.659,452.048 948.717,452.048 948.717,454.129 968.774,454.129 968.774,481.186 988.832,481.186 988.832,478.202 1008.89,478.202 1008.89,487.707 1028.95,487.707 1028.95,501.998 1049.01,501.998 1049.01,512.057 1069.06,512.057 1069.06,541.958 1089.12,541.958 1089.12,547.924 1109.18,547.924 1109.18,579.213 1129.24,579.213 1129.24,576.646 1149.29,576.646 1149.29,607.726 1169.35,607.726 1169.35,615.288 1189.41,615.288 1189.41,623.196 1209.47,623.196 1209.47,644.425 1229.52,644.425 1229.52,649.698 1249.58,649.698 1249.58,649.281 1269.64,649.281 1269.64,675.505 1289.7,675.505 1289.7,690.976 1309.76,690.976 1309.76,698.885 1329.81,698.885 1329.81,722.403 1349.87,722.403 1349.87,736.833 1369.93,736.833 1369.93,754.87 1389.99,754.87 1389.99,758.478 1410.04,758.478 1410.04,770.064 1430.1,770.064 1430.1,787.616 1450.16,787.616 1450.16,803.572 1470.22,803.572 1470.22,830.767 1490.27,830.767 1490.27,831.946 1510.33,831.946 1510.33,833.958 1530.39,833.958 1530.39,854.216 1550.45,854.216 1550.45,866.079 1570.51,866.079 1570.51,881.48 1590.56,881.48 1590.56,896.465 1610.62,896.465 1610.62,908.12 1630.68,908.12 1630.68,933.928 1650.74,933.928 1650.74,940.935 1670.79,940.935 1670.79,953.769 1690.85,953.769 1690.85,969.656 1710.91,969.656 1710.91,977.01 1730.97,977.01 1730.97,992.133 1751.02,992.133 1751.02,1018.5 1771.08,1018.5 1771.08,1023.21 1791.14,1023.21 1791.14,1032.02 1811.2,1032.02 1811.2,1044.23 1831.26,1044.23 1831.26,1061.16 1851.31,1061.16 1851.31,1076.08 1871.37,1076.08 1871.37,1086.34 1891.43,1086.34 1891.43,1107.5 1911.49,1107.5 1911.49,1124.85 1931.54,1124.85 1931.54,1139.69 1951.6,1139.69 1951.6,1139.49 1971.66,1139.49 1971.66,1166.47 1991.72,1166.47 1991.72,1177.57 2011.77,1177.57 2011.77,1187.91 2031.83,1187.91 2031.83,1202.96 2051.89,1202.96 2051.89,1221.77 2071.95,1221.77 2071.95,1228.77 2092.01,1228.77 2092.01,1251.87 2112.06,1251.87 2112.06,1257.42 2132.12,1257.42 2132.12,1274.84 2152.18,1274.84 2152.18,1282.95 2172.24,1282.95 2172.24,1301.82 2192.29,1301.82 2192.29,1313.13 2212.35,1313.13 2212.35,1328.88 2232.41,1328.88 2232.41,1342.62 2252.47,1342.62 2252.47,1351.57 2272.53,1351.57 2272.53,1375.29 2292.58,1375.29 2292.58,1384.59 2312.64,1384.59 2312.64,1400.41 2332.7,1400.41 2332.7,1412.13 2352.76,1412.13 2352.76,1418.86 \"/>\n",
       "<polyline clip-path=\"url(#clip602)\" style=\"stroke:#707070; stroke-linecap:round; stroke-linejoin:round; stroke-width:16; stroke-opacity:1; fill:none\" points=\"346.985,1418.86 346.985,1274.98 367.043,1274.98 367.043,1259.85 387.101,1259.85 387.101,1242.79 407.158,1242.79 407.158,1225.93 427.216,1225.93 427.216,1225.72 447.274,1225.72 447.274,1211.57 467.332,1211.57 467.332,1204.49 487.389,1204.49 487.389,1190.34 507.447,1190.34 507.447,1183.75 527.505,1183.75 527.505,1167.72 547.562,1167.72 547.562,1159.19 567.62,1159.19 567.62,1141.78 587.678,1141.78 587.678,1134.28 607.736,1134.28 607.736,1124.71 627.793,1124.71 627.793,1104.04 647.851,1104.04 647.851,1110.21 667.909,1110.21 667.909,1090.99 687.966,1090.99 687.966,1081.9 708.024,1081.9 708.024,1063.59 728.082,1063.59 728.082,1059.15 748.139,1059.15 748.139,1045.07 768.197,1045.07 768.197,1049.92 788.255,1049.92 788.255,1027.79 808.313,1027.79 808.313,1010.1 828.37,1010.1 828.37,1006.42 848.428,1006.42 848.428,991.578 868.486,991.578 868.486,977.01 888.543,977.01 888.543,964.938 908.601,964.938 908.601,972.639 928.659,972.639 928.659,948.496 948.717,948.496 948.717,937.396 968.774,937.396 968.774,925.325 988.832,925.325 988.832,917.278 1008.89,917.278 1008.89,901.46 1028.95,901.46 1028.95,897.159 1049.01,897.159 1049.01,881.619 1069.06,881.619 1069.06,873.918 1089.12,873.918 1089.12,860.876 1109.18,860.876 1109.18,851.371 1129.24,851.371 1129.24,852.967 1149.29,852.967 1149.29,835.484 1169.35,835.484 1169.35,815.851 1189.41,815.851 1189.41,801.352 1209.47,801.352 1209.47,789.697 1229.52,789.697 1229.52,786.159 1249.58,786.159 1249.58,785.187 1269.64,785.187 1269.64,770.133 1289.7,770.133 1289.7,753.136 1309.76,753.136 1309.76,750.708 1329.81,750.708 1329.81,730.728 1349.87,730.728 1349.87,710.817 1369.93,710.817 1369.93,698.746 1389.99,698.746 1389.99,692.086 1410.04,692.086 1410.04,688.687 1430.1,688.687 1430.1,677.795 1450.16,677.795 1450.16,663.087 1470.22,663.087 1470.22,664.336 1490.27,664.336 1490.27,637.002 1510.33,637.002 1510.33,635.476 1530.39,635.476 1530.39,606.13 1550.45,606.13 1550.45,609.044 1570.51,609.044 1570.51,611.541 1590.56,611.541 1590.56,584.069 1610.62,584.069 1610.62,579.421 1630.68,579.421 1630.68,566.031 1650.74,566.031 1650.74,536.2 1670.79,536.2 1670.79,549.867 1690.85,549.867 1690.85,535.159 1710.91,535.159 1710.91,518.371 1730.97,518.371 1730.97,511.988 1751.02,511.988 1751.02,497.766 1771.08,497.766 1771.08,492.286 1791.14,492.286 1791.14,481.81 1811.2,481.81 1811.2,469.392 1831.26,469.392 1831.26,453.574 1851.31,453.574 1851.31,445.18 1871.37,445.18 1871.37,431.86 1891.43,431.86 1891.43,431.999 1911.49,431.999 1911.49,412.504 1931.54,412.504 1931.54,397.519 1951.6,397.519 1951.6,411.117 1971.66,411.117 1971.66,389.125 1991.72,389.125 1991.72,373.585 2011.77,373.585 2011.77,359.64 2031.83,359.64 2031.83,356.588 2051.89,356.588 2051.89,328.977 2071.95,328.977 2071.95,315.795 2092.01,315.795 2092.01,311.286 2112.06,311.286 2112.06,300.741 2132.12,300.741 2132.12,292.138 2152.18,292.138 2152.18,287.351 2172.24,287.351 2172.24,274.517 2192.29,274.517 2192.29,263.764 2212.35,263.764 2212.35,240.454 2232.41,240.454 2232.41,239.483 2252.47,239.483 2252.47,225.677 2272.53,225.677 2272.53,210.068 2292.58,210.068 2292.58,195.915 2312.64,195.915 2312.64,199.037 2332.7,199.037 2332.7,177.114 2352.76,177.114 2352.76,1418.86 \"/>\n",
       "<path clip-path=\"url(#clip600)\" d=\"M413.844 300.325 L718.521 300.325 L718.521 92.9646 L413.844 92.9646  Z\" fill=\"#ffffff\" fill-rule=\"evenodd\" fill-opacity=\"1\"/>\n",
       "<polyline clip-path=\"url(#clip600)\" style=\"stroke:#000000; stroke-linecap:round; stroke-linejoin:round; stroke-width:4; stroke-opacity:1; fill:none\" points=\"413.844,300.325 718.521,300.325 718.521,92.9646 413.844,92.9646 413.844,300.325 \"/>\n",
       "<polyline clip-path=\"url(#clip600)\" style=\"stroke:#d77255; stroke-linecap:round; stroke-linejoin:round; stroke-width:16; stroke-opacity:1; fill:none\" points=\"436.131,144.805 569.849,144.805 \"/>\n",
       "<path clip-path=\"url(#clip600)\" d=\"M592.135 152.673 L592.135 149.684 L605.598 149.684 L605.598 152.673 L592.135 152.673 Z\" fill=\"#000000\" fill-rule=\"evenodd\" fill-opacity=\"1\" /><path clip-path=\"url(#clip600)\" d=\"M610.44 145.904 Q610.44 138.468 612.318 134.417 Q614.936 128.389 621.112 128.389 Q622.421 128.389 623.78 128.76 Q625.163 129.106 626.893 130.464 Q628.647 131.823 629.709 134.046 Q631.735 138.345 631.735 145.904 Q631.735 153.29 629.857 157.317 Q627.115 163.196 621.063 163.196 Q618.79 163.196 616.468 162.035 Q614.17 160.874 612.713 158.083 Q610.44 153.908 610.44 145.904 M614.64 145.286 Q614.64 152.92 615.183 155.958 Q615.801 159.244 617.481 160.677 Q619.185 162.085 621.063 162.085 Q623.088 162.085 624.768 160.578 Q626.473 159.046 626.992 155.761 Q627.56 152.524 627.535 145.286 Q627.535 138.246 627.041 135.43 Q626.374 132.144 624.595 130.835 Q622.841 129.501 621.063 129.501 Q620.396 129.501 619.679 129.699 Q618.988 129.896 617.975 130.464 Q616.962 131.032 616.171 132.441 Q615.406 133.849 615.035 135.973 Q614.64 138.715 614.64 145.286 Z\" fill=\"#000000\" fill-rule=\"evenodd\" fill-opacity=\"1\" /><path clip-path=\"url(#clip600)\" d=\"M638.824 161.269 Q638.059 160.454 638.059 159.392 Q638.059 158.33 638.824 157.564 Q639.59 156.773 640.751 156.773 Q641.863 156.773 642.604 157.514 Q643.37 158.231 643.37 159.417 Q643.37 160.578 642.555 161.344 Q641.764 162.085 640.751 162.085 Q639.59 162.085 638.824 161.269 Z\" fill=\"#000000\" fill-rule=\"evenodd\" fill-opacity=\"1\" /><path clip-path=\"url(#clip600)\" d=\"M649.941 154.451 Q649.941 148.794 657.228 145.138 Q654.091 143.014 653.523 142.396 Q651.3 139.926 651.3 136.838 Q651.3 133.305 653.968 130.86 Q656.66 128.389 660.465 128.389 Q664.096 128.389 666.838 130.489 Q669.58 132.589 669.58 135.924 Q669.58 140.617 663.454 143.779 Q667.505 146.299 668.468 147.361 Q670.939 150.103 670.939 153.587 Q670.939 157.638 667.826 160.429 Q664.714 163.196 660.415 163.196 Q656.216 163.196 653.078 160.751 Q649.941 158.305 649.941 154.451 M652.461 154.451 Q652.461 157.589 654.808 159.688 Q657.179 161.788 660.465 161.788 Q663.651 161.788 666.023 159.96 Q668.419 158.132 668.419 155.415 Q668.419 154.352 668.049 153.438 Q667.703 152.524 666.986 151.808 Q666.295 151.067 665.85 150.746 Q665.43 150.4 664.615 149.832 L658.39 145.904 Q652.461 149.189 652.461 154.451 M653.523 134.862 Q653.523 137.282 656.067 138.962 L662.342 143.014 Q667.357 140.074 667.357 135.924 Q667.357 133.231 665.306 131.452 Q663.256 129.649 660.415 129.649 Q657.624 129.649 655.573 131.131 Q653.523 132.589 653.523 134.862 Z\" fill=\"#000000\" fill-rule=\"evenodd\" fill-opacity=\"1\" /><path clip-path=\"url(#clip600)\" d=\"M675.237 154.451 Q675.237 148.794 682.525 145.138 Q679.387 143.014 678.819 142.396 Q676.596 139.926 676.596 136.838 Q676.596 133.305 679.264 130.86 Q681.957 128.389 685.761 128.389 Q689.392 128.389 692.134 130.489 Q694.876 132.589 694.876 135.924 Q694.876 140.617 688.75 143.779 Q692.801 146.299 693.765 147.361 Q696.235 150.103 696.235 153.587 Q696.235 157.638 693.122 160.429 Q690.01 163.196 685.711 163.196 Q681.512 163.196 678.375 160.751 Q675.237 158.305 675.237 154.451 M677.757 154.451 Q677.757 157.589 680.104 159.688 Q682.475 161.788 685.761 161.788 Q688.948 161.788 691.319 159.96 Q693.715 158.132 693.715 155.415 Q693.715 154.352 693.345 153.438 Q692.999 152.524 692.283 151.808 Q691.591 151.067 691.146 150.746 Q690.726 150.4 689.911 149.832 L683.686 145.904 Q677.757 149.189 677.757 154.451 M678.819 134.862 Q678.819 137.282 681.364 138.962 L687.638 143.014 Q692.653 140.074 692.653 135.924 Q692.653 133.231 690.603 131.452 Q688.552 129.649 685.711 129.649 Q682.92 129.649 680.87 131.131 Q678.819 132.589 678.819 134.862 Z\" fill=\"#000000\" fill-rule=\"evenodd\" fill-opacity=\"1\" /><polyline clip-path=\"url(#clip600)\" style=\"stroke:#009afa; stroke-linecap:round; stroke-linejoin:round; stroke-width:16; stroke-opacity:1; fill:none\" points=\"436.131,196.645 569.849,196.645 \"/>\n",
       "<path clip-path=\"url(#clip600)\" d=\"M592.135 204.513 L592.135 201.524 L605.598 201.524 L605.598 204.513 L592.135 204.513 Z\" fill=\"#000000\" fill-rule=\"evenodd\" fill-opacity=\"1\" /><path clip-path=\"url(#clip600)\" d=\"M612.96 185.046 L612.96 183.465 Q619.037 183.465 622.174 180.229 Q623.039 180.229 623.187 180.427 Q623.335 180.624 623.335 181.539 L623.335 209.923 Q623.335 211.43 624.077 211.899 Q624.818 212.368 628.054 212.368 L629.659 212.368 L629.659 213.925 Q627.881 213.776 621.458 213.776 Q615.035 213.776 613.281 213.925 L613.281 212.368 L614.887 212.368 Q618.074 212.368 618.839 211.924 Q619.605 211.454 619.605 209.923 L619.605 183.712 Q616.962 185.046 612.96 185.046 Z\" fill=\"#000000\" fill-rule=\"evenodd\" fill-opacity=\"1\" /><polyline clip-path=\"url(#clip600)\" style=\"stroke:#707070; stroke-linecap:round; stroke-linejoin:round; stroke-width:16; stroke-opacity:1; fill:none\" points=\"436.131,248.485 569.849,248.485 \"/>\n",
       "<path clip-path=\"url(#clip600)\" d=\"M592.135 256.353 L592.135 253.364 L605.598 253.364 L605.598 256.353 L592.135 256.353 Z\" fill=\"#000000\" fill-rule=\"evenodd\" fill-opacity=\"1\" /><path clip-path=\"url(#clip600)\" d=\"M610.44 249.584 Q610.44 242.148 612.318 238.097 Q614.936 232.069 621.112 232.069 Q622.421 232.069 623.78 232.44 Q625.163 232.786 626.893 234.144 Q628.647 235.503 629.709 237.726 Q631.735 242.025 631.735 249.584 Q631.735 256.97 629.857 260.997 Q627.115 266.876 621.063 266.876 Q618.79 266.876 616.468 265.715 Q614.17 264.554 612.713 261.763 Q610.44 257.588 610.44 249.584 M614.64 248.966 Q614.64 256.6 615.183 259.638 Q615.801 262.924 617.481 264.357 Q619.185 265.765 621.063 265.765 Q623.088 265.765 624.768 264.258 Q626.473 262.726 626.992 259.441 Q627.56 256.204 627.535 248.966 Q627.535 241.926 627.041 239.11 Q626.374 235.824 624.595 234.515 Q622.841 233.181 621.063 233.181 Q620.396 233.181 619.679 233.379 Q618.988 233.576 617.975 234.144 Q616.962 234.712 616.171 236.121 Q615.406 237.529 615.035 239.653 Q614.64 242.395 614.64 248.966 Z\" fill=\"#000000\" fill-rule=\"evenodd\" fill-opacity=\"1\" /><path clip-path=\"url(#clip600)\" d=\"M638.824 264.949 Q638.059 264.134 638.059 263.072 Q638.059 262.01 638.824 261.244 Q639.59 260.453 640.751 260.453 Q641.863 260.453 642.604 261.194 Q643.37 261.911 643.37 263.097 Q643.37 264.258 642.555 265.024 Q641.764 265.765 640.751 265.765 Q639.59 265.765 638.824 264.949 Z\" fill=\"#000000\" fill-rule=\"evenodd\" fill-opacity=\"1\" /><path clip-path=\"url(#clip600)\" d=\"M649.941 249.782 Q649.941 241.827 653.992 236.961 Q658.044 232.069 663.256 232.069 Q666.295 232.069 667.974 233.626 Q669.679 235.157 669.679 237.529 Q669.679 238.838 668.913 239.406 Q668.147 239.974 667.357 239.974 Q666.443 239.974 665.726 239.357 Q665.01 238.739 665.01 237.627 Q665.01 235.355 667.801 235.355 Q666.492 233.329 663.355 233.329 Q662.391 233.329 661.403 233.626 Q660.415 233.897 659.131 234.836 Q657.846 235.775 656.858 237.257 Q655.87 238.739 655.178 241.531 Q654.486 244.322 654.486 247.953 L654.486 249.164 Q656.561 244.149 660.81 244.174 Q665.059 244.174 667.999 247.41 Q670.939 250.646 670.939 255.439 Q670.939 260.355 667.876 263.615 Q664.812 266.876 660.514 266.876 Q658.587 266.876 656.833 266.061 Q655.104 265.271 653.474 263.443 Q651.868 261.614 650.904 258.107 Q649.941 254.599 649.941 249.782 M654.585 254.327 Q654.585 259.292 655.499 261.664 Q655.647 262.059 655.969 262.603 Q656.314 263.146 656.883 263.862 Q657.475 264.554 658.439 265.024 Q659.402 265.468 660.514 265.468 Q663.898 265.468 665.529 262.183 Q666.393 260.355 666.393 255.389 Q666.393 250.325 665.479 248.472 Q663.923 245.335 660.761 245.335 Q658.637 245.335 657.154 246.792 Q655.697 248.25 655.129 250.202 Q654.585 252.153 654.585 254.327 Z\" fill=\"#000000\" fill-rule=\"evenodd\" fill-opacity=\"1\" /><path clip-path=\"url(#clip600)\" d=\"M675.632 257.613 Q675.632 256.106 676.448 255.537 Q677.263 254.945 678.127 254.945 Q679.289 254.945 679.956 255.686 Q680.647 256.402 680.647 257.415 Q680.647 258.428 679.956 259.169 Q679.289 259.885 678.127 259.885 Q677.559 259.885 677.263 259.786 Q677.93 262.109 679.956 263.788 Q682.006 265.468 684.699 265.468 Q688.083 265.468 690.109 262.183 Q691.319 260.058 691.319 255.241 Q691.319 250.992 690.405 248.868 Q688.997 245.631 686.107 245.631 Q682.006 245.631 679.585 249.164 Q679.289 249.609 678.943 249.633 Q678.449 249.633 678.325 249.362 Q678.226 249.065 678.226 248.299 L678.226 233.329 Q678.226 232.119 678.72 232.119 Q678.918 232.119 679.338 232.267 Q682.525 233.675 686.057 233.7 Q689.689 233.7 692.95 232.217 Q693.197 232.069 693.345 232.069 Q693.839 232.069 693.864 232.637 Q693.864 232.835 693.444 233.428 Q693.048 233.996 692.184 234.762 Q691.319 235.503 690.207 236.219 Q689.096 236.936 687.465 237.43 Q685.86 237.899 684.081 237.899 Q681.957 237.899 679.783 237.232 L679.783 247.089 Q682.401 244.52 686.205 244.52 Q690.257 244.52 693.048 247.781 Q695.84 251.041 695.84 255.587 Q695.84 260.355 692.53 263.615 Q689.244 266.876 684.797 266.876 Q680.746 266.876 678.177 263.986 Q675.632 261.096 675.632 257.613 Z\" fill=\"#000000\" fill-rule=\"evenodd\" fill-opacity=\"1\" /></svg>\n"
      ]
     },
     "execution_count": 12,
     "metadata": {},
     "output_type": "execute_result"
    }
   ],
   "source": [
    "stephist(\n",
    "    [xs1 xs2 xs3], \n",
    "    xlabel =\"θ [°]\",\n",
    "    ylabel =\"normalized decay rate [a.u.]\",\n",
    "    label  =[\"-0.88\" \"-1\" \"-0.65\"],\n",
    "    lw = 4,\n",
    "#     ylims = (0.0, 0.012),\n",
    "    xlims = (-1,1),\n",
    "    legend= :topleft,\n",
    "    widen=:false\n",
    ")"
   ]
  },
  {
   "cell_type": "code",
   "execution_count": 13,
   "id": "eb7341b3",
   "metadata": {},
   "outputs": [
    {
     "data": {
      "text/plain": [
       "\"/home/shoram/Work/PhD_Thesis/SNImproved2bbSpectra/SMAngDist.png\""
      ]
     },
     "execution_count": 13,
     "metadata": {},
     "output_type": "execute_result"
    }
   ],
   "source": []
  },
  {
   "cell_type": "code",
   "execution_count": 14,
   "id": "622ca677",
   "metadata": {},
   "outputs": [
    {
     "data": {
      "text/plain": [
       "Plots.GRBackend()"
      ]
     },
     "execution_count": 14,
     "metadata": {},
     "output_type": "execute_result"
    }
   ],
   "source": [
    "gr()"
   ]
  },
  {
   "cell_type": "code",
   "execution_count": null,
   "id": "321e6e7a",
   "metadata": {},
   "outputs": [],
   "source": []
  }
 ],
 "metadata": {
  "@webio": {
   "lastCommId": "379b830ee4c44b9e9fe6e5eaea791b65",
   "lastKernelId": "5088bcf3-2dfd-46b1-bccf-6dddb4910866"
  },
  "kernelspec": {
   "display_name": "Julia 1.8.2",
   "language": "julia",
   "name": "julia-1.8"
  },
  "language_info": {
   "file_extension": ".jl",
   "mimetype": "application/julia",
   "name": "julia",
   "version": "1.8.2"
  }
 },
 "nbformat": 4,
 "nbformat_minor": 5
}
