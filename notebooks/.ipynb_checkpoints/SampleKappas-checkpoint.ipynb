{
 "cells": [
  {
   "cell_type": "code",
   "execution_count": 1,
   "id": "fe3d043a",
   "metadata": {},
   "outputs": [
    {
     "name": "stderr",
     "output_type": "stream",
     "text": [
      "\u001b[32m\u001b[1m  Activating\u001b[22m\u001b[39m new project at `~/Work/PhD_Thesis/SNImproved2bbSpectra/notebooks`\n",
      "\u001b[32m\u001b[1m  No Changes\u001b[22m\u001b[39m to `~/Work/PhD_Thesis/SNImproved2bbSpectra/notebooks/Project.toml`\n",
      "\u001b[32m\u001b[1m  No Changes\u001b[22m\u001b[39m to `~/Work/PhD_Thesis/SNImproved2bbSpectra/notebooks/Manifest.toml`\n"
     ]
    }
   ],
   "source": [
    "using Pkg;\n",
    "Pkg.activate(\".\")\n",
    "Pkg.instantiate()"
   ]
  },
  {
   "cell_type": "code",
   "execution_count": 2,
   "id": "8c8109e0",
   "metadata": {},
   "outputs": [],
   "source": [
    "# Pkg.add(\"Revise\")\n",
    "# Pkg.add(\"StatsPlots\")\n",
    "# Pkg.add(\"UnROOT\")\n",
    "# Pkg.add(\"StatsBase\")\n",
    "# Pkg.add(\"LinearAlgebra\")\n",
    "# Pkg.add(\"FHist\")\n",
    "# Pkg.add(\"DataFramesMeta\")\n",
    "# Pkg.add(\"DataFrames\")\n",
    "# Pkg.add(\"Distributions\")\n",
    "# Pkg.add(\"Polynomials\");"
   ]
  },
  {
   "cell_type": "code",
   "execution_count": 3,
   "id": "925b5caf",
   "metadata": {},
   "outputs": [
    {
     "name": "stderr",
     "output_type": "stream",
     "text": [
      "\u001b[36m\u001b[1m[ \u001b[22m\u001b[39m\u001b[36m\u001b[1mInfo: \u001b[22m\u001b[39mPrecompiling StatsPlots [f3b207a7-027a-5e70-b257-86293d7955fd]\n",
      "\u001b[33m\u001b[1m┌ \u001b[22m\u001b[39m\u001b[33m\u001b[1mWarning: \u001b[22m\u001b[39mbackend `GR` is not installed.\n",
      "\u001b[33m\u001b[1m└ \u001b[22m\u001b[39m\u001b[90m@ Plots ~/.julia/packages/Plots/3BCH5/src/backends.jl:43\u001b[39m\n",
      "\u001b[36m\u001b[1m[ \u001b[22m\u001b[39m\u001b[36m\u001b[1mInfo: \u001b[22m\u001b[39mPrecompiling IJuliaExt [2f4121a4-3b3a-5ce6-9c5e-1f2673ce168a]\n"
     ]
    },
    {
     "ename": "LoadError",
     "evalue": "ArgumentError: Package StatsBase not found in current path.\n- Run `import Pkg; Pkg.add(\"StatsBase\")` to install the StatsBase package.",
     "output_type": "error",
     "traceback": [
      "ArgumentError: Package StatsBase not found in current path.\n- Run `import Pkg; Pkg.add(\"StatsBase\")` to install the StatsBase package.",
      "",
      "Stacktrace:",
      " [1] macro expansion",
      "   @ ./loading.jl:1630 [inlined]",
      " [2] macro expansion",
      "   @ ./lock.jl:267 [inlined]",
      " [3] require(into::Module, mod::Symbol)",
      "   @ Base ./loading.jl:1611"
     ]
    }
   ],
   "source": [
    "using Revise\n",
    "using StatsPlots, UnROOT, StatsBase, LinearAlgebra\n",
    "using FHist, DataFramesMeta, Distributions\n",
    "\n",
    "theme(\n",
    "    :dao;\n",
    "    size           = (800, 800),\n",
    "    legend         = :topleft,\n",
    "    guidefontsize  = 16,\n",
    "    tickfontsize   = 12,\n",
    "    titlefontsize  = 16,\n",
    "    legendfontsize = 12,\n",
    "    left_margin    = 4Plots.mm,\n",
    "    right_margin   = 8Plots.mm,\n",
    "    top_margin     = 4Plots.mm,\n",
    "    bottom_margin  = 6Plots.mm,\n",
    "    dpi            = 5,\n",
    "    :colorbar_titlefontsize => 16,\n",
    "    widen = :false\n",
    ");"
   ]
  },
  {
   "cell_type": "code",
   "execution_count": null,
   "id": "72a81a83",
   "metadata": {},
   "outputs": [
    {
     "name": "stderr",
     "output_type": "stream",
     "text": [
      "\u001b[36m\u001b[1m[ \u001b[22m\u001b[39m\u001b[36m\u001b[1mInfo: \u001b[22m\u001b[39mPrecompiling DataFrames [a93c6f00-e57d-5684-b7b6-d8193f3e46c0]\n"
     ]
    }
   ],
   "source": [
    "include(\"/home/shoram/Work/PhD_Thesis/SNAngularCorrelation/AngularCorrelations/MiscFuncs.jl\")\n",
    "using .MiscFuncs"
   ]
  },
  {
   "cell_type": "markdown",
   "id": "248bb7d6",
   "metadata": {},
   "source": [
    "Sampling Rejection"
   ]
  },
  {
   "cell_type": "code",
   "execution_count": null,
   "id": "6752dfbb",
   "metadata": {},
   "outputs": [],
   "source": [
    "\n",
    "function solve_quadratic(a, b, c)\n",
    "    d  = sqrt(b^2 - 4*a*c)\n",
    "    return (-b - d) / (2*a), (-b + d) / (2*a)\n",
    "end"
   ]
  },
  {
   "cell_type": "code",
   "execution_count": null,
   "id": "1e2d96b9",
   "metadata": {},
   "outputs": [],
   "source": [
    "function sample_theta_dif(_k::Real)\n",
    "    \n",
    "    if (_k == 0.0)\n",
    "        return 0.5\n",
    "    end\n",
    "    \n",
    "    a = _k/4 \n",
    "    b = 1/2\n",
    "    c = 1/2 - _k/4 - rand(Uniform())\n",
    "    θ = solve_quadratic(a,b,c)\n",
    "    if( -1.0 <= θ[1] <= 1.0 )\n",
    "        return θ[1]\n",
    "    elseif ( -1.0 <= θ[2] <= 1.0 )\n",
    "        return θ[2]\n",
    "    else\n",
    "        @show \"soulution is outside of range u ∈ (-1.0, 1.0)\"\n",
    "    end\n",
    "    return -100.0\n",
    "end"
   ]
  },
  {
   "cell_type": "code",
   "execution_count": null,
   "id": "7fd496da",
   "metadata": {},
   "outputs": [],
   "source": [
    "xs1 = []\n",
    "for _ in 1:1e8\n",
    "    push!(xs1, sample_theta_dif(-0.88))\n",
    "       \n",
    "end"
   ]
  },
  {
   "cell_type": "code",
   "execution_count": null,
   "id": "11eb08dc",
   "metadata": {},
   "outputs": [],
   "source": [
    "theme(\n",
    "    :dao;\n",
    "    size           = (800, 800),\n",
    "    legend         = :topleft,\n",
    "    guidefontsize  = 24,\n",
    "    tickfontsize   = 24,\n",
    "    titlefontsize  = 24,\n",
    "    legendfontsize = 32,\n",
    "    left_margin    = 4Plots.mm,\n",
    "    right_margin   = 8Plots.mm,\n",
    "    top_margin     = 4Plots.mm,\n",
    "    bottom_margin  = 6Plots.mm,\n",
    "    dpi            = 200,\n",
    "    :fontfamily => \"Helvetica Bold\",\n",
    "    :colorbar_titlefontsize => 20,\n",
    "    widen = :false,\n",
    "    :markerstrokewidth => 1,\n",
    "    :markerstrokecolor => :black,\n",
    ");"
   ]
  },
  {
   "cell_type": "code",
   "execution_count": null,
   "id": "3a47ebf9",
   "metadata": {},
   "outputs": [],
   "source": [
    "sh1 = StatsBase.fit(Histogram{Float32},acosd.(xs1), collect(0:1:180) )\n"
   ]
  },
  {
   "cell_type": "code",
   "execution_count": null,
   "id": "536d582e",
   "metadata": {},
   "outputs": [],
   "source": [
    "sh1.weights = sh1.weights ./ maximum(sh1.weights)\n"
   ]
  },
  {
   "cell_type": "code",
   "execution_count": null,
   "id": "244d344a",
   "metadata": {},
   "outputs": [],
   "source": [
    "plot(\n",
    "    midpoints(sh1.edges[1]),\n",
    "    [sh1.weights],\n",
    "    series_type= :stepmid,\n",
    "    label =\" 2νββ \",\n",
    "    lw = 6,\n",
    "    xlims = (0,180),\n",
    "    legend= :topleft,\n",
    "#     widen=:false,\n",
    "    ylims = (0,1.1),\n",
    "    ylabel = \"dN/dϑ [a.u.]\",\n",
    "    xlabel = \"ϑ [°]\",\n",
    "    thickness_scaling = 1.5,\n",
    "    size = (1600, 800)\n",
    ")"
   ]
  },
  {
   "cell_type": "code",
   "execution_count": null,
   "id": "71d948dc",
   "metadata": {},
   "outputs": [],
   "source": [
    "savefig(\"SMAngDist.svg\")"
   ]
  },
  {
   "cell_type": "code",
   "execution_count": null,
   "id": "6859dda4",
   "metadata": {},
   "outputs": [],
   "source": [
    "stephist(\n",
    "    [xs1 xs2 xs3], \n",
    "    xlabel =\"θ [°]\",\n",
    "    ylabel =\"normalized decay rate [a.u.]\",\n",
    "    label  =[\"-0.88\" \"-1\" \"-0.65\"],\n",
    "    lw = 4,\n",
    "#     ylims = (0.0, 0.012),\n",
    "    xlims = (-1,1),\n",
    "    legend= :topleft,\n",
    "    widen=:false\n",
    ")"
   ]
  },
  {
   "cell_type": "code",
   "execution_count": null,
   "id": "eb7341b3",
   "metadata": {},
   "outputs": [],
   "source": []
  },
  {
   "cell_type": "code",
   "execution_count": null,
   "id": "622ca677",
   "metadata": {},
   "outputs": [],
   "source": [
    "gr()"
   ]
  },
  {
   "cell_type": "code",
   "execution_count": null,
   "id": "321e6e7a",
   "metadata": {},
   "outputs": [],
   "source": []
  }
 ],
 "metadata": {
  "@webio": {
   "lastCommId": null,
   "lastKernelId": null
  },
  "kernelspec": {
   "display_name": "Julia 1.9.2",
   "language": "julia",
   "name": "julia-1.9"
  },
  "language_info": {
   "file_extension": ".jl",
   "mimetype": "application/julia",
   "name": "julia",
   "version": "1.8.2"
  }
 },
 "nbformat": 4,
 "nbformat_minor": 5
}
