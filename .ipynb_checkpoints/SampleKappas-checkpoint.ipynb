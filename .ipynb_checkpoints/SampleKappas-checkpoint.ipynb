{
 "cells": [
  {
   "cell_type": "code",
   "execution_count": 1,
   "id": "fe3d043a",
   "metadata": {},
   "outputs": [
    {
     "name": "stderr",
     "output_type": "stream",
     "text": [
      "\u001b[32m\u001b[1m  Activating\u001b[22m\u001b[39m project at `~/Work/PhD_Thesis/SNImproved2bbSpectra`\n"
     ]
    }
   ],
   "source": [
    "using Pkg;\n",
    "Pkg.activate(\".\")\n",
    "Pkg.instantiate()"
   ]
  },
  {
   "cell_type": "code",
   "execution_count": 2,
   "id": "8c8109e0",
   "metadata": {},
   "outputs": [],
   "source": [
    "# Pkg.add(\"Revise\")\n",
    "# Pkg.add(\"StatsPlots\")\n",
    "# Pkg.add(\"UnROOT\")\n",
    "# Pkg.add(\"StatsBase\")\n",
    "# Pkg.add(\"LinearAlgebra\")\n",
    "# Pkg.add(\"FHist\")\n",
    "# Pkg.add(\"DataFramesMeta\")\n",
    "# Pkg.add(\"DataFrames\")\n",
    "# Pkg.add(\"Distributions\")\n",
    "# Pkg.add(\"Polynomials\");"
   ]
  },
  {
   "cell_type": "code",
   "execution_count": 2,
   "id": "925b5caf",
   "metadata": {},
   "outputs": [],
   "source": [
    "using Revise\n",
    "using StatsPlots, UnROOT, StatsBase, LinearAlgebra\n",
    "using FHist, DataFramesMeta, Distributions\n",
    "\n",
    "ENV[\"COLUMNS\"] = 2000\n",
    "ENV[\"LINES\"] = 20\n",
    "\n",
    "gr()\n",
    "default(fmt = :jpg)\n",
    "theme(\n",
    "    :dao;\n",
    "    size           = (800, 800),\n",
    "    legend         = :topleft,\n",
    "    guidefontsize  = 16,\n",
    "    tickfontsize   = 12,\n",
    "    titlefontsize  = 16,\n",
    "    legendfontsize = 12,\n",
    "    left_margin    = 4Plots.mm,\n",
    "    right_margin   = 8Plots.mm,\n",
    "    top_margin     = 4Plots.mm,\n",
    "    bottom_margin  = 6Plots.mm,\n",
    "    dpi            = 5,\n",
    "    :colorbar_titlefontsize => 16,\n",
    "    widen = :false\n",
    ");"
   ]
  },
  {
   "cell_type": "code",
   "execution_count": 3,
   "id": "72a81a83",
   "metadata": {},
   "outputs": [],
   "source": [
    "include(\"/home/shoram/Work/PhD_Thesis/SNAngularCorrelation/AngularCorrelations/MiscFuncs.jl\")\n",
    "using .MiscFuncs"
   ]
  },
  {
   "cell_type": "markdown",
   "id": "248bb7d6",
   "metadata": {},
   "source": [
    "Sampling Rejection"
   ]
  },
  {
   "cell_type": "code",
   "execution_count": 4,
   "id": "6752dfbb",
   "metadata": {},
   "outputs": [
    {
     "data": {
      "text/plain": [
       "solve_quadratic (generic function with 1 method)"
      ]
     },
     "execution_count": 4,
     "metadata": {},
     "output_type": "execute_result"
    }
   ],
   "source": [
    "\n",
    "function solve_quadratic(a, b, c)\n",
    "    d  = sqrt(b^2 - 4*a*c)\n",
    "    return (-b - d) / (2*a), (-b + d) / (2*a)\n",
    "end"
   ]
  },
  {
   "cell_type": "code",
   "execution_count": 5,
   "id": "1e2d96b9",
   "metadata": {},
   "outputs": [
    {
     "data": {
      "text/plain": [
       "sample_theta_dif (generic function with 1 method)"
      ]
     },
     "execution_count": 5,
     "metadata": {},
     "output_type": "execute_result"
    }
   ],
   "source": [
    "function sample_theta_dif(_k::Real)\n",
    "    \n",
    "    if (_k == 0.0)\n",
    "        return 0.5\n",
    "    end\n",
    "    \n",
    "    a = _k/4 \n",
    "    b = 1/2\n",
    "    c = 1/2 - _k/4 - rand(Uniform())\n",
    "    θ = solve_quadratic(a,b,c)\n",
    "    if( -1.0 <= θ[1] <= 1.0 )\n",
    "        return θ[1]\n",
    "    elseif ( -1.0 <= θ[2] <= 1.0 )\n",
    "        return θ[2]\n",
    "    else\n",
    "        @show \"soulution is outside of range u ∈ (-1.0, 1.0)\"\n",
    "    end\n",
    "    return -100.0\n",
    "end"
   ]
  },
  {
   "cell_type": "code",
   "execution_count": 6,
   "id": "7fd496da",
   "metadata": {},
   "outputs": [],
   "source": [
    "xs = []\n",
    "for _ in 1:1e8\n",
    "    push!(xs, sample_theta_dif(-1))\n",
    "end"
   ]
  },
  {
   "cell_type": "code",
   "execution_count": 9,
   "id": "6859dda4",
   "metadata": {},
   "outputs": [
    {
     "data": {
      "image/svg+xml": [
       "<?xml version=\"1.0\" encoding=\"utf-8\"?>\n",
       "<svg xmlns=\"http://www.w3.org/2000/svg\" xmlns:xlink=\"http://www.w3.org/1999/xlink\" width=\"800\" height=\"800\" viewBox=\"0 0 3200 3200\">\n",
       "<defs>\n",
       "  <clipPath id=\"clip540\">\n",
       "    <rect x=\"0\" y=\"0\" width=\"3200\" height=\"3200\"/>\n",
       "  </clipPath>\n",
       "</defs>\n",
       "<path clip-path=\"url(#clip540)\" d=\"M0 3200 L3200 3200 L3200 0 L0 0  Z\" fill=\"#ffffff\" fill-rule=\"evenodd\" fill-opacity=\"1\"/>\n",
       "<defs>\n",
       "  <clipPath id=\"clip541\">\n",
       "    <rect x=\"640\" y=\"320\" width=\"2241\" height=\"2241\"/>\n",
       "  </clipPath>\n",
       "</defs>\n",
       "<path clip-path=\"url(#clip540)\" d=\"M309.947 2948.51 L3042.52 2948.51 L3042.52 94.4882 L309.947 94.4882  Z\" fill=\"#ffffff\" fill-rule=\"evenodd\" fill-opacity=\"1\"/>\n",
       "<defs>\n",
       "  <clipPath id=\"clip542\">\n",
       "    <rect x=\"309\" y=\"94\" width=\"2734\" height=\"2855\"/>\n",
       "  </clipPath>\n",
       "</defs>\n",
       "<polyline clip-path=\"url(#clip542)\" style=\"stroke:#000000; stroke-linecap:round; stroke-linejoin:round; stroke-width:2.8; stroke-opacity:0.4; fill:none\" points=\"358.95,2948.51 358.95,94.4882 \"/>\n",
       "<polyline clip-path=\"url(#clip542)\" style=\"stroke:#000000; stroke-linecap:round; stroke-linejoin:round; stroke-width:2.8; stroke-opacity:0.4; fill:none\" points=\"1075.63,2948.51 1075.63,94.4882 \"/>\n",
       "<polyline clip-path=\"url(#clip542)\" style=\"stroke:#000000; stroke-linecap:round; stroke-linejoin:round; stroke-width:2.8; stroke-opacity:0.4; fill:none\" points=\"1792.3,2948.51 1792.3,94.4882 \"/>\n",
       "<polyline clip-path=\"url(#clip542)\" style=\"stroke:#000000; stroke-linecap:round; stroke-linejoin:round; stroke-width:2.8; stroke-opacity:0.4; fill:none\" points=\"2508.98,2948.51 2508.98,94.4882 \"/>\n",
       "<polyline clip-path=\"url(#clip542)\" style=\"stroke:#000000; stroke-linecap:round; stroke-linejoin:round; stroke-width:2; stroke-opacity:0.06; fill:none\" points=\"502.285,2948.51 502.285,94.4882 \"/>\n",
       "<polyline clip-path=\"url(#clip542)\" style=\"stroke:#000000; stroke-linecap:round; stroke-linejoin:round; stroke-width:2; stroke-opacity:0.06; fill:none\" points=\"645.62,2948.51 645.62,94.4882 \"/>\n",
       "<polyline clip-path=\"url(#clip542)\" style=\"stroke:#000000; stroke-linecap:round; stroke-linejoin:round; stroke-width:2; stroke-opacity:0.06; fill:none\" points=\"788.955,2948.51 788.955,94.4882 \"/>\n",
       "<polyline clip-path=\"url(#clip542)\" style=\"stroke:#000000; stroke-linecap:round; stroke-linejoin:round; stroke-width:2; stroke-opacity:0.06; fill:none\" points=\"932.291,2948.51 932.291,94.4882 \"/>\n",
       "<polyline clip-path=\"url(#clip542)\" style=\"stroke:#000000; stroke-linecap:round; stroke-linejoin:round; stroke-width:2; stroke-opacity:0.06; fill:none\" points=\"1218.96,2948.51 1218.96,94.4882 \"/>\n",
       "<polyline clip-path=\"url(#clip542)\" style=\"stroke:#000000; stroke-linecap:round; stroke-linejoin:round; stroke-width:2; stroke-opacity:0.06; fill:none\" points=\"1362.3,2948.51 1362.3,94.4882 \"/>\n",
       "<polyline clip-path=\"url(#clip542)\" style=\"stroke:#000000; stroke-linecap:round; stroke-linejoin:round; stroke-width:2; stroke-opacity:0.06; fill:none\" points=\"1505.63,2948.51 1505.63,94.4882 \"/>\n",
       "<polyline clip-path=\"url(#clip542)\" style=\"stroke:#000000; stroke-linecap:round; stroke-linejoin:round; stroke-width:2; stroke-opacity:0.06; fill:none\" points=\"1648.97,2948.51 1648.97,94.4882 \"/>\n",
       "<polyline clip-path=\"url(#clip542)\" style=\"stroke:#000000; stroke-linecap:round; stroke-linejoin:round; stroke-width:2; stroke-opacity:0.06; fill:none\" points=\"1935.64,2948.51 1935.64,94.4882 \"/>\n",
       "<polyline clip-path=\"url(#clip542)\" style=\"stroke:#000000; stroke-linecap:round; stroke-linejoin:round; stroke-width:2; stroke-opacity:0.06; fill:none\" points=\"2078.97,2948.51 2078.97,94.4882 \"/>\n",
       "<polyline clip-path=\"url(#clip542)\" style=\"stroke:#000000; stroke-linecap:round; stroke-linejoin:round; stroke-width:2; stroke-opacity:0.06; fill:none\" points=\"2222.31,2948.51 2222.31,94.4882 \"/>\n",
       "<polyline clip-path=\"url(#clip542)\" style=\"stroke:#000000; stroke-linecap:round; stroke-linejoin:round; stroke-width:2; stroke-opacity:0.06; fill:none\" points=\"2365.64,2948.51 2365.64,94.4882 \"/>\n",
       "<polyline clip-path=\"url(#clip542)\" style=\"stroke:#000000; stroke-linecap:round; stroke-linejoin:round; stroke-width:2; stroke-opacity:0.06; fill:none\" points=\"2652.31,2948.51 2652.31,94.4882 \"/>\n",
       "<polyline clip-path=\"url(#clip542)\" style=\"stroke:#000000; stroke-linecap:round; stroke-linejoin:round; stroke-width:2; stroke-opacity:0.06; fill:none\" points=\"2795.65,2948.51 2795.65,94.4882 \"/>\n",
       "<polyline clip-path=\"url(#clip542)\" style=\"stroke:#000000; stroke-linecap:round; stroke-linejoin:round; stroke-width:2; stroke-opacity:0.06; fill:none\" points=\"2938.98,2948.51 2938.98,94.4882 \"/>\n",
       "<polyline clip-path=\"url(#clip540)\" style=\"stroke:#000000; stroke-linecap:round; stroke-linejoin:round; stroke-width:4; stroke-opacity:1; fill:none\" points=\"309.947,2948.51 3042.52,2948.51 \"/>\n",
       "<polyline clip-path=\"url(#clip540)\" style=\"stroke:#000000; stroke-linecap:round; stroke-linejoin:round; stroke-width:4; stroke-opacity:1; fill:none\" points=\"309.947,94.4882 3042.52,94.4882 \"/>\n",
       "<polyline clip-path=\"url(#clip540)\" style=\"stroke:#000000; stroke-linecap:round; stroke-linejoin:round; stroke-width:4; stroke-opacity:1; fill:none\" points=\"358.95,2948.51 358.95,2929.61 \"/>\n",
       "<polyline clip-path=\"url(#clip540)\" style=\"stroke:#000000; stroke-linecap:round; stroke-linejoin:round; stroke-width:4; stroke-opacity:1; fill:none\" points=\"1075.63,2948.51 1075.63,2929.61 \"/>\n",
       "<polyline clip-path=\"url(#clip540)\" style=\"stroke:#000000; stroke-linecap:round; stroke-linejoin:round; stroke-width:4; stroke-opacity:1; fill:none\" points=\"1792.3,2948.51 1792.3,2929.61 \"/>\n",
       "<polyline clip-path=\"url(#clip540)\" style=\"stroke:#000000; stroke-linecap:round; stroke-linejoin:round; stroke-width:4; stroke-opacity:1; fill:none\" points=\"2508.98,2948.51 2508.98,2929.61 \"/>\n",
       "<polyline clip-path=\"url(#clip540)\" style=\"stroke:#000000; stroke-linecap:round; stroke-linejoin:round; stroke-width:4; stroke-opacity:1; fill:none\" points=\"502.285,2948.51 502.285,2939.06 \"/>\n",
       "<polyline clip-path=\"url(#clip540)\" style=\"stroke:#000000; stroke-linecap:round; stroke-linejoin:round; stroke-width:4; stroke-opacity:1; fill:none\" points=\"645.62,2948.51 645.62,2939.06 \"/>\n",
       "<polyline clip-path=\"url(#clip540)\" style=\"stroke:#000000; stroke-linecap:round; stroke-linejoin:round; stroke-width:4; stroke-opacity:1; fill:none\" points=\"788.955,2948.51 788.955,2939.06 \"/>\n",
       "<polyline clip-path=\"url(#clip540)\" style=\"stroke:#000000; stroke-linecap:round; stroke-linejoin:round; stroke-width:4; stroke-opacity:1; fill:none\" points=\"932.291,2948.51 932.291,2939.06 \"/>\n",
       "<polyline clip-path=\"url(#clip540)\" style=\"stroke:#000000; stroke-linecap:round; stroke-linejoin:round; stroke-width:4; stroke-opacity:1; fill:none\" points=\"1218.96,2948.51 1218.96,2939.06 \"/>\n",
       "<polyline clip-path=\"url(#clip540)\" style=\"stroke:#000000; stroke-linecap:round; stroke-linejoin:round; stroke-width:4; stroke-opacity:1; fill:none\" points=\"1362.3,2948.51 1362.3,2939.06 \"/>\n",
       "<polyline clip-path=\"url(#clip540)\" style=\"stroke:#000000; stroke-linecap:round; stroke-linejoin:round; stroke-width:4; stroke-opacity:1; fill:none\" points=\"1505.63,2948.51 1505.63,2939.06 \"/>\n",
       "<polyline clip-path=\"url(#clip540)\" style=\"stroke:#000000; stroke-linecap:round; stroke-linejoin:round; stroke-width:4; stroke-opacity:1; fill:none\" points=\"1648.97,2948.51 1648.97,2939.06 \"/>\n",
       "<polyline clip-path=\"url(#clip540)\" style=\"stroke:#000000; stroke-linecap:round; stroke-linejoin:round; stroke-width:4; stroke-opacity:1; fill:none\" points=\"1935.64,2948.51 1935.64,2939.06 \"/>\n",
       "<polyline clip-path=\"url(#clip540)\" style=\"stroke:#000000; stroke-linecap:round; stroke-linejoin:round; stroke-width:4; stroke-opacity:1; fill:none\" points=\"2078.97,2948.51 2078.97,2939.06 \"/>\n",
       "<polyline clip-path=\"url(#clip540)\" style=\"stroke:#000000; stroke-linecap:round; stroke-linejoin:round; stroke-width:4; stroke-opacity:1; fill:none\" points=\"2222.31,2948.51 2222.31,2939.06 \"/>\n",
       "<polyline clip-path=\"url(#clip540)\" style=\"stroke:#000000; stroke-linecap:round; stroke-linejoin:round; stroke-width:4; stroke-opacity:1; fill:none\" points=\"2365.64,2948.51 2365.64,2939.06 \"/>\n",
       "<polyline clip-path=\"url(#clip540)\" style=\"stroke:#000000; stroke-linecap:round; stroke-linejoin:round; stroke-width:4; stroke-opacity:1; fill:none\" points=\"2652.31,2948.51 2652.31,2939.06 \"/>\n",
       "<polyline clip-path=\"url(#clip540)\" style=\"stroke:#000000; stroke-linecap:round; stroke-linejoin:round; stroke-width:4; stroke-opacity:1; fill:none\" points=\"2795.65,2948.51 2795.65,2939.06 \"/>\n",
       "<polyline clip-path=\"url(#clip540)\" style=\"stroke:#000000; stroke-linecap:round; stroke-linejoin:round; stroke-width:4; stroke-opacity:1; fill:none\" points=\"2938.98,2948.51 2938.98,2939.06 \"/>\n",
       "<path clip-path=\"url(#clip540)\" d=\"M342.979 3014.64 Q342.979 3003.48 345.795 2997.41 Q349.723 2988.36 358.987 2988.36 Q360.951 2988.36 362.989 2988.92 Q365.064 2989.44 367.658 2991.48 Q370.289 2993.52 371.882 2996.85 Q374.921 3003.3 374.921 3014.64 Q374.921 3025.72 372.105 3031.76 Q367.991 3040.58 358.913 3040.58 Q355.504 3040.58 352.021 3038.83 Q348.575 3037.09 346.388 3032.9 Q342.979 3026.64 342.979 3014.64 M349.279 3013.71 Q349.279 3025.16 350.094 3029.72 Q351.02 3034.65 353.54 3036.8 Q356.097 3038.91 358.913 3038.91 Q361.951 3038.91 364.471 3036.65 Q367.028 3034.35 367.806 3029.42 Q368.658 3024.57 368.621 3013.71 Q368.621 3003.15 367.88 2998.93 Q366.88 2994 364.212 2992.03 Q361.581 2990.03 358.913 2990.03 Q357.912 2990.03 356.838 2990.33 Q355.8 2990.63 354.281 2991.48 Q352.762 2992.33 351.576 2994.44 Q350.427 2996.55 349.872 2999.74 Q349.279 3003.85 349.279 3013.71 Z\" fill=\"#000000\" fill-rule=\"evenodd\" fill-opacity=\"1\" /><path clip-path=\"url(#clip540)\" d=\"M1041.09 3026.68 Q1041.09 3024.42 1042.31 3023.57 Q1043.54 3022.68 1044.83 3022.68 Q1046.57 3022.68 1047.57 3023.79 Q1048.61 3024.86 1048.61 3026.38 Q1048.61 3027.9 1047.57 3029.01 Q1046.57 3030.09 1044.83 3030.09 Q1043.98 3030.09 1043.54 3029.94 Q1044.54 3033.42 1047.57 3035.94 Q1050.65 3038.46 1054.69 3038.46 Q1059.77 3038.46 1062.8 3033.53 Q1064.62 3030.35 1064.62 3023.12 Q1064.62 3016.75 1063.25 3013.56 Q1061.14 3008.71 1056.8 3008.71 Q1050.65 3008.71 1047.02 3014.01 Q1046.57 3014.67 1046.06 3014.71 Q1045.31 3014.71 1045.13 3014.3 Q1044.98 3013.86 1044.98 3012.71 L1044.98 2990.25 Q1044.98 2988.44 1045.72 2988.44 Q1046.02 2988.44 1046.65 2988.66 Q1051.43 2990.77 1056.73 2990.81 Q1062.17 2990.81 1067.07 2988.59 Q1067.44 2988.36 1067.66 2988.36 Q1068.4 2988.36 1068.44 2989.22 Q1068.44 2989.51 1067.81 2990.4 Q1067.21 2991.25 1065.92 2992.4 Q1064.62 2993.52 1062.95 2994.59 Q1061.29 2995.66 1058.84 2996.41 Q1056.43 2997.11 1053.76 2997.11 Q1050.58 2997.11 1047.32 2996.11 L1047.32 3010.89 Q1051.24 3007.04 1056.95 3007.04 Q1063.03 3007.04 1067.21 3011.93 Q1071.4 3016.82 1071.4 3023.64 Q1071.4 3030.79 1066.44 3035.68 Q1061.51 3040.58 1054.84 3040.58 Q1048.76 3040.58 1044.91 3036.24 Q1041.09 3031.9 1041.09 3026.68 Z\" fill=\"#000000\" fill-rule=\"evenodd\" fill-opacity=\"1\" /><path clip-path=\"url(#clip540)\" d=\"M1078.22 3014.64 Q1078.22 3003.48 1081.04 2997.41 Q1084.96 2988.36 1094.23 2988.36 Q1096.19 2988.36 1098.23 2988.92 Q1100.3 2989.44 1102.9 2991.48 Q1105.53 2993.52 1107.12 2996.85 Q1110.16 3003.3 1110.16 3014.64 Q1110.16 3025.72 1107.34 3031.76 Q1103.23 3040.58 1094.15 3040.58 Q1090.74 3040.58 1087.26 3038.83 Q1083.81 3037.09 1081.63 3032.9 Q1078.22 3026.64 1078.22 3014.64 M1084.52 3013.71 Q1084.52 3025.16 1085.33 3029.72 Q1086.26 3034.65 1088.78 3036.8 Q1091.34 3038.91 1094.15 3038.91 Q1097.19 3038.91 1099.71 3036.65 Q1102.27 3034.35 1103.05 3029.42 Q1103.9 3024.57 1103.86 3013.71 Q1103.86 3003.15 1103.12 2998.93 Q1102.12 2994 1099.45 2992.03 Q1096.82 2990.03 1094.15 2990.03 Q1093.15 2990.03 1092.08 2990.33 Q1091.04 2990.63 1089.52 2991.48 Q1088 2992.33 1086.82 2994.44 Q1085.67 2996.55 1085.11 2999.74 Q1084.52 3003.85 1084.52 3013.71 Z\" fill=\"#000000\" fill-rule=\"evenodd\" fill-opacity=\"1\" /><path clip-path=\"url(#clip540)\" d=\"M1740.28 2995.59 L1740.28 2993.22 Q1749.39 2993.22 1754.1 2988.36 Q1755.39 2988.36 1755.62 2988.66 Q1755.84 2988.96 1755.84 2990.33 L1755.84 3032.9 Q1755.84 3035.17 1756.95 3035.87 Q1758.06 3036.57 1762.92 3036.57 L1765.33 3036.57 L1765.33 3038.91 Q1762.66 3038.69 1753.02 3038.69 Q1743.39 3038.69 1740.76 3038.91 L1740.76 3036.57 L1743.17 3036.57 Q1747.95 3036.57 1749.1 3035.91 Q1750.24 3035.2 1750.24 3032.9 L1750.24 2993.59 Q1746.28 2995.59 1740.28 2995.59 Z\" fill=\"#000000\" fill-rule=\"evenodd\" fill-opacity=\"1\" /><path clip-path=\"url(#clip540)\" d=\"M1774.44 3014.64 Q1774.44 3003.48 1777.26 2997.41 Q1781.18 2988.36 1790.45 2988.36 Q1792.41 2988.36 1794.45 2988.92 Q1796.53 2989.44 1799.12 2991.48 Q1801.75 2993.52 1803.34 2996.85 Q1806.38 3003.3 1806.38 3014.64 Q1806.38 3025.72 1803.57 3031.76 Q1799.45 3040.58 1790.37 3040.58 Q1786.97 3040.58 1783.48 3038.83 Q1780.04 3037.09 1777.85 3032.9 Q1774.44 3026.64 1774.44 3014.64 M1780.74 3013.71 Q1780.74 3025.16 1781.56 3029.72 Q1782.48 3034.65 1785 3036.8 Q1787.56 3038.91 1790.37 3038.91 Q1793.41 3038.91 1795.93 3036.65 Q1798.49 3034.35 1799.27 3029.42 Q1800.12 3024.57 1800.08 3013.71 Q1800.08 3003.15 1799.34 2998.93 Q1798.34 2994 1795.67 2992.03 Q1793.04 2990.03 1790.37 2990.03 Q1789.37 2990.03 1788.3 2990.33 Q1787.26 2990.63 1785.74 2991.48 Q1784.22 2992.33 1783.04 2994.44 Q1781.89 2996.55 1781.33 2999.74 Q1780.74 3003.85 1780.74 3013.71 Z\" fill=\"#000000\" fill-rule=\"evenodd\" fill-opacity=\"1\" /><path clip-path=\"url(#clip540)\" d=\"M1812.39 3014.64 Q1812.39 3003.48 1815.2 2997.41 Q1819.13 2988.36 1828.39 2988.36 Q1830.36 2988.36 1832.39 2988.92 Q1834.47 2989.44 1837.06 2991.48 Q1839.69 2993.52 1841.29 2996.85 Q1844.33 3003.3 1844.33 3014.64 Q1844.33 3025.72 1841.51 3031.76 Q1837.4 3040.58 1828.32 3040.58 Q1824.91 3040.58 1821.43 3038.83 Q1817.98 3037.09 1815.79 3032.9 Q1812.39 3026.64 1812.39 3014.64 M1818.68 3013.71 Q1818.68 3025.16 1819.5 3029.72 Q1820.43 3034.65 1822.95 3036.8 Q1825.5 3038.91 1828.32 3038.91 Q1831.36 3038.91 1833.88 3036.65 Q1836.43 3034.35 1837.21 3029.42 Q1838.06 3024.57 1838.03 3013.71 Q1838.03 3003.15 1837.29 2998.93 Q1836.29 2994 1833.62 2992.03 Q1830.99 2990.03 1828.32 2990.03 Q1827.32 2990.03 1826.24 2990.33 Q1825.21 2990.63 1823.69 2991.48 Q1822.17 2992.33 1820.98 2994.44 Q1819.83 2996.55 1819.28 2999.74 Q1818.68 3003.85 1818.68 3013.71 Z\" fill=\"#000000\" fill-rule=\"evenodd\" fill-opacity=\"1\" /><path clip-path=\"url(#clip540)\" d=\"M2456.95 2995.59 L2456.95 2993.22 Q2466.07 2993.22 2470.77 2988.36 Q2472.07 2988.36 2472.29 2988.66 Q2472.51 2988.96 2472.51 2990.33 L2472.51 3032.9 Q2472.51 3035.17 2473.63 3035.87 Q2474.74 3036.57 2479.59 3036.57 L2482 3036.57 L2482 3038.91 Q2479.33 3038.69 2469.7 3038.69 Q2460.06 3038.69 2457.43 3038.91 L2457.43 3036.57 L2459.84 3036.57 Q2464.62 3036.57 2465.77 3035.91 Q2466.92 3035.2 2466.92 3032.9 L2466.92 2993.59 Q2462.95 2995.59 2456.95 2995.59 Z\" fill=\"#000000\" fill-rule=\"evenodd\" fill-opacity=\"1\" /><path clip-path=\"url(#clip540)\" d=\"M2491.93 3026.68 Q2491.93 3024.42 2493.15 3023.57 Q2494.38 3022.68 2495.67 3022.68 Q2497.42 3022.68 2498.42 3023.79 Q2499.45 3024.86 2499.45 3026.38 Q2499.45 3027.9 2498.42 3029.01 Q2497.42 3030.09 2495.67 3030.09 Q2494.82 3030.09 2494.38 3029.94 Q2495.38 3033.42 2498.42 3035.94 Q2501.49 3038.46 2505.53 3038.46 Q2510.61 3038.46 2513.65 3033.53 Q2515.46 3030.35 2515.46 3023.12 Q2515.46 3016.75 2514.09 3013.56 Q2511.98 3008.71 2507.64 3008.71 Q2501.49 3008.71 2497.86 3014.01 Q2497.42 3014.67 2496.9 3014.71 Q2496.16 3014.71 2495.97 3014.3 Q2495.82 3013.86 2495.82 3012.71 L2495.82 2990.25 Q2495.82 2988.44 2496.56 2988.44 Q2496.86 2988.44 2497.49 2988.66 Q2502.27 2990.77 2507.57 2990.81 Q2513.02 2990.81 2517.91 2988.59 Q2518.28 2988.36 2518.5 2988.36 Q2519.24 2988.36 2519.28 2989.22 Q2519.28 2989.51 2518.65 2990.4 Q2518.06 2991.25 2516.76 2992.4 Q2515.46 2993.52 2513.79 2994.59 Q2512.13 2995.66 2509.68 2996.41 Q2507.27 2997.11 2504.6 2997.11 Q2501.42 2997.11 2498.16 2996.11 L2498.16 3010.89 Q2502.08 3007.04 2507.79 3007.04 Q2513.87 3007.04 2518.06 3011.93 Q2522.24 3016.82 2522.24 3023.64 Q2522.24 3030.79 2517.28 3035.68 Q2512.35 3040.58 2505.68 3040.58 Q2499.6 3040.58 2495.75 3036.24 Q2491.93 3031.9 2491.93 3026.68 Z\" fill=\"#000000\" fill-rule=\"evenodd\" fill-opacity=\"1\" /><path clip-path=\"url(#clip540)\" d=\"M2529.06 3014.64 Q2529.06 3003.48 2531.88 2997.41 Q2535.8 2988.36 2545.07 2988.36 Q2547.03 2988.36 2549.07 2988.92 Q2551.15 2989.44 2553.74 2991.48 Q2556.37 2993.52 2557.96 2996.85 Q2561 3003.3 2561 3014.64 Q2561 3025.72 2558.19 3031.76 Q2554.07 3040.58 2544.99 3040.58 Q2541.59 3040.58 2538.1 3038.83 Q2534.66 3037.09 2532.47 3032.9 Q2529.06 3026.64 2529.06 3014.64 M2535.36 3013.71 Q2535.36 3025.16 2536.18 3029.72 Q2537.1 3034.65 2539.62 3036.8 Q2542.18 3038.91 2544.99 3038.91 Q2548.03 3038.91 2550.55 3036.65 Q2553.11 3034.35 2553.89 3029.42 Q2554.74 3024.57 2554.7 3013.71 Q2554.7 3003.15 2553.96 2998.93 Q2552.96 2994 2550.29 2992.03 Q2547.66 2990.03 2544.99 2990.03 Q2543.99 2990.03 2542.92 2990.33 Q2541.88 2990.63 2540.36 2991.48 Q2538.84 2992.33 2537.66 2994.44 Q2536.51 2996.55 2535.95 2999.74 Q2535.36 3003.85 2535.36 3013.71 Z\" fill=\"#000000\" fill-rule=\"evenodd\" fill-opacity=\"1\" /><polyline clip-path=\"url(#clip542)\" style=\"stroke:#000000; stroke-linecap:round; stroke-linejoin:round; stroke-width:2.8; stroke-opacity:0.4; fill:none\" points=\"309.947,2443.53 3042.52,2443.53 \"/>\n",
       "<polyline clip-path=\"url(#clip542)\" style=\"stroke:#000000; stroke-linecap:round; stroke-linejoin:round; stroke-width:2.8; stroke-opacity:0.4; fill:none\" points=\"309.947,1938.55 3042.52,1938.55 \"/>\n",
       "<polyline clip-path=\"url(#clip542)\" style=\"stroke:#000000; stroke-linecap:round; stroke-linejoin:round; stroke-width:2.8; stroke-opacity:0.4; fill:none\" points=\"309.947,1433.57 3042.52,1433.57 \"/>\n",
       "<polyline clip-path=\"url(#clip542)\" style=\"stroke:#000000; stroke-linecap:round; stroke-linejoin:round; stroke-width:2.8; stroke-opacity:0.4; fill:none\" points=\"309.947,928.591 3042.52,928.591 \"/>\n",
       "<polyline clip-path=\"url(#clip542)\" style=\"stroke:#000000; stroke-linecap:round; stroke-linejoin:round; stroke-width:2.8; stroke-opacity:0.4; fill:none\" points=\"309.947,423.612 3042.52,423.612 \"/>\n",
       "<polyline clip-path=\"url(#clip542)\" style=\"stroke:#000000; stroke-linecap:round; stroke-linejoin:round; stroke-width:2; stroke-opacity:0.06; fill:none\" points=\"309.947,2847.51 3042.52,2847.51 \"/>\n",
       "<polyline clip-path=\"url(#clip542)\" style=\"stroke:#000000; stroke-linecap:round; stroke-linejoin:round; stroke-width:2; stroke-opacity:0.06; fill:none\" points=\"309.947,2746.52 3042.52,2746.52 \"/>\n",
       "<polyline clip-path=\"url(#clip542)\" style=\"stroke:#000000; stroke-linecap:round; stroke-linejoin:round; stroke-width:2; stroke-opacity:0.06; fill:none\" points=\"309.947,2645.52 3042.52,2645.52 \"/>\n",
       "<polyline clip-path=\"url(#clip542)\" style=\"stroke:#000000; stroke-linecap:round; stroke-linejoin:round; stroke-width:2; stroke-opacity:0.06; fill:none\" points=\"309.947,2544.52 3042.52,2544.52 \"/>\n",
       "<polyline clip-path=\"url(#clip542)\" style=\"stroke:#000000; stroke-linecap:round; stroke-linejoin:round; stroke-width:2; stroke-opacity:0.06; fill:none\" points=\"309.947,2342.53 3042.52,2342.53 \"/>\n",
       "<polyline clip-path=\"url(#clip542)\" style=\"stroke:#000000; stroke-linecap:round; stroke-linejoin:round; stroke-width:2; stroke-opacity:0.06; fill:none\" points=\"309.947,2241.54 3042.52,2241.54 \"/>\n",
       "<polyline clip-path=\"url(#clip542)\" style=\"stroke:#000000; stroke-linecap:round; stroke-linejoin:round; stroke-width:2; stroke-opacity:0.06; fill:none\" points=\"309.947,2140.54 3042.52,2140.54 \"/>\n",
       "<polyline clip-path=\"url(#clip542)\" style=\"stroke:#000000; stroke-linecap:round; stroke-linejoin:round; stroke-width:2; stroke-opacity:0.06; fill:none\" points=\"309.947,2039.55 3042.52,2039.55 \"/>\n",
       "<polyline clip-path=\"url(#clip542)\" style=\"stroke:#000000; stroke-linecap:round; stroke-linejoin:round; stroke-width:2; stroke-opacity:0.06; fill:none\" points=\"309.947,1837.55 3042.52,1837.55 \"/>\n",
       "<polyline clip-path=\"url(#clip542)\" style=\"stroke:#000000; stroke-linecap:round; stroke-linejoin:round; stroke-width:2; stroke-opacity:0.06; fill:none\" points=\"309.947,1736.56 3042.52,1736.56 \"/>\n",
       "<polyline clip-path=\"url(#clip542)\" style=\"stroke:#000000; stroke-linecap:round; stroke-linejoin:round; stroke-width:2; stroke-opacity:0.06; fill:none\" points=\"309.947,1635.56 3042.52,1635.56 \"/>\n",
       "<polyline clip-path=\"url(#clip542)\" style=\"stroke:#000000; stroke-linecap:round; stroke-linejoin:round; stroke-width:2; stroke-opacity:0.06; fill:none\" points=\"309.947,1534.57 3042.52,1534.57 \"/>\n",
       "<polyline clip-path=\"url(#clip542)\" style=\"stroke:#000000; stroke-linecap:round; stroke-linejoin:round; stroke-width:2; stroke-opacity:0.06; fill:none\" points=\"309.947,1332.57 3042.52,1332.57 \"/>\n",
       "<polyline clip-path=\"url(#clip542)\" style=\"stroke:#000000; stroke-linecap:round; stroke-linejoin:round; stroke-width:2; stroke-opacity:0.06; fill:none\" points=\"309.947,1231.58 3042.52,1231.58 \"/>\n",
       "<polyline clip-path=\"url(#clip542)\" style=\"stroke:#000000; stroke-linecap:round; stroke-linejoin:round; stroke-width:2; stroke-opacity:0.06; fill:none\" points=\"309.947,1130.58 3042.52,1130.58 \"/>\n",
       "<polyline clip-path=\"url(#clip542)\" style=\"stroke:#000000; stroke-linecap:round; stroke-linejoin:round; stroke-width:2; stroke-opacity:0.06; fill:none\" points=\"309.947,1029.59 3042.52,1029.59 \"/>\n",
       "<polyline clip-path=\"url(#clip542)\" style=\"stroke:#000000; stroke-linecap:round; stroke-linejoin:round; stroke-width:2; stroke-opacity:0.06; fill:none\" points=\"309.947,827.595 3042.52,827.595 \"/>\n",
       "<polyline clip-path=\"url(#clip542)\" style=\"stroke:#000000; stroke-linecap:round; stroke-linejoin:round; stroke-width:2; stroke-opacity:0.06; fill:none\" points=\"309.947,726.599 3042.52,726.599 \"/>\n",
       "<polyline clip-path=\"url(#clip542)\" style=\"stroke:#000000; stroke-linecap:round; stroke-linejoin:round; stroke-width:2; stroke-opacity:0.06; fill:none\" points=\"309.947,625.604 3042.52,625.604 \"/>\n",
       "<polyline clip-path=\"url(#clip542)\" style=\"stroke:#000000; stroke-linecap:round; stroke-linejoin:round; stroke-width:2; stroke-opacity:0.06; fill:none\" points=\"309.947,524.608 3042.52,524.608 \"/>\n",
       "<polyline clip-path=\"url(#clip542)\" style=\"stroke:#000000; stroke-linecap:round; stroke-linejoin:round; stroke-width:2; stroke-opacity:0.06; fill:none\" points=\"309.947,322.616 3042.52,322.616 \"/>\n",
       "<polyline clip-path=\"url(#clip542)\" style=\"stroke:#000000; stroke-linecap:round; stroke-linejoin:round; stroke-width:2; stroke-opacity:0.06; fill:none\" points=\"309.947,221.62 3042.52,221.62 \"/>\n",
       "<polyline clip-path=\"url(#clip542)\" style=\"stroke:#000000; stroke-linecap:round; stroke-linejoin:round; stroke-width:2; stroke-opacity:0.06; fill:none\" points=\"309.947,120.624 3042.52,120.624 \"/>\n",
       "<polyline clip-path=\"url(#clip540)\" style=\"stroke:#000000; stroke-linecap:round; stroke-linejoin:round; stroke-width:4; stroke-opacity:1; fill:none\" points=\"309.947,2948.51 309.947,94.4882 \"/>\n",
       "<polyline clip-path=\"url(#clip540)\" style=\"stroke:#000000; stroke-linecap:round; stroke-linejoin:round; stroke-width:4; stroke-opacity:1; fill:none\" points=\"3042.52,2948.51 3042.52,94.4882 \"/>\n",
       "<polyline clip-path=\"url(#clip540)\" style=\"stroke:#000000; stroke-linecap:round; stroke-linejoin:round; stroke-width:4; stroke-opacity:1; fill:none\" points=\"309.947,2443.53 328.845,2443.53 \"/>\n",
       "<polyline clip-path=\"url(#clip540)\" style=\"stroke:#000000; stroke-linecap:round; stroke-linejoin:round; stroke-width:4; stroke-opacity:1; fill:none\" points=\"309.947,1938.55 328.845,1938.55 \"/>\n",
       "<polyline clip-path=\"url(#clip540)\" style=\"stroke:#000000; stroke-linecap:round; stroke-linejoin:round; stroke-width:4; stroke-opacity:1; fill:none\" points=\"309.947,1433.57 328.845,1433.57 \"/>\n",
       "<polyline clip-path=\"url(#clip540)\" style=\"stroke:#000000; stroke-linecap:round; stroke-linejoin:round; stroke-width:4; stroke-opacity:1; fill:none\" points=\"309.947,928.591 328.845,928.591 \"/>\n",
       "<polyline clip-path=\"url(#clip540)\" style=\"stroke:#000000; stroke-linecap:round; stroke-linejoin:round; stroke-width:4; stroke-opacity:1; fill:none\" points=\"309.947,423.612 328.845,423.612 \"/>\n",
       "<polyline clip-path=\"url(#clip540)\" style=\"stroke:#000000; stroke-linecap:round; stroke-linejoin:round; stroke-width:4; stroke-opacity:1; fill:none\" points=\"309.947,2847.51 319.396,2847.51 \"/>\n",
       "<polyline clip-path=\"url(#clip540)\" style=\"stroke:#000000; stroke-linecap:round; stroke-linejoin:round; stroke-width:4; stroke-opacity:1; fill:none\" points=\"309.947,2746.52 319.396,2746.52 \"/>\n",
       "<polyline clip-path=\"url(#clip540)\" style=\"stroke:#000000; stroke-linecap:round; stroke-linejoin:round; stroke-width:4; stroke-opacity:1; fill:none\" points=\"309.947,2645.52 319.396,2645.52 \"/>\n",
       "<polyline clip-path=\"url(#clip540)\" style=\"stroke:#000000; stroke-linecap:round; stroke-linejoin:round; stroke-width:4; stroke-opacity:1; fill:none\" points=\"309.947,2544.52 319.396,2544.52 \"/>\n",
       "<polyline clip-path=\"url(#clip540)\" style=\"stroke:#000000; stroke-linecap:round; stroke-linejoin:round; stroke-width:4; stroke-opacity:1; fill:none\" points=\"309.947,2342.53 319.396,2342.53 \"/>\n",
       "<polyline clip-path=\"url(#clip540)\" style=\"stroke:#000000; stroke-linecap:round; stroke-linejoin:round; stroke-width:4; stroke-opacity:1; fill:none\" points=\"309.947,2241.54 319.396,2241.54 \"/>\n",
       "<polyline clip-path=\"url(#clip540)\" style=\"stroke:#000000; stroke-linecap:round; stroke-linejoin:round; stroke-width:4; stroke-opacity:1; fill:none\" points=\"309.947,2140.54 319.396,2140.54 \"/>\n",
       "<polyline clip-path=\"url(#clip540)\" style=\"stroke:#000000; stroke-linecap:round; stroke-linejoin:round; stroke-width:4; stroke-opacity:1; fill:none\" points=\"309.947,2039.55 319.396,2039.55 \"/>\n",
       "<polyline clip-path=\"url(#clip540)\" style=\"stroke:#000000; stroke-linecap:round; stroke-linejoin:round; stroke-width:4; stroke-opacity:1; fill:none\" points=\"309.947,1837.55 319.396,1837.55 \"/>\n",
       "<polyline clip-path=\"url(#clip540)\" style=\"stroke:#000000; stroke-linecap:round; stroke-linejoin:round; stroke-width:4; stroke-opacity:1; fill:none\" points=\"309.947,1736.56 319.396,1736.56 \"/>\n",
       "<polyline clip-path=\"url(#clip540)\" style=\"stroke:#000000; stroke-linecap:round; stroke-linejoin:round; stroke-width:4; stroke-opacity:1; fill:none\" points=\"309.947,1635.56 319.396,1635.56 \"/>\n",
       "<polyline clip-path=\"url(#clip540)\" style=\"stroke:#000000; stroke-linecap:round; stroke-linejoin:round; stroke-width:4; stroke-opacity:1; fill:none\" points=\"309.947,1534.57 319.396,1534.57 \"/>\n",
       "<polyline clip-path=\"url(#clip540)\" style=\"stroke:#000000; stroke-linecap:round; stroke-linejoin:round; stroke-width:4; stroke-opacity:1; fill:none\" points=\"309.947,1332.57 319.396,1332.57 \"/>\n",
       "<polyline clip-path=\"url(#clip540)\" style=\"stroke:#000000; stroke-linecap:round; stroke-linejoin:round; stroke-width:4; stroke-opacity:1; fill:none\" points=\"309.947,1231.58 319.396,1231.58 \"/>\n",
       "<polyline clip-path=\"url(#clip540)\" style=\"stroke:#000000; stroke-linecap:round; stroke-linejoin:round; stroke-width:4; stroke-opacity:1; fill:none\" points=\"309.947,1130.58 319.396,1130.58 \"/>\n",
       "<polyline clip-path=\"url(#clip540)\" style=\"stroke:#000000; stroke-linecap:round; stroke-linejoin:round; stroke-width:4; stroke-opacity:1; fill:none\" points=\"309.947,1029.59 319.396,1029.59 \"/>\n",
       "<polyline clip-path=\"url(#clip540)\" style=\"stroke:#000000; stroke-linecap:round; stroke-linejoin:round; stroke-width:4; stroke-opacity:1; fill:none\" points=\"309.947,827.595 319.396,827.595 \"/>\n",
       "<polyline clip-path=\"url(#clip540)\" style=\"stroke:#000000; stroke-linecap:round; stroke-linejoin:round; stroke-width:4; stroke-opacity:1; fill:none\" points=\"309.947,726.599 319.396,726.599 \"/>\n",
       "<polyline clip-path=\"url(#clip540)\" style=\"stroke:#000000; stroke-linecap:round; stroke-linejoin:round; stroke-width:4; stroke-opacity:1; fill:none\" points=\"309.947,625.604 319.396,625.604 \"/>\n",
       "<polyline clip-path=\"url(#clip540)\" style=\"stroke:#000000; stroke-linecap:round; stroke-linejoin:round; stroke-width:4; stroke-opacity:1; fill:none\" points=\"309.947,524.608 319.396,524.608 \"/>\n",
       "<polyline clip-path=\"url(#clip540)\" style=\"stroke:#000000; stroke-linecap:round; stroke-linejoin:round; stroke-width:4; stroke-opacity:1; fill:none\" points=\"309.947,322.616 319.396,322.616 \"/>\n",
       "<polyline clip-path=\"url(#clip540)\" style=\"stroke:#000000; stroke-linecap:round; stroke-linejoin:round; stroke-width:4; stroke-opacity:1; fill:none\" points=\"309.947,221.62 319.396,221.62 \"/>\n",
       "<polyline clip-path=\"url(#clip540)\" style=\"stroke:#000000; stroke-linecap:round; stroke-linejoin:round; stroke-width:4; stroke-opacity:1; fill:none\" points=\"309.947,120.624 319.396,120.624 \"/>\n",
       "<path clip-path=\"url(#clip540)\" d=\"M95.9037 2445.18 Q95.9037 2434.02 98.7199 2427.95 Q102.648 2418.91 111.911 2418.91 Q113.875 2418.91 115.913 2419.46 Q117.989 2419.98 120.582 2422.02 Q123.213 2424.06 124.807 2427.39 Q127.845 2433.84 127.845 2445.18 Q127.845 2456.26 125.029 2462.3 Q120.916 2471.12 111.837 2471.12 Q108.428 2471.12 104.945 2469.37 Q101.499 2467.63 99.3128 2463.45 Q95.9037 2457.18 95.9037 2445.18 M102.203 2444.25 Q102.203 2455.7 103.018 2460.26 Q103.945 2465.19 106.464 2467.34 Q109.021 2469.45 111.837 2469.45 Q114.876 2469.45 117.396 2467.19 Q119.952 2464.89 120.731 2459.96 Q121.583 2455.11 121.546 2444.25 Q121.546 2433.69 120.805 2429.47 Q119.804 2424.54 117.136 2422.57 Q114.505 2420.57 111.837 2420.57 Q110.837 2420.57 109.762 2420.87 Q108.725 2421.17 107.205 2422.02 Q105.686 2422.87 104.5 2424.98 Q103.352 2427.09 102.796 2430.28 Q102.203 2434.39 102.203 2444.25 Z\" fill=\"#000000\" fill-rule=\"evenodd\" fill-opacity=\"1\" /><path clip-path=\"url(#clip540)\" d=\"M138.48 2468.23 Q137.331 2467 137.331 2465.41 Q137.331 2463.82 138.48 2462.67 Q139.629 2461.48 141.37 2461.48 Q143.038 2461.48 144.149 2462.59 Q145.298 2463.67 145.298 2465.45 Q145.298 2467.19 144.075 2468.34 Q142.889 2469.45 141.37 2469.45 Q139.629 2469.45 138.48 2468.23 Z\" fill=\"#000000\" fill-rule=\"evenodd\" fill-opacity=\"1\" /><path clip-path=\"url(#clip540)\" d=\"M154.932 2445.18 Q154.932 2434.02 157.749 2427.95 Q161.676 2418.91 170.94 2418.91 Q172.904 2418.91 174.942 2419.46 Q177.017 2419.98 179.611 2422.02 Q182.242 2424.06 183.835 2427.39 Q186.874 2433.84 186.874 2445.18 Q186.874 2456.26 184.058 2462.3 Q179.945 2471.12 170.866 2471.12 Q167.457 2471.12 163.974 2469.37 Q160.528 2467.63 158.341 2463.45 Q154.932 2457.18 154.932 2445.18 M161.232 2444.25 Q161.232 2455.7 162.047 2460.26 Q162.973 2465.19 165.493 2467.34 Q168.05 2469.45 170.866 2469.45 Q173.905 2469.45 176.424 2467.19 Q178.981 2464.89 179.759 2459.96 Q180.612 2455.11 180.574 2444.25 Q180.574 2433.69 179.833 2429.47 Q178.833 2424.54 176.165 2422.57 Q173.534 2420.57 170.866 2420.57 Q169.866 2420.57 168.791 2420.87 Q167.753 2421.17 166.234 2422.02 Q164.715 2422.87 163.529 2424.98 Q162.38 2427.09 161.825 2430.28 Q161.232 2434.39 161.232 2444.25 Z\" fill=\"#000000\" fill-rule=\"evenodd\" fill-opacity=\"1\" /><path clip-path=\"url(#clip540)\" d=\"M192.877 2445.18 Q192.877 2434.02 195.693 2427.95 Q199.621 2418.91 208.885 2418.91 Q210.848 2418.91 212.886 2419.46 Q214.962 2419.98 217.555 2422.02 Q220.186 2424.06 221.78 2427.39 Q224.818 2433.84 224.818 2445.18 Q224.818 2456.26 222.002 2462.3 Q217.889 2471.12 208.81 2471.12 Q205.401 2471.12 201.918 2469.37 Q198.472 2467.63 196.286 2463.45 Q192.877 2457.18 192.877 2445.18 M199.176 2444.25 Q199.176 2455.7 199.991 2460.26 Q200.918 2465.19 203.437 2467.34 Q205.994 2469.45 208.81 2469.45 Q211.849 2469.45 214.369 2467.19 Q216.925 2464.89 217.704 2459.96 Q218.556 2455.11 218.519 2444.25 Q218.519 2433.69 217.778 2429.47 Q216.777 2424.54 214.109 2422.57 Q211.478 2420.57 208.81 2420.57 Q207.81 2420.57 206.735 2420.87 Q205.698 2421.17 204.179 2422.02 Q202.659 2422.87 201.474 2424.98 Q200.325 2427.09 199.769 2430.28 Q199.176 2434.39 199.176 2444.25 Z\" fill=\"#000000\" fill-rule=\"evenodd\" fill-opacity=\"1\" /><path clip-path=\"url(#clip540)\" d=\"M231.636 2469.45 Q231.636 2468.08 231.747 2467.67 Q231.896 2467.26 232.489 2466.63 L247.051 2450.4 Q255.018 2441.44 255.018 2433.62 Q255.018 2428.54 252.35 2424.91 Q249.719 2421.28 244.865 2421.28 Q241.53 2421.28 238.714 2423.32 Q235.898 2425.35 234.601 2428.98 Q234.823 2428.91 235.601 2428.91 Q237.491 2428.91 238.529 2430.1 Q239.603 2431.28 239.603 2432.88 Q239.603 2434.91 238.269 2435.91 Q236.972 2436.88 235.675 2436.88 Q235.157 2436.88 234.452 2436.77 Q233.785 2436.65 232.711 2435.62 Q231.636 2434.54 231.636 2432.65 Q231.636 2427.35 235.638 2423.13 Q239.677 2418.91 245.828 2418.91 Q252.795 2418.91 257.353 2423.06 Q261.947 2427.17 261.947 2433.62 Q261.947 2435.88 261.243 2437.95 Q260.576 2439.99 259.65 2441.58 Q258.761 2443.18 256.315 2445.73 Q253.869 2448.29 251.905 2450.11 Q249.941 2451.92 245.532 2455.78 L237.491 2463.59 L251.164 2463.59 Q257.834 2463.59 258.353 2463 Q259.094 2461.93 260.02 2456.26 L261.947 2456.26 L259.798 2469.45 L231.636 2469.45 Z\" fill=\"#000000\" fill-rule=\"evenodd\" fill-opacity=\"1\" /><path clip-path=\"url(#clip540)\" d=\"M94.2362 1940.2 Q94.2362 1929.04 97.0524 1922.97 Q100.98 1913.93 110.244 1913.93 Q112.208 1913.93 114.246 1914.48 Q116.321 1915 118.915 1917.04 Q121.546 1919.08 123.139 1922.41 Q126.178 1928.86 126.178 1940.2 Q126.178 1951.28 123.361 1957.32 Q119.248 1966.14 110.17 1966.14 Q106.761 1966.14 103.278 1964.4 Q99.8315 1962.65 97.6453 1958.47 Q94.2362 1952.2 94.2362 1940.2 M100.536 1939.27 Q100.536 1950.72 101.351 1955.28 Q102.277 1960.21 104.797 1962.36 Q107.354 1964.47 110.17 1964.47 Q113.208 1964.47 115.728 1962.21 Q118.285 1959.91 119.063 1954.98 Q119.915 1950.13 119.878 1939.27 Q119.878 1928.71 119.137 1924.49 Q118.137 1919.56 115.469 1917.59 Q112.838 1915.59 110.17 1915.59 Q109.169 1915.59 108.095 1915.89 Q107.057 1916.19 105.538 1917.04 Q104.019 1917.89 102.833 1920 Q101.684 1922.12 101.128 1925.3 Q100.536 1929.42 100.536 1939.27 Z\" fill=\"#000000\" fill-rule=\"evenodd\" fill-opacity=\"1\" /><path clip-path=\"url(#clip540)\" d=\"M136.812 1963.25 Q135.664 1962.02 135.664 1960.43 Q135.664 1958.84 136.812 1957.69 Q137.961 1956.5 139.703 1956.5 Q141.37 1956.5 142.482 1957.61 Q143.631 1958.69 143.631 1960.47 Q143.631 1962.21 142.408 1963.36 Q141.222 1964.47 139.703 1964.47 Q137.961 1964.47 136.812 1963.25 Z\" fill=\"#000000\" fill-rule=\"evenodd\" fill-opacity=\"1\" /><path clip-path=\"url(#clip540)\" d=\"M153.265 1940.2 Q153.265 1929.04 156.081 1922.97 Q160.009 1913.93 169.273 1913.93 Q171.237 1913.93 173.275 1914.48 Q175.35 1915 177.944 1917.04 Q180.574 1919.08 182.168 1922.41 Q185.206 1928.86 185.206 1940.2 Q185.206 1951.28 182.39 1957.32 Q178.277 1966.14 169.199 1966.14 Q165.79 1966.14 162.306 1964.4 Q158.86 1962.65 156.674 1958.47 Q153.265 1952.2 153.265 1940.2 M159.564 1939.27 Q159.564 1950.72 160.379 1955.28 Q161.306 1960.21 163.826 1962.36 Q166.382 1964.47 169.199 1964.47 Q172.237 1964.47 174.757 1962.21 Q177.314 1959.91 178.092 1954.98 Q178.944 1950.13 178.907 1939.27 Q178.907 1928.71 178.166 1924.49 Q177.165 1919.56 174.497 1917.59 Q171.867 1915.59 169.199 1915.59 Q168.198 1915.59 167.123 1915.89 Q166.086 1916.19 164.567 1917.04 Q163.047 1917.89 161.862 1920 Q160.713 1922.12 160.157 1925.3 Q159.564 1929.42 159.564 1939.27 Z\" fill=\"#000000\" fill-rule=\"evenodd\" fill-opacity=\"1\" /><path clip-path=\"url(#clip540)\" d=\"M191.209 1940.2 Q191.209 1929.04 194.025 1922.97 Q197.953 1913.93 207.217 1913.93 Q209.181 1913.93 211.219 1914.48 Q213.294 1915 215.888 1917.04 Q218.519 1919.08 220.112 1922.41 Q223.151 1928.86 223.151 1940.2 Q223.151 1951.28 220.335 1957.32 Q216.221 1966.14 207.143 1966.14 Q203.734 1966.14 200.251 1964.4 Q196.805 1962.65 194.618 1958.47 Q191.209 1952.2 191.209 1940.2 M197.509 1939.27 Q197.509 1950.72 198.324 1955.28 Q199.25 1960.21 201.77 1962.36 Q204.327 1964.47 207.143 1964.47 Q210.181 1964.47 212.701 1962.21 Q215.258 1959.91 216.036 1954.98 Q216.888 1950.13 216.851 1939.27 Q216.851 1928.71 216.11 1924.49 Q215.11 1919.56 212.442 1917.59 Q209.811 1915.59 207.143 1915.59 Q206.142 1915.59 205.068 1915.89 Q204.03 1916.19 202.511 1917.04 Q200.992 1917.89 199.806 1920 Q198.657 1922.12 198.101 1925.3 Q197.509 1929.42 197.509 1939.27 Z\" fill=\"#000000\" fill-rule=\"evenodd\" fill-opacity=\"1\" /><path clip-path=\"url(#clip540)\" d=\"M228.301 1951.94 L228.301 1949.61 L251.609 1914 Q252.202 1913.07 253.128 1913.11 Q253.98 1913.11 254.166 1913.44 Q254.351 1913.78 254.351 1915.08 L254.351 1949.61 L261.947 1949.61 L261.947 1951.94 L254.351 1951.94 L254.351 1958.54 Q254.351 1960.73 255.24 1961.43 Q256.167 1962.14 260.095 1962.14 L261.688 1962.14 L261.688 1964.47 Q258.575 1964.25 251.387 1964.25 Q244.235 1964.25 241.122 1964.47 L241.122 1962.14 L242.716 1962.14 Q246.644 1962.14 247.57 1961.47 Q248.496 1960.76 248.496 1958.54 L248.496 1951.94 L228.301 1951.94 M230.451 1949.61 L248.941 1949.61 L248.941 1921.3 L230.451 1949.61 Z\" fill=\"#000000\" fill-rule=\"evenodd\" fill-opacity=\"1\" /><path clip-path=\"url(#clip540)\" d=\"M95.3108 1435.22 Q95.3108 1424.07 98.127 1417.99 Q102.055 1408.95 111.319 1408.95 Q113.283 1408.95 115.321 1409.5 Q117.396 1410.02 119.989 1412.06 Q122.62 1414.1 124.214 1417.43 Q127.252 1423.88 127.252 1435.22 Q127.252 1446.3 124.436 1452.34 Q120.323 1461.16 111.244 1461.16 Q107.835 1461.16 104.352 1459.42 Q100.906 1457.67 98.7199 1453.49 Q95.3108 1447.23 95.3108 1435.22 M101.61 1434.29 Q101.61 1445.74 102.425 1450.3 Q103.352 1455.23 105.872 1457.38 Q108.428 1459.49 111.244 1459.49 Q114.283 1459.49 116.803 1457.23 Q119.36 1454.93 120.138 1450 Q120.99 1445.15 120.953 1434.29 Q120.953 1423.73 120.212 1419.51 Q119.211 1414.58 116.543 1412.62 Q113.912 1410.61 111.244 1410.61 Q110.244 1410.61 109.169 1410.91 Q108.132 1411.21 106.613 1412.06 Q105.093 1412.91 103.908 1415.02 Q102.759 1417.14 102.203 1420.32 Q101.61 1424.44 101.61 1434.29 Z\" fill=\"#000000\" fill-rule=\"evenodd\" fill-opacity=\"1\" /><path clip-path=\"url(#clip540)\" d=\"M137.887 1458.27 Q136.738 1457.04 136.738 1455.45 Q136.738 1453.86 137.887 1452.71 Q139.036 1451.52 140.777 1451.52 Q142.445 1451.52 143.556 1452.64 Q144.705 1453.71 144.705 1455.49 Q144.705 1457.23 143.482 1458.38 Q142.297 1459.49 140.777 1459.49 Q139.036 1459.49 137.887 1458.27 Z\" fill=\"#000000\" fill-rule=\"evenodd\" fill-opacity=\"1\" /><path clip-path=\"url(#clip540)\" d=\"M154.339 1435.22 Q154.339 1424.07 157.156 1417.99 Q161.084 1408.95 170.347 1408.95 Q172.311 1408.95 174.349 1409.5 Q176.424 1410.02 179.018 1412.06 Q181.649 1414.1 183.242 1417.43 Q186.281 1423.88 186.281 1435.22 Q186.281 1446.3 183.465 1452.34 Q179.352 1461.16 170.273 1461.16 Q166.864 1461.16 163.381 1459.42 Q159.935 1457.67 157.749 1453.49 Q154.339 1447.23 154.339 1435.22 M160.639 1434.29 Q160.639 1445.74 161.454 1450.3 Q162.38 1455.23 164.9 1457.38 Q167.457 1459.49 170.273 1459.49 Q173.312 1459.49 175.831 1457.23 Q178.388 1454.93 179.166 1450 Q180.019 1445.15 179.982 1434.29 Q179.982 1423.73 179.24 1419.51 Q178.24 1414.58 175.572 1412.62 Q172.941 1410.61 170.273 1410.61 Q169.273 1410.61 168.198 1410.91 Q167.161 1411.21 165.641 1412.06 Q164.122 1412.91 162.936 1415.02 Q161.788 1417.14 161.232 1420.32 Q160.639 1424.44 160.639 1434.29 Z\" fill=\"#000000\" fill-rule=\"evenodd\" fill-opacity=\"1\" /><path clip-path=\"url(#clip540)\" d=\"M192.284 1435.22 Q192.284 1424.07 195.1 1417.99 Q199.028 1408.95 208.292 1408.95 Q210.256 1408.95 212.294 1409.5 Q214.369 1410.02 216.963 1412.06 Q219.593 1414.1 221.187 1417.43 Q224.225 1423.88 224.225 1435.22 Q224.225 1446.3 221.409 1452.34 Q217.296 1461.16 208.218 1461.16 Q204.808 1461.16 201.325 1459.42 Q197.879 1457.67 195.693 1453.49 Q192.284 1447.23 192.284 1435.22 M198.583 1434.29 Q198.583 1445.74 199.398 1450.3 Q200.325 1455.23 202.845 1457.38 Q205.401 1459.49 208.218 1459.49 Q211.256 1459.49 213.776 1457.23 Q216.333 1454.93 217.111 1450 Q217.963 1445.15 217.926 1434.29 Q217.926 1423.73 217.185 1419.51 Q216.184 1414.58 213.516 1412.62 Q210.885 1410.61 208.218 1410.61 Q207.217 1410.61 206.142 1410.91 Q205.105 1411.21 203.586 1412.06 Q202.066 1412.91 200.881 1415.02 Q199.732 1417.14 199.176 1420.32 Q198.583 1424.44 198.583 1434.29 Z\" fill=\"#000000\" fill-rule=\"evenodd\" fill-opacity=\"1\" /><path clip-path=\"url(#clip540)\" d=\"M230.451 1435.52 Q230.451 1423.58 236.528 1416.28 Q242.605 1408.95 250.423 1408.95 Q254.981 1408.95 257.501 1411.28 Q260.058 1413.58 260.058 1417.14 Q260.058 1419.1 258.909 1419.95 Q257.76 1420.8 256.574 1420.8 Q255.203 1420.8 254.129 1419.88 Q253.054 1418.95 253.054 1417.28 Q253.054 1413.88 257.241 1413.88 Q255.277 1410.84 250.571 1410.84 Q249.126 1410.84 247.644 1411.28 Q246.162 1411.69 244.235 1413.1 Q242.308 1414.51 240.826 1416.73 Q239.344 1418.95 238.306 1423.14 Q237.269 1427.33 237.269 1432.77 L237.269 1434.59 Q240.381 1427.07 246.755 1427.1 Q253.128 1427.1 257.538 1431.96 Q261.947 1436.81 261.947 1444 Q261.947 1451.38 257.353 1456.27 Q252.758 1461.16 246.31 1461.16 Q243.42 1461.16 240.789 1459.93 Q238.195 1458.75 235.749 1456.01 Q233.341 1453.27 231.896 1448 Q230.451 1442.74 230.451 1435.52 M237.417 1442.33 Q237.417 1449.78 238.788 1453.34 Q239.01 1453.93 239.492 1454.75 Q240.011 1455.56 240.863 1456.64 Q241.752 1457.67 243.197 1458.38 Q244.643 1459.05 246.31 1459.05 Q251.387 1459.05 253.832 1454.12 Q255.129 1451.38 255.129 1443.93 Q255.129 1436.33 253.758 1433.55 Q251.424 1428.85 246.681 1428.85 Q243.494 1428.85 241.271 1431.03 Q239.084 1433.22 238.232 1436.15 Q237.417 1439.07 237.417 1442.33 Z\" fill=\"#000000\" fill-rule=\"evenodd\" fill-opacity=\"1\" /><path clip-path=\"url(#clip540)\" d=\"M95.3108 930.24 Q95.3108 919.086 98.127 913.009 Q102.055 903.968 111.319 903.968 Q113.283 903.968 115.321 904.524 Q117.396 905.043 119.989 907.081 Q122.62 909.119 124.214 912.454 Q127.252 918.901 127.252 930.24 Q127.252 941.319 124.436 947.359 Q120.323 956.179 111.244 956.179 Q107.835 956.179 104.352 954.437 Q100.906 952.695 98.7199 948.508 Q95.3108 942.246 95.3108 930.24 M101.61 929.314 Q101.61 940.764 102.425 945.321 Q103.352 950.25 105.872 952.399 Q108.428 954.511 111.244 954.511 Q114.283 954.511 116.803 952.251 Q119.36 949.953 120.138 945.025 Q120.99 940.171 120.953 929.314 Q120.953 918.753 120.212 914.529 Q119.211 909.6 116.543 907.636 Q113.912 905.635 111.244 905.635 Q110.244 905.635 109.169 905.932 Q108.132 906.228 106.613 907.081 Q105.093 907.933 103.908 910.045 Q102.759 912.157 102.203 915.344 Q101.61 919.457 101.61 929.314 Z\" fill=\"#000000\" fill-rule=\"evenodd\" fill-opacity=\"1\" /><path clip-path=\"url(#clip540)\" d=\"M137.887 953.288 Q136.738 952.065 136.738 950.472 Q136.738 948.879 137.887 947.73 Q139.036 946.544 140.777 946.544 Q142.445 946.544 143.556 947.656 Q144.705 948.73 144.705 950.509 Q144.705 952.251 143.482 953.399 Q142.297 954.511 140.777 954.511 Q139.036 954.511 137.887 953.288 Z\" fill=\"#000000\" fill-rule=\"evenodd\" fill-opacity=\"1\" /><path clip-path=\"url(#clip540)\" d=\"M154.339 930.24 Q154.339 919.086 157.156 913.009 Q161.084 903.968 170.347 903.968 Q172.311 903.968 174.349 904.524 Q176.424 905.043 179.018 907.081 Q181.649 909.119 183.242 912.454 Q186.281 918.901 186.281 930.24 Q186.281 941.319 183.465 947.359 Q179.352 956.179 170.273 956.179 Q166.864 956.179 163.381 954.437 Q159.935 952.695 157.749 948.508 Q154.339 942.246 154.339 930.24 M160.639 929.314 Q160.639 940.764 161.454 945.321 Q162.38 950.25 164.9 952.399 Q167.457 954.511 170.273 954.511 Q173.312 954.511 175.831 952.251 Q178.388 949.953 179.166 945.025 Q180.019 940.171 179.982 929.314 Q179.982 918.753 179.24 914.529 Q178.24 909.6 175.572 907.636 Q172.941 905.635 170.273 905.635 Q169.273 905.635 168.198 905.932 Q167.161 906.228 165.641 907.081 Q164.122 907.933 162.936 910.045 Q161.788 912.157 161.232 915.344 Q160.639 919.457 160.639 929.314 Z\" fill=\"#000000\" fill-rule=\"evenodd\" fill-opacity=\"1\" /><path clip-path=\"url(#clip540)\" d=\"M192.284 930.24 Q192.284 919.086 195.1 913.009 Q199.028 903.968 208.292 903.968 Q210.256 903.968 212.294 904.524 Q214.369 905.043 216.963 907.081 Q219.593 909.119 221.187 912.454 Q224.225 918.901 224.225 930.24 Q224.225 941.319 221.409 947.359 Q217.296 956.179 208.218 956.179 Q204.808 956.179 201.325 954.437 Q197.879 952.695 195.693 948.508 Q192.284 942.246 192.284 930.24 M198.583 929.314 Q198.583 940.764 199.398 945.321 Q200.325 950.25 202.845 952.399 Q205.401 954.511 208.218 954.511 Q211.256 954.511 213.776 952.251 Q216.333 949.953 217.111 945.025 Q217.963 940.171 217.926 929.314 Q217.926 918.753 217.185 914.529 Q216.184 909.6 213.516 907.636 Q210.885 905.635 208.218 905.635 Q207.217 905.635 206.142 905.932 Q205.105 906.228 203.586 907.081 Q202.066 907.933 200.881 910.045 Q199.732 912.157 199.176 915.344 Q198.583 919.457 198.583 929.314 Z\" fill=\"#000000\" fill-rule=\"evenodd\" fill-opacity=\"1\" /><path clip-path=\"url(#clip540)\" d=\"M230.451 943.061 Q230.451 934.575 241.382 929.091 Q236.676 925.905 235.824 924.978 Q232.489 921.273 232.489 916.641 Q232.489 911.342 236.491 907.673 Q240.53 903.968 246.236 903.968 Q251.683 903.968 255.796 907.118 Q259.909 910.267 259.909 915.27 Q259.909 922.31 250.72 927.053 Q256.797 930.833 258.242 932.426 Q261.947 936.539 261.947 941.764 Q261.947 947.841 257.278 952.028 Q252.609 956.179 246.162 956.179 Q239.863 956.179 235.157 952.51 Q230.451 948.842 230.451 943.061 M234.23 943.061 Q234.23 947.767 237.75 950.917 Q241.308 954.066 246.236 954.066 Q251.016 954.066 254.573 951.324 Q258.168 948.582 258.168 944.506 Q258.168 942.913 257.612 941.542 Q257.093 940.171 256.019 939.096 Q254.981 937.985 254.314 937.503 Q253.684 936.984 252.461 936.132 L243.123 930.24 Q234.23 935.168 234.23 943.061 M235.824 913.676 Q235.824 917.308 239.64 919.828 L249.052 925.905 Q256.574 921.495 256.574 915.27 Q256.574 911.231 253.499 908.563 Q250.423 905.858 246.162 905.858 Q241.975 905.858 238.899 908.081 Q235.824 910.267 235.824 913.676 Z\" fill=\"#000000\" fill-rule=\"evenodd\" fill-opacity=\"1\" /><path clip-path=\"url(#clip540)\" d=\"M95.0885 425.261 Q95.0885 414.107 97.9047 408.03 Q101.833 398.989 111.096 398.989 Q113.06 398.989 115.098 399.545 Q117.173 400.063 119.767 402.101 Q122.398 404.139 123.991 407.474 Q127.03 413.922 127.03 425.261 Q127.03 436.34 124.214 442.38 Q120.101 451.199 111.022 451.199 Q107.613 451.199 104.13 449.458 Q100.684 447.716 98.4975 443.529 Q95.0885 437.267 95.0885 425.261 M101.388 424.334 Q101.388 435.784 102.203 440.342 Q103.129 445.271 105.649 447.42 Q108.206 449.532 111.022 449.532 Q114.061 449.532 116.58 447.271 Q119.137 444.974 119.915 440.046 Q120.768 435.192 120.731 424.334 Q120.731 413.774 119.989 409.549 Q118.989 404.621 116.321 402.657 Q113.69 400.656 111.022 400.656 Q110.022 400.656 108.947 400.953 Q107.91 401.249 106.39 402.101 Q104.871 402.954 103.685 405.066 Q102.537 407.178 101.981 410.365 Q101.388 414.478 101.388 424.334 Z\" fill=\"#000000\" fill-rule=\"evenodd\" fill-opacity=\"1\" /><path clip-path=\"url(#clip540)\" d=\"M137.665 448.309 Q136.516 447.086 136.516 445.493 Q136.516 443.899 137.665 442.751 Q138.813 441.565 140.555 441.565 Q142.222 441.565 143.334 442.677 Q144.483 443.751 144.483 445.53 Q144.483 447.271 143.26 448.42 Q142.074 449.532 140.555 449.532 Q138.813 449.532 137.665 448.309 Z\" fill=\"#000000\" fill-rule=\"evenodd\" fill-opacity=\"1\" /><path clip-path=\"url(#clip540)\" d=\"M154.117 425.261 Q154.117 414.107 156.933 408.03 Q160.861 398.989 170.125 398.989 Q172.089 398.989 174.127 399.545 Q176.202 400.063 178.796 402.101 Q181.427 404.139 183.02 407.474 Q186.059 413.922 186.059 425.261 Q186.059 436.34 183.242 442.38 Q179.129 451.199 170.051 451.199 Q166.642 451.199 163.159 449.458 Q159.712 447.716 157.526 443.529 Q154.117 437.267 154.117 425.261 M160.417 424.334 Q160.417 435.784 161.232 440.342 Q162.158 445.271 164.678 447.42 Q167.235 449.532 170.051 449.532 Q173.089 449.532 175.609 447.271 Q178.166 444.974 178.944 440.046 Q179.796 435.192 179.759 424.334 Q179.759 413.774 179.018 409.549 Q178.018 404.621 175.35 402.657 Q172.719 400.656 170.051 400.656 Q169.05 400.656 167.976 400.953 Q166.938 401.249 165.419 402.101 Q163.9 402.954 162.714 405.066 Q161.565 407.178 161.009 410.365 Q160.417 414.478 160.417 424.334 Z\" fill=\"#000000\" fill-rule=\"evenodd\" fill-opacity=\"1\" /><path clip-path=\"url(#clip540)\" d=\"M195.841 406.215 L195.841 403.843 Q204.957 403.843 209.663 398.989 Q210.96 398.989 211.182 399.285 Q211.404 399.582 211.404 400.953 L211.404 443.529 Q211.404 445.789 212.516 446.493 Q213.628 447.197 218.482 447.197 L220.89 447.197 L220.89 449.532 Q218.222 449.31 208.588 449.31 Q198.954 449.31 196.323 449.532 L196.323 447.197 L198.731 447.197 Q203.512 447.197 204.66 446.53 Q205.809 445.826 205.809 443.529 L205.809 404.214 Q201.844 406.215 195.841 406.215 Z\" fill=\"#000000\" fill-rule=\"evenodd\" fill-opacity=\"1\" /><path clip-path=\"url(#clip540)\" d=\"M230.006 425.261 Q230.006 414.107 232.822 408.03 Q236.75 398.989 246.014 398.989 Q247.978 398.989 250.016 399.545 Q252.091 400.063 254.685 402.101 Q257.315 404.139 258.909 407.474 Q261.947 413.922 261.947 425.261 Q261.947 436.34 259.131 442.38 Q255.018 451.199 245.94 451.199 Q242.53 451.199 239.047 449.458 Q235.601 447.716 233.415 443.529 Q230.006 437.267 230.006 425.261 M236.305 424.334 Q236.305 435.784 237.12 440.342 Q238.047 445.271 240.567 447.42 Q243.123 449.532 245.94 449.532 Q248.978 449.532 251.498 447.271 Q254.055 444.974 254.833 440.046 Q255.685 435.192 255.648 424.334 Q255.648 413.774 254.907 409.549 Q253.906 404.621 251.238 402.657 Q248.608 400.656 245.94 400.656 Q244.939 400.656 243.864 400.953 Q242.827 401.249 241.308 402.101 Q239.788 402.954 238.603 405.066 Q237.454 407.178 236.898 410.365 Q236.305 414.478 236.305 424.334 Z\" fill=\"#000000\" fill-rule=\"evenodd\" fill-opacity=\"1\" /><polyline clip-path=\"url(#clip542)\" style=\"stroke:#d77255; stroke-linecap:round; stroke-linejoin:round; stroke-width:5.6; stroke-opacity:1; fill:none\" points=\"309.947,2948.51 323.679,2948.51 337.41,2948.51 351.142,2948.5 364.873,2948.48 378.605,2948.43 392.336,2948.32 406.068,2948.13 419.799,2947.83 433.531,2947.39 447.263,2946.75 460.994,2945.85 474.726,2944.69 488.457,2943.31 502.189,2941.76 515.92,2939.98 529.652,2937.77 543.383,2935.02 557.115,2931.77 570.846,2928.27 584.578,2924.73 598.309,2921.18 612.041,2917.53 625.772,2913.55 639.504,2908.85 653.235,2902.88 666.967,2895.25 680.698,2885.99 694.43,2875.6 708.161,2864.77 721.893,2854.04 735.624,2843.6 749.356,2833.14 763.087,2822.1 776.819,2810.04 790.551,2796.85 804.282,2782.74 818.014,2768.14 831.745,2753.42 845.477,2738.59 859.208,2723.15 872.94,2706.51 886.671,2688.33 900.403,2668.67 914.134,2647.77 927.866,2625.79 941.597,2602.71 955.329,2578.33 969.06,2552.67 982.792,2526.23 996.523,2499.85 1010.25,2474.08 1023.99,2448.85 1037.72,2423.61 1051.45,2397.62 1065.18,2370.31 1078.91,2341.37 1092.64,2310.8 1106.38,2278.87 1120.11,2245.86 1133.84,2211.99 1147.57,2177.4 1161.3,2142.11 1175.03,2106.05 1188.76,2069.13 1202.5,2031.51 1216.23,1993.9 1229.96,1957.53 1243.69,1923.4 1257.42,1891.26 1271.15,1859.56 1284.89,1826.31 1298.62,1789.94 1312.35,1749.73 1326.08,1706.21 1339.81,1660.98 1353.54,1615.99 1367.27,1572.45 1381.01,1530.38 1394.74,1489.05 1408.47,1447.71 1422.2,1405.6 1435.93,1362.17 1449.66,1317.97 1463.39,1274.95 1477.13,1234.84 1490.86,1197.29 1504.59,1160.28 1518.32,1121.94 1532.05,1081.71 1545.78,1040.3 1559.52,999.165 1573.25,959.713 1586.98,922.259 1600.71,885.322 1614.44,846.593 1628.17,805.132 1641.9,762.28 1655.64,720.198 1669.37,680.179 1683.1,642.64 1696.83,607.809 1710.56,575.586 1724.29,545.138 1738.03,515.397 1751.76,485.954 1765.49,457.084 1779.22,429.119 1792.95,402 1806.68,374.998 1820.41,346.918 1834.15,317.325 1847.88,287.538 1861.61,259.951 1875.34,236.493 1889.07,217.636 1902.8,202.243 1916.54,188.209 1930.27,173.628 1944,157.82 1957.73,141.803 1971.46,128.087 1985.19,119.379 1998.92,116.446 2012.66,116.922 2026.39,116.679 2040.12,112.895 2053.85,105.948 2067.58,98.7188 2081.31,94.4882 2095.04,94.9586 2108.78,99.2655 2122.51,104.92 2136.24,110.319 2149.97,116.25 2163.7,124.604 2177.43,135.921 2191.17,148.79 2204.9,161.758 2218.63,175.48 2232.36,192.447 2246.09,214.398 2259.82,240.289 2273.55,267.004 2287.29,291.893 2301.02,314.622 2314.75,336.958 2328.48,361.238 2342.21,389.175 2355.94,421.563 2369.68,458.193 2383.41,497.785 2397.14,538.595 2410.87,579.684 2424.6,621.475 2438.33,664.602 2452.06,708.349 2465.8,751.01 2479.53,792.063 2493.26,833.311 2506.99,877.545 2520.72,926.613 2534.45,980.623 2548.18,1038.13 2561.92,1096.82 2575.65,1154.62 2589.38,1210.86 2603.11,1266.47 2616.84,1322.93 2630.57,1381.31 2644.31,1442.13 2658.04,1505.84 2671.77,1572.47 2685.5,1641.19 2699.23,1710.53 2712.96,1779.08 2726.69,1846.04 2740.43,1911.59 2754.16,1977.17 2767.89,2044.78 2781.62,2115.37 2795.35,2188.1 2809.08,2261.26 2822.82,2333.55 2836.55,2404.58 2850.28,2474.81 2864.01,2545.14 2877.74,2616.31 2891.47,2687.9 2905.2,2757.55 2918.94,2820.88 2932.67,2872.67 2946.4,2909.46 2960.13,2931.49 2973.86,2942.35 2987.59,2946.69 3001.33,2948.07 3015.06,2948.43 3028.79,2948.5 3042.52,2948.51 \"/>\n",
       "<path clip-path=\"url(#clip540)\" d=\"M401.033 345.142 L744.621 345.142 L744.621 189.622 L401.033 189.622  Z\" fill=\"#ffffff\" fill-rule=\"evenodd\" fill-opacity=\"1\"/>\n",
       "<polyline clip-path=\"url(#clip540)\" style=\"stroke:#000000; stroke-linecap:round; stroke-linejoin:round; stroke-width:4; stroke-opacity:1; fill:none\" points=\"401.033,345.142 744.621,345.142 744.621,189.622 401.033,189.622 401.033,345.142 \"/>\n",
       "<polyline clip-path=\"url(#clip540)\" style=\"stroke:#d77255; stroke-linecap:round; stroke-linejoin:round; stroke-width:8.4; stroke-opacity:1; fill:none\" points=\"431.395,267.382 613.566,267.382 \"/>\n",
       "<path clip-path=\"url(#clip540)\" d=\"M643.928 302.714 Q643.928 301.121 644.855 300.269 Q645.818 299.453 647.115 299.453 Q648.486 299.453 649.375 300.306 Q650.302 301.195 650.302 302.64 Q650.302 305.456 647.337 305.827 Q648.783 307.198 650.895 307.198 Q653.155 307.198 654.971 305.53 Q656.824 303.863 657.602 302.269 Q658.417 300.676 659.566 297.786 Q660.64 295.525 661.455 293.302 L650.08 265.585 Q649.338 263.769 648.19 263.362 Q647.041 262.954 643.928 262.954 L643.928 260.583 Q647.337 260.805 651.302 260.805 Q653.637 260.805 659.566 260.583 L659.566 262.954 Q655.304 262.954 655.304 264.918 Q655.304 265.14 655.749 266.289 L664.198 286.706 L671.868 268.031 Q672.313 266.956 672.313 266.215 Q672.313 263.102 668.755 262.954 L668.755 260.583 Q673.758 260.805 675.351 260.805 Q678.464 260.805 681.02 260.583 L681.02 262.954 Q675.944 262.954 673.98 267.808 L660.603 300.194 Q656.972 308.828 650.895 308.865 Q648.004 308.865 645.966 307.087 Q643.928 305.308 643.928 302.714 Z\" fill=\"#000000\" fill-rule=\"evenodd\" fill-opacity=\"1\" /><path clip-path=\"url(#clip540)\" d=\"M689.21 249.985 L689.21 247.613 Q698.325 247.613 703.031 242.759 Q704.328 242.759 704.55 243.056 Q704.773 243.352 704.773 244.723 L704.773 287.299 Q704.773 289.56 705.884 290.264 Q706.996 290.968 711.85 290.968 L714.259 290.968 L714.259 293.302 Q711.591 293.08 701.957 293.08 Q692.322 293.08 689.691 293.302 L689.691 290.968 L692.1 290.968 Q696.88 290.968 698.029 290.301 Q699.177 289.597 699.177 287.299 L699.177 247.984 Q695.213 249.985 689.21 249.985 Z\" fill=\"#000000\" fill-rule=\"evenodd\" fill-opacity=\"1\" /></svg>\n"
      ]
     },
     "execution_count": 9,
     "metadata": {},
     "output_type": "execute_result"
    }
   ],
   "source": [
    "density(acosd.(xs))"
   ]
  },
  {
   "cell_type": "code",
   "execution_count": null,
   "id": "eb7341b3",
   "metadata": {},
   "outputs": [],
   "source": []
  }
 ],
 "metadata": {
  "kernelspec": {
   "display_name": "Julia 1.8.2",
   "language": "julia",
   "name": "julia-1.8"
  },
  "language_info": {
   "file_extension": ".jl",
   "mimetype": "application/julia",
   "name": "julia",
   "version": "1.8.2"
  }
 },
 "nbformat": 4,
 "nbformat_minor": 5
}
